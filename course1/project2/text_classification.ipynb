{
 "cells": [
  {
   "cell_type": "markdown",
   "metadata": {},
   "source": [
    "# IA classificadora de texto\n",
    "\n",
    "## Parte 0: Instalação e inicialização dos pacotes necessários"
   ]
  },
  {
   "cell_type": "code",
   "execution_count": 1,
   "metadata": {},
   "outputs": [
    {
     "name": "stdout",
     "output_type": "stream",
     "text": [
      "Requirement already satisfied: spacy in /home/fabricio/Documents/teste3/aux/lib/python3.11/site-packages (3.7.2)\n",
      "Requirement already satisfied: transformers in /home/fabricio/Documents/teste3/aux/lib/python3.11/site-packages (4.37.0)\n",
      "Requirement already satisfied: spacy-legacy<3.1.0,>=3.0.11 in /home/fabricio/Documents/teste3/aux/lib/python3.11/site-packages (from spacy) (3.0.12)\n",
      "Requirement already satisfied: spacy-loggers<2.0.0,>=1.0.0 in /home/fabricio/Documents/teste3/aux/lib/python3.11/site-packages (from spacy) (1.0.5)\n",
      "Requirement already satisfied: murmurhash<1.1.0,>=0.28.0 in /home/fabricio/Documents/teste3/aux/lib/python3.11/site-packages (from spacy) (1.0.10)\n",
      "Requirement already satisfied: cymem<2.1.0,>=2.0.2 in /home/fabricio/Documents/teste3/aux/lib/python3.11/site-packages (from spacy) (2.0.8)\n",
      "Requirement already satisfied: preshed<3.1.0,>=3.0.2 in /home/fabricio/Documents/teste3/aux/lib/python3.11/site-packages (from spacy) (3.0.9)\n",
      "Requirement already satisfied: thinc<8.3.0,>=8.1.8 in /home/fabricio/Documents/teste3/aux/lib/python3.11/site-packages (from spacy) (8.2.2)\n",
      "Requirement already satisfied: wasabi<1.2.0,>=0.9.1 in /home/fabricio/Documents/teste3/aux/lib/python3.11/site-packages (from spacy) (1.1.2)\n",
      "Requirement already satisfied: srsly<3.0.0,>=2.4.3 in /home/fabricio/Documents/teste3/aux/lib/python3.11/site-packages (from spacy) (2.4.8)\n",
      "Requirement already satisfied: catalogue<2.1.0,>=2.0.6 in /home/fabricio/Documents/teste3/aux/lib/python3.11/site-packages (from spacy) (2.0.10)\n",
      "Requirement already satisfied: weasel<0.4.0,>=0.1.0 in /home/fabricio/Documents/teste3/aux/lib/python3.11/site-packages (from spacy) (0.3.4)\n",
      "Requirement already satisfied: typer<0.10.0,>=0.3.0 in /home/fabricio/Documents/teste3/aux/lib/python3.11/site-packages (from spacy) (0.9.0)\n",
      "Requirement already satisfied: smart-open<7.0.0,>=5.2.1 in /home/fabricio/Documents/teste3/aux/lib/python3.11/site-packages (from spacy) (6.4.0)\n",
      "Requirement already satisfied: tqdm<5.0.0,>=4.38.0 in /home/fabricio/Documents/teste3/aux/lib/python3.11/site-packages (from spacy) (4.66.1)\n",
      "Requirement already satisfied: requests<3.0.0,>=2.13.0 in /home/fabricio/Documents/teste3/aux/lib/python3.11/site-packages (from spacy) (2.31.0)\n",
      "Requirement already satisfied: pydantic!=1.8,!=1.8.1,<3.0.0,>=1.7.4 in /home/fabricio/Documents/teste3/aux/lib/python3.11/site-packages (from spacy) (2.5.3)\n",
      "Requirement already satisfied: jinja2 in /home/fabricio/Documents/teste3/aux/lib/python3.11/site-packages (from spacy) (3.1.3)\n",
      "Requirement already satisfied: setuptools in /home/fabricio/Documents/teste3/aux/lib/python3.11/site-packages (from spacy) (68.2.2)\n",
      "Requirement already satisfied: packaging>=20.0 in /home/fabricio/Documents/teste3/aux/lib/python3.11/site-packages (from spacy) (23.2)\n",
      "Requirement already satisfied: langcodes<4.0.0,>=3.2.0 in /home/fabricio/Documents/teste3/aux/lib/python3.11/site-packages (from spacy) (3.3.0)\n",
      "Requirement already satisfied: numpy>=1.19.0 in /home/fabricio/Documents/teste3/aux/lib/python3.11/site-packages (from spacy) (1.26.3)\n"
     ]
    },
    {
     "name": "stdout",
     "output_type": "stream",
     "text": [
      "Requirement already satisfied: filelock in /home/fabricio/Documents/teste3/aux/lib/python3.11/site-packages (from transformers) (3.13.1)\n",
      "Requirement already satisfied: huggingface-hub<1.0,>=0.19.3 in /home/fabricio/Documents/teste3/aux/lib/python3.11/site-packages (from transformers) (0.20.3)\n",
      "Requirement already satisfied: pyyaml>=5.1 in /home/fabricio/Documents/teste3/aux/lib/python3.11/site-packages (from transformers) (6.0.1)\n",
      "Requirement already satisfied: regex!=2019.12.17 in /home/fabricio/Documents/teste3/aux/lib/python3.11/site-packages (from transformers) (2023.12.25)\n",
      "Requirement already satisfied: tokenizers<0.19,>=0.14 in /home/fabricio/Documents/teste3/aux/lib/python3.11/site-packages (from transformers) (0.15.0)\n",
      "Requirement already satisfied: safetensors>=0.3.1 in /home/fabricio/Documents/teste3/aux/lib/python3.11/site-packages (from transformers) (0.4.1)\n",
      "Requirement already satisfied: fsspec>=2023.5.0 in /home/fabricio/Documents/teste3/aux/lib/python3.11/site-packages (from huggingface-hub<1.0,>=0.19.3->transformers) (2023.12.2)\n",
      "Requirement already satisfied: typing-extensions>=3.7.4.3 in /home/fabricio/Documents/teste3/aux/lib/python3.11/site-packages (from huggingface-hub<1.0,>=0.19.3->transformers) (4.9.0)\n",
      "Requirement already satisfied: annotated-types>=0.4.0 in /home/fabricio/Documents/teste3/aux/lib/python3.11/site-packages (from pydantic!=1.8,!=1.8.1,<3.0.0,>=1.7.4->spacy) (0.6.0)\n",
      "Requirement already satisfied: pydantic-core==2.14.6 in /home/fabricio/Documents/teste3/aux/lib/python3.11/site-packages (from pydantic!=1.8,!=1.8.1,<3.0.0,>=1.7.4->spacy) (2.14.6)\n",
      "Requirement already satisfied: charset-normalizer<4,>=2 in /home/fabricio/Documents/teste3/aux/lib/python3.11/site-packages (from requests<3.0.0,>=2.13.0->spacy) (3.3.2)\n",
      "Requirement already satisfied: idna<4,>=2.5 in /home/fabricio/Documents/teste3/aux/lib/python3.11/site-packages (from requests<3.0.0,>=2.13.0->spacy) (3.6)\n",
      "Requirement already satisfied: urllib3<3,>=1.21.1 in /home/fabricio/Documents/teste3/aux/lib/python3.11/site-packages (from requests<3.0.0,>=2.13.0->spacy) (2.1.0)\n",
      "Requirement already satisfied: certifi>=2017.4.17 in /home/fabricio/Documents/teste3/aux/lib/python3.11/site-packages (from requests<3.0.0,>=2.13.0->spacy) (2023.11.17)\n",
      "Requirement already satisfied: blis<0.8.0,>=0.7.8 in /home/fabricio/Documents/teste3/aux/lib/python3.11/site-packages (from thinc<8.3.0,>=8.1.8->spacy) (0.7.11)\n",
      "Requirement already satisfied: confection<1.0.0,>=0.0.1 in /home/fabricio/Documents/teste3/aux/lib/python3.11/site-packages (from thinc<8.3.0,>=8.1.8->spacy) (0.1.4)\n",
      "Requirement already satisfied: click<9.0.0,>=7.1.1 in /home/fabricio/Documents/teste3/aux/lib/python3.11/site-packages (from typer<0.10.0,>=0.3.0->spacy) (8.1.7)\n",
      "Requirement already satisfied: cloudpathlib<0.17.0,>=0.7.0 in /home/fabricio/Documents/teste3/aux/lib/python3.11/site-packages (from weasel<0.4.0,>=0.1.0->spacy) (0.16.0)\n",
      "Requirement already satisfied: MarkupSafe>=2.0 in /home/fabricio/Documents/teste3/aux/lib/python3.11/site-packages (from jinja2->spacy) (2.1.4)\n",
      "Note: you may need to restart the kernel to use updated packages.\n"
     ]
    }
   ],
   "source": [
    "%pip install spacy transformers "
   ]
  },
  {
   "cell_type": "code",
   "execution_count": 2,
   "metadata": {},
   "outputs": [
    {
     "name": "stdout",
     "output_type": "stream",
     "text": [
      "Requirement already satisfied: nltk in /home/fabricio/Documents/teste3/aux/lib/python3.11/site-packages (3.8.1)\n",
      "Requirement already satisfied: pandas in /home/fabricio/Documents/teste3/aux/lib/python3.11/site-packages (2.2.0)\n",
      "Requirement already satisfied: scikit-learn in /home/fabricio/Documents/teste3/aux/lib/python3.11/site-packages (1.4.0)\n",
      "Requirement already satisfied: matplotlib in /home/fabricio/Documents/teste3/aux/lib/python3.11/site-packages (3.8.2)\n",
      "Requirement already satisfied: seaborn in /home/fabricio/Documents/teste3/aux/lib/python3.11/site-packages (0.13.1)\n",
      "Requirement already satisfied: click in /home/fabricio/Documents/teste3/aux/lib/python3.11/site-packages (from nltk) (8.1.7)\n",
      "Requirement already satisfied: joblib in /home/fabricio/Documents/teste3/aux/lib/python3.11/site-packages (from nltk) (1.3.2)\n",
      "Requirement already satisfied: regex>=2021.8.3 in /home/fabricio/Documents/teste3/aux/lib/python3.11/site-packages (from nltk) (2023.12.25)\n",
      "Requirement already satisfied: tqdm in /home/fabricio/Documents/teste3/aux/lib/python3.11/site-packages (from nltk) (4.66.1)\n",
      "Requirement already satisfied: numpy<2,>=1.23.2 in /home/fabricio/Documents/teste3/aux/lib/python3.11/site-packages (from pandas) (1.26.3)\n",
      "Requirement already satisfied: python-dateutil>=2.8.2 in /home/fabricio/Documents/teste3/aux/lib/python3.11/site-packages (from pandas) (2.8.2)\n",
      "Requirement already satisfied: pytz>=2020.1 in /home/fabricio/Documents/teste3/aux/lib/python3.11/site-packages (from pandas) (2023.3.post1)\n",
      "Requirement already satisfied: tzdata>=2022.7 in /home/fabricio/Documents/teste3/aux/lib/python3.11/site-packages (from pandas) (2023.4)\n",
      "Requirement already satisfied: scipy>=1.6.0 in /home/fabricio/Documents/teste3/aux/lib/python3.11/site-packages (from scikit-learn) (1.12.0)\n",
      "Requirement already satisfied: threadpoolctl>=2.0.0 in /home/fabricio/Documents/teste3/aux/lib/python3.11/site-packages (from scikit-learn) (3.2.0)\n",
      "Requirement already satisfied: contourpy>=1.0.1 in /home/fabricio/Documents/teste3/aux/lib/python3.11/site-packages (from matplotlib) (1.2.0)\n",
      "Requirement already satisfied: cycler>=0.10 in /home/fabricio/Documents/teste3/aux/lib/python3.11/site-packages (from matplotlib) (0.12.1)\n",
      "Requirement already satisfied: fonttools>=4.22.0 in /home/fabricio/Documents/teste3/aux/lib/python3.11/site-packages (from matplotlib) (4.47.2)\n",
      "Requirement already satisfied: kiwisolver>=1.3.1 in /home/fabricio/Documents/teste3/aux/lib/python3.11/site-packages (from matplotlib) (1.4.5)\n",
      "Requirement already satisfied: packaging>=20.0 in /home/fabricio/Documents/teste3/aux/lib/python3.11/site-packages (from matplotlib) (23.2)\n",
      "Requirement already satisfied: pillow>=8 in /home/fabricio/Documents/teste3/aux/lib/python3.11/site-packages (from matplotlib) (10.2.0)\n",
      "Requirement already satisfied: pyparsing>=2.3.1 in /home/fabricio/Documents/teste3/aux/lib/python3.11/site-packages (from matplotlib) (3.1.1)\n",
      "Requirement already satisfied: six>=1.5 in /home/fabricio/Documents/teste3/aux/lib/python3.11/site-packages (from python-dateutil>=2.8.2->pandas) (1.16.0)\n",
      "Note: you may need to restart the kernel to use updated packages.\n"
     ]
    }
   ],
   "source": [
    "%pip install nltk pandas scikit-learn matplotlib seaborn"
   ]
  },
  {
   "cell_type": "code",
   "execution_count": 3,
   "metadata": {},
   "outputs": [
    {
     "name": "stdout",
     "output_type": "stream",
     "text": [
      "Requirement already satisfied: pip in /home/fabricio/Documents/teste3/aux/lib/python3.11/site-packages (23.3.2)\n",
      "Note: you may need to restart the kernel to use updated packages.\n"
     ]
    }
   ],
   "source": [
    "%pip install --upgrade pip"
   ]
  },
  {
   "cell_type": "code",
   "execution_count": 4,
   "metadata": {},
   "outputs": [
    {
     "name": "stdout",
     "output_type": "stream",
     "text": [
      "Requirement already satisfied: tensorflow[and-cuda] in /home/fabricio/Documents/teste3/aux/lib/python3.11/site-packages (2.15.0.post1)\n",
      "Requirement already satisfied: absl-py>=1.0.0 in /home/fabricio/Documents/teste3/aux/lib/python3.11/site-packages (from tensorflow[and-cuda]) (2.1.0)\n",
      "Requirement already satisfied: astunparse>=1.6.0 in /home/fabricio/Documents/teste3/aux/lib/python3.11/site-packages (from tensorflow[and-cuda]) (1.6.3)\n",
      "Requirement already satisfied: flatbuffers>=23.5.26 in /home/fabricio/Documents/teste3/aux/lib/python3.11/site-packages (from tensorflow[and-cuda]) (23.5.26)\n",
      "Requirement already satisfied: gast!=0.5.0,!=0.5.1,!=0.5.2,>=0.2.1 in /home/fabricio/Documents/teste3/aux/lib/python3.11/site-packages (from tensorflow[and-cuda]) (0.5.4)\n",
      "Requirement already satisfied: google-pasta>=0.1.1 in /home/fabricio/Documents/teste3/aux/lib/python3.11/site-packages (from tensorflow[and-cuda]) (0.2.0)\n",
      "Requirement already satisfied: h5py>=2.9.0 in /home/fabricio/Documents/teste3/aux/lib/python3.11/site-packages (from tensorflow[and-cuda]) (3.10.0)\n",
      "Requirement already satisfied: libclang>=13.0.0 in /home/fabricio/Documents/teste3/aux/lib/python3.11/site-packages (from tensorflow[and-cuda]) (16.0.6)\n",
      "Requirement already satisfied: ml-dtypes~=0.2.0 in /home/fabricio/Documents/teste3/aux/lib/python3.11/site-packages (from tensorflow[and-cuda]) (0.2.0)\n",
      "Requirement already satisfied: numpy<2.0.0,>=1.23.5 in /home/fabricio/Documents/teste3/aux/lib/python3.11/site-packages (from tensorflow[and-cuda]) (1.26.3)\n",
      "Requirement already satisfied: opt-einsum>=2.3.2 in /home/fabricio/Documents/teste3/aux/lib/python3.11/site-packages (from tensorflow[and-cuda]) (3.3.0)\n",
      "Requirement already satisfied: packaging in /home/fabricio/Documents/teste3/aux/lib/python3.11/site-packages (from tensorflow[and-cuda]) (23.2)\n",
      "Requirement already satisfied: protobuf!=4.21.0,!=4.21.1,!=4.21.2,!=4.21.3,!=4.21.4,!=4.21.5,<5.0.0dev,>=3.20.3 in /home/fabricio/Documents/teste3/aux/lib/python3.11/site-packages (from tensorflow[and-cuda]) (4.23.4)\n",
      "Requirement already satisfied: setuptools in /home/fabricio/Documents/teste3/aux/lib/python3.11/site-packages (from tensorflow[and-cuda]) (68.2.2)\n",
      "Requirement already satisfied: six>=1.12.0 in /home/fabricio/Documents/teste3/aux/lib/python3.11/site-packages (from tensorflow[and-cuda]) (1.16.0)\n",
      "Requirement already satisfied: termcolor>=1.1.0 in /home/fabricio/Documents/teste3/aux/lib/python3.11/site-packages (from tensorflow[and-cuda]) (2.4.0)\n",
      "Requirement already satisfied: typing-extensions>=3.6.6 in /home/fabricio/Documents/teste3/aux/lib/python3.11/site-packages (from tensorflow[and-cuda]) (4.9.0)\n",
      "Requirement already satisfied: wrapt<1.15,>=1.11.0 in /home/fabricio/Documents/teste3/aux/lib/python3.11/site-packages (from tensorflow[and-cuda]) (1.14.1)\n",
      "Requirement already satisfied: tensorflow-io-gcs-filesystem>=0.23.1 in /home/fabricio/Documents/teste3/aux/lib/python3.11/site-packages (from tensorflow[and-cuda]) (0.35.0)\n",
      "Requirement already satisfied: grpcio<2.0,>=1.24.3 in /home/fabricio/Documents/teste3/aux/lib/python3.11/site-packages (from tensorflow[and-cuda]) (1.60.0)\n",
      "Requirement already satisfied: tensorboard<2.16,>=2.15 in /home/fabricio/Documents/teste3/aux/lib/python3.11/site-packages (from tensorflow[and-cuda]) (2.15.1)\n",
      "Requirement already satisfied: tensorflow-estimator<2.16,>=2.15.0 in /home/fabricio/Documents/teste3/aux/lib/python3.11/site-packages (from tensorflow[and-cuda]) (2.15.0)\n",
      "Requirement already satisfied: keras<2.16,>=2.15.0 in /home/fabricio/Documents/teste3/aux/lib/python3.11/site-packages (from tensorflow[and-cuda]) (2.15.0)\n",
      "Requirement already satisfied: nvidia-cublas-cu12==12.2.5.6 in /home/fabricio/Documents/teste3/aux/lib/python3.11/site-packages (from tensorflow[and-cuda]) (12.2.5.6)\n",
      "Requirement already satisfied: nvidia-cuda-cupti-cu12==12.2.142 in /home/fabricio/Documents/teste3/aux/lib/python3.11/site-packages (from tensorflow[and-cuda]) (12.2.142)\n",
      "Requirement already satisfied: nvidia-cuda-nvcc-cu12==12.2.140 in /home/fabricio/Documents/teste3/aux/lib/python3.11/site-packages (from tensorflow[and-cuda]) (12.2.140)\n",
      "Requirement already satisfied: nvidia-cuda-nvrtc-cu12==12.2.140 in /home/fabricio/Documents/teste3/aux/lib/python3.11/site-packages (from tensorflow[and-cuda]) (12.2.140)\n",
      "Requirement already satisfied: nvidia-cuda-runtime-cu12==12.2.140 in /home/fabricio/Documents/teste3/aux/lib/python3.11/site-packages (from tensorflow[and-cuda]) (12.2.140)\n",
      "Requirement already satisfied: nvidia-cudnn-cu12==8.9.4.25 in /home/fabricio/Documents/teste3/aux/lib/python3.11/site-packages (from tensorflow[and-cuda]) (8.9.4.25)\n",
      "Requirement already satisfied: nvidia-cufft-cu12==11.0.8.103 in /home/fabricio/Documents/teste3/aux/lib/python3.11/site-packages (from tensorflow[and-cuda]) (11.0.8.103)\n",
      "Requirement already satisfied: nvidia-curand-cu12==10.3.3.141 in /home/fabricio/Documents/teste3/aux/lib/python3.11/site-packages (from tensorflow[and-cuda]) (10.3.3.141)\n",
      "Requirement already satisfied: nvidia-cusolver-cu12==11.5.2.141 in /home/fabricio/Documents/teste3/aux/lib/python3.11/site-packages (from tensorflow[and-cuda]) (11.5.2.141)\n",
      "Requirement already satisfied: nvidia-cusparse-cu12==12.1.2.141 in /home/fabricio/Documents/teste3/aux/lib/python3.11/site-packages (from tensorflow[and-cuda]) (12.1.2.141)\n",
      "Requirement already satisfied: nvidia-nccl-cu12==2.16.5 in /home/fabricio/Documents/teste3/aux/lib/python3.11/site-packages (from tensorflow[and-cuda]) (2.16.5)\n",
      "Requirement already satisfied: nvidia-nvjitlink-cu12==12.2.140 in /home/fabricio/Documents/teste3/aux/lib/python3.11/site-packages (from tensorflow[and-cuda]) (12.2.140)\n",
      "Requirement already satisfied: wheel<1.0,>=0.23.0 in /home/fabricio/Documents/teste3/aux/lib/python3.11/site-packages (from astunparse>=1.6.0->tensorflow[and-cuda]) (0.41.3)\n",
      "Requirement already satisfied: google-auth<3,>=1.6.3 in /home/fabricio/Documents/teste3/aux/lib/python3.11/site-packages (from tensorboard<2.16,>=2.15->tensorflow[and-cuda]) (2.26.2)\n",
      "Requirement already satisfied: google-auth-oauthlib<2,>=0.5 in /home/fabricio/Documents/teste3/aux/lib/python3.11/site-packages (from tensorboard<2.16,>=2.15->tensorflow[and-cuda]) (1.2.0)\n",
      "Requirement already satisfied: markdown>=2.6.8 in /home/fabricio/Documents/teste3/aux/lib/python3.11/site-packages (from tensorboard<2.16,>=2.15->tensorflow[and-cuda]) (3.5.2)\n",
      "Requirement already satisfied: requests<3,>=2.21.0 in /home/fabricio/Documents/teste3/aux/lib/python3.11/site-packages (from tensorboard<2.16,>=2.15->tensorflow[and-cuda]) (2.31.0)\n",
      "Requirement already satisfied: tensorboard-data-server<0.8.0,>=0.7.0 in /home/fabricio/Documents/teste3/aux/lib/python3.11/site-packages (from tensorboard<2.16,>=2.15->tensorflow[and-cuda]) (0.7.2)\n",
      "Requirement already satisfied: werkzeug>=1.0.1 in /home/fabricio/Documents/teste3/aux/lib/python3.11/site-packages (from tensorboard<2.16,>=2.15->tensorflow[and-cuda]) (3.0.1)\n",
      "Requirement already satisfied: cachetools<6.0,>=2.0.0 in /home/fabricio/Documents/teste3/aux/lib/python3.11/site-packages (from google-auth<3,>=1.6.3->tensorboard<2.16,>=2.15->tensorflow[and-cuda]) (5.3.2)\n",
      "Requirement already satisfied: pyasn1-modules>=0.2.1 in /home/fabricio/Documents/teste3/aux/lib/python3.11/site-packages (from google-auth<3,>=1.6.3->tensorboard<2.16,>=2.15->tensorflow[and-cuda]) (0.3.0)\n",
      "Requirement already satisfied: rsa<5,>=3.1.4 in /home/fabricio/Documents/teste3/aux/lib/python3.11/site-packages (from google-auth<3,>=1.6.3->tensorboard<2.16,>=2.15->tensorflow[and-cuda]) (4.9)\n",
      "Requirement already satisfied: requests-oauthlib>=0.7.0 in /home/fabricio/Documents/teste3/aux/lib/python3.11/site-packages (from google-auth-oauthlib<2,>=0.5->tensorboard<2.16,>=2.15->tensorflow[and-cuda]) (1.3.1)\n",
      "Requirement already satisfied: charset-normalizer<4,>=2 in /home/fabricio/Documents/teste3/aux/lib/python3.11/site-packages (from requests<3,>=2.21.0->tensorboard<2.16,>=2.15->tensorflow[and-cuda]) (3.3.2)\n",
      "Requirement already satisfied: idna<4,>=2.5 in /home/fabricio/Documents/teste3/aux/lib/python3.11/site-packages (from requests<3,>=2.21.0->tensorboard<2.16,>=2.15->tensorflow[and-cuda]) (3.6)\n",
      "Requirement already satisfied: urllib3<3,>=1.21.1 in /home/fabricio/Documents/teste3/aux/lib/python3.11/site-packages (from requests<3,>=2.21.0->tensorboard<2.16,>=2.15->tensorflow[and-cuda]) (2.1.0)\n",
      "Requirement already satisfied: certifi>=2017.4.17 in /home/fabricio/Documents/teste3/aux/lib/python3.11/site-packages (from requests<3,>=2.21.0->tensorboard<2.16,>=2.15->tensorflow[and-cuda]) (2023.11.17)\n",
      "Requirement already satisfied: MarkupSafe>=2.1.1 in /home/fabricio/Documents/teste3/aux/lib/python3.11/site-packages (from werkzeug>=1.0.1->tensorboard<2.16,>=2.15->tensorflow[and-cuda]) (2.1.4)\n",
      "Requirement already satisfied: pyasn1<0.6.0,>=0.4.6 in /home/fabricio/Documents/teste3/aux/lib/python3.11/site-packages (from pyasn1-modules>=0.2.1->google-auth<3,>=1.6.3->tensorboard<2.16,>=2.15->tensorflow[and-cuda]) (0.5.1)\n",
      "Requirement already satisfied: oauthlib>=3.0.0 in /home/fabricio/Documents/teste3/aux/lib/python3.11/site-packages (from requests-oauthlib>=0.7.0->google-auth-oauthlib<2,>=0.5->tensorboard<2.16,>=2.15->tensorflow[and-cuda]) (3.2.2)\n",
      "Note: you may need to restart the kernel to use updated packages.\n"
     ]
    }
   ],
   "source": [
    "%pip install 'tensorflow[and-cuda]'"
   ]
  },
  {
   "cell_type": "code",
   "execution_count": 5,
   "metadata": {},
   "outputs": [
    {
     "name": "stderr",
     "output_type": "stream",
     "text": [
      "2024-01-23 07:18:42.843488: I tensorflow/core/util/port.cc:113] oneDNN custom operations are on. You may see slightly different numerical results due to floating-point round-off errors from different computation orders. To turn them off, set the environment variable `TF_ENABLE_ONEDNN_OPTS=0`.\n",
      "2024-01-23 07:18:42.905564: E external/local_xla/xla/stream_executor/cuda/cuda_dnn.cc:9261] Unable to register cuDNN factory: Attempting to register factory for plugin cuDNN when one has already been registered\n",
      "2024-01-23 07:18:42.905590: E external/local_xla/xla/stream_executor/cuda/cuda_fft.cc:607] Unable to register cuFFT factory: Attempting to register factory for plugin cuFFT when one has already been registered\n",
      "2024-01-23 07:18:42.906729: E external/local_xla/xla/stream_executor/cuda/cuda_blas.cc:1515] Unable to register cuBLAS factory: Attempting to register factory for plugin cuBLAS when one has already been registered\n",
      "2024-01-23 07:18:42.915837: I tensorflow/core/platform/cpu_feature_guard.cc:182] This TensorFlow binary is optimized to use available CPU instructions in performance-critical operations.\n",
      "To enable the following instructions: AVX2 AVX512F AVX512_VNNI FMA, in other operations, rebuild TensorFlow with the appropriate compiler flags.\n",
      "2024-01-23 07:18:43.638768: W tensorflow/compiler/tf2tensorrt/utils/py_utils.cc:38] TF-TRT Warning: Could not find TensorRT\n"
     ]
    }
   ],
   "source": [
    "import warnings\n",
    "warnings.filterwarnings('ignore')\n",
    "\n",
    "import math \n",
    "import nltk\n",
    "import spacy\n",
    "import numpy as np\n",
    "import pandas as pd\n",
    "import tensorflow as tf\n",
    "import matplotlib.pyplot as plt\n",
    "import transformers\n",
    "from tokenizers import BertWordPieceTokenizer\n",
    "from tqdm import tqdm\n",
    "from sklearn.preprocessing import LabelEncoder\n",
    "from sklearn.feature_extraction.text import TfidfVectorizer\n",
    "from sklearn.model_selection import train_test_split\n",
    "from sklearn.metrics import confusion_matrix, classification_report, accuracy_score\n",
    "from sklearn.utils.class_weight import compute_class_weight\n",
    "from tensorflow import keras\n",
    "from keras.utils import to_categorical\n",
    "from keras import Sequential\n",
    "from keras.preprocessing.text import Tokenizer\n",
    "from keras.preprocessing.sequence import pad_sequences\n",
    "from keras.metrics import Precision, Recall, AUC\n",
    "from keras.layers import Embedding, LSTM, Dense, Dropout, Bidirectional\n",
    "from keras.callbacks import EarlyStopping, LearningRateScheduler, CallbackList, ReduceLROnPlateau\n",
    "from keras.optimizers import Adam"
   ]
  },
  {
   "cell_type": "code",
   "execution_count": 6,
   "metadata": {},
   "outputs": [
    {
     "name": "stdout",
     "output_type": "stream",
     "text": [
      "[PhysicalDevice(name='/physical_device:GPU:0', device_type='GPU')]\n"
     ]
    },
    {
     "name": "stderr",
     "output_type": "stream",
     "text": [
      "2024-01-23 07:18:45.880553: I external/local_xla/xla/stream_executor/cuda/cuda_executor.cc:901] successful NUMA node read from SysFS had negative value (-1), but there must be at least one NUMA node, so returning NUMA node zero. See more at https://github.com/torvalds/linux/blob/v6.0/Documentation/ABI/testing/sysfs-bus-pci#L344-L355\n",
      "2024-01-23 07:18:45.915495: I external/local_xla/xla/stream_executor/cuda/cuda_executor.cc:901] successful NUMA node read from SysFS had negative value (-1), but there must be at least one NUMA node, so returning NUMA node zero. See more at https://github.com/torvalds/linux/blob/v6.0/Documentation/ABI/testing/sysfs-bus-pci#L344-L355\n",
      "2024-01-23 07:18:45.915650: I external/local_xla/xla/stream_executor/cuda/cuda_executor.cc:901] successful NUMA node read from SysFS had negative value (-1), but there must be at least one NUMA node, so returning NUMA node zero. See more at https://github.com/torvalds/linux/blob/v6.0/Documentation/ABI/testing/sysfs-bus-pci#L344-L355\n"
     ]
    }
   ],
   "source": [
    "print(tf.config.list_physical_devices('GPU'))"
   ]
  },
  {
   "cell_type": "markdown",
   "metadata": {},
   "source": [
    "## Modelo 1 - Fully connected neural network"
   ]
  },
  {
   "cell_type": "markdown",
   "metadata": {},
   "source": [
    "### Parte 1.1: Pré-processamento de dados do input"
   ]
  },
  {
   "cell_type": "code",
   "execution_count": 7,
   "metadata": {},
   "outputs": [],
   "source": [
    "data_train = pd.read_csv('dados_treino.txt', header=None, delimiter=';')\n",
    "data_test = pd.read_csv('dados_teste.txt', header=None, delimiter=';')"
   ]
  },
  {
   "cell_type": "code",
   "execution_count": 8,
   "metadata": {},
   "outputs": [],
   "source": [
    "data_train.rename(columns={0: 'text', 1: 'sentiment'}, inplace=True)\n",
    "data_test.rename(columns={0: 'text', 1: 'sentiment'}, inplace=True)"
   ]
  },
  {
   "cell_type": "code",
   "execution_count": 9,
   "metadata": {},
   "outputs": [
    {
     "name": "stdout",
     "output_type": "stream",
     "text": [
      "shape train data: (16000, 2)\n",
      "shape test data: (2000, 2)\n"
     ]
    }
   ],
   "source": [
    "print('shape train data: {}\\nshape test data: {}'.format(data_train.shape, data_test.shape))"
   ]
  },
  {
   "cell_type": "code",
   "execution_count": 10,
   "metadata": {},
   "outputs": [
    {
     "data": {
      "text/html": [
       "<div>\n",
       "<style scoped>\n",
       "    .dataframe tbody tr th:only-of-type {\n",
       "        vertical-align: middle;\n",
       "    }\n",
       "\n",
       "    .dataframe tbody tr th {\n",
       "        vertical-align: top;\n",
       "    }\n",
       "\n",
       "    .dataframe thead th {\n",
       "        text-align: right;\n",
       "    }\n",
       "</style>\n",
       "<table border=\"1\" class=\"dataframe\">\n",
       "  <thead>\n",
       "    <tr style=\"text-align: right;\">\n",
       "      <th></th>\n",
       "      <th>text</th>\n",
       "      <th>sentiment</th>\n",
       "    </tr>\n",
       "  </thead>\n",
       "  <tbody>\n",
       "    <tr>\n",
       "      <th>0</th>\n",
       "      <td>i am feeling completely overwhelmed i have two...</td>\n",
       "      <td>fear</td>\n",
       "    </tr>\n",
       "    <tr>\n",
       "      <th>1</th>\n",
       "      <td>i have the feeling she was amused and delighted</td>\n",
       "      <td>joy</td>\n",
       "    </tr>\n",
       "    <tr>\n",
       "      <th>2</th>\n",
       "      <td>i was able to help chai lifeline with your sup...</td>\n",
       "      <td>joy</td>\n",
       "    </tr>\n",
       "    <tr>\n",
       "      <th>3</th>\n",
       "      <td>i already feel like i fucked up though because...</td>\n",
       "      <td>anger</td>\n",
       "    </tr>\n",
       "    <tr>\n",
       "      <th>4</th>\n",
       "      <td>i still love my so and wish the best for him i...</td>\n",
       "      <td>sadness</td>\n",
       "    </tr>\n",
       "  </tbody>\n",
       "</table>\n",
       "</div>"
      ],
      "text/plain": [
       "                                                text sentiment\n",
       "0  i am feeling completely overwhelmed i have two...      fear\n",
       "1    i have the feeling she was amused and delighted       joy\n",
       "2  i was able to help chai lifeline with your sup...       joy\n",
       "3  i already feel like i fucked up though because...     anger\n",
       "4  i still love my so and wish the best for him i...   sadness"
      ]
     },
     "execution_count": 10,
     "metadata": {},
     "output_type": "execute_result"
    }
   ],
   "source": [
    "data_train.head()"
   ]
  },
  {
   "cell_type": "code",
   "execution_count": 11,
   "metadata": {},
   "outputs": [
    {
     "data": {
      "text/html": [
       "<div>\n",
       "<style scoped>\n",
       "    .dataframe tbody tr th:only-of-type {\n",
       "        vertical-align: middle;\n",
       "    }\n",
       "\n",
       "    .dataframe tbody tr th {\n",
       "        vertical-align: top;\n",
       "    }\n",
       "\n",
       "    .dataframe thead th {\n",
       "        text-align: right;\n",
       "    }\n",
       "</style>\n",
       "<table border=\"1\" class=\"dataframe\">\n",
       "  <thead>\n",
       "    <tr style=\"text-align: right;\">\n",
       "      <th></th>\n",
       "      <th>text</th>\n",
       "      <th>sentiment</th>\n",
       "    </tr>\n",
       "  </thead>\n",
       "  <tbody>\n",
       "    <tr>\n",
       "      <th>0</th>\n",
       "      <td>i feel like my only role now would be to tear ...</td>\n",
       "      <td>sadness</td>\n",
       "    </tr>\n",
       "    <tr>\n",
       "      <th>1</th>\n",
       "      <td>i feel just bcoz a fight we get mad to each ot...</td>\n",
       "      <td>anger</td>\n",
       "    </tr>\n",
       "    <tr>\n",
       "      <th>2</th>\n",
       "      <td>i feel like reds and purples are just so rich ...</td>\n",
       "      <td>joy</td>\n",
       "    </tr>\n",
       "    <tr>\n",
       "      <th>3</th>\n",
       "      <td>im not sure the feeling of loss will ever go a...</td>\n",
       "      <td>sadness</td>\n",
       "    </tr>\n",
       "    <tr>\n",
       "      <th>4</th>\n",
       "      <td>i feel like ive gotten to know many of you thr...</td>\n",
       "      <td>joy</td>\n",
       "    </tr>\n",
       "  </tbody>\n",
       "</table>\n",
       "</div>"
      ],
      "text/plain": [
       "                                                text sentiment\n",
       "0  i feel like my only role now would be to tear ...   sadness\n",
       "1  i feel just bcoz a fight we get mad to each ot...     anger\n",
       "2  i feel like reds and purples are just so rich ...       joy\n",
       "3  im not sure the feeling of loss will ever go a...   sadness\n",
       "4  i feel like ive gotten to know many of you thr...       joy"
      ]
     },
     "execution_count": 11,
     "metadata": {},
     "output_type": "execute_result"
    }
   ],
   "source": [
    "data_test.head()"
   ]
  },
  {
   "cell_type": "code",
   "execution_count": 12,
   "metadata": {},
   "outputs": [
    {
     "data": {
      "text/plain": [
       "sentiment\n",
       "joy         5362\n",
       "sadness     4666\n",
       "anger       2159\n",
       "fear        1937\n",
       "love        1304\n",
       "surprise     572\n",
       "Name: count, dtype: int64"
      ]
     },
     "execution_count": 12,
     "metadata": {},
     "output_type": "execute_result"
    }
   ],
   "source": [
    "data_train['sentiment'].value_counts()"
   ]
  },
  {
   "cell_type": "code",
   "execution_count": 13,
   "metadata": {},
   "outputs": [
    {
     "data": {
      "text/plain": [
       "sentiment\n",
       "joy         695\n",
       "sadness     581\n",
       "anger       275\n",
       "fear        224\n",
       "love        159\n",
       "surprise     66\n",
       "Name: count, dtype: int64"
      ]
     },
     "execution_count": 13,
     "metadata": {},
     "output_type": "execute_result"
    }
   ],
   "source": [
    "data_test['sentiment'].value_counts()"
   ]
  },
  {
   "cell_type": "code",
   "execution_count": 14,
   "metadata": {},
   "outputs": [
    {
     "name": "stdout",
     "output_type": "stream",
     "text": [
      "\u001b[38;5;2m✔ Download and installation successful\u001b[0m\n",
      "You can now load the package via spacy.load('en_core_web_md')\n"
     ]
    }
   ],
   "source": [
    "!python -m spacy download en_core_web_md -q"
   ]
  },
  {
   "cell_type": "code",
   "execution_count": 15,
   "metadata": {},
   "outputs": [],
   "source": [
    "nlp = spacy.load('en_core_web_md')"
   ]
  },
  {
   "cell_type": "code",
   "execution_count": 16,
   "metadata": {},
   "outputs": [],
   "source": [
    "def process_text(text: str) -> str:\n",
    "    doc = nlp(text)\n",
    "    tokens = [token.lemma_.lower().strip() for token in doc if not token.is_stop]\n",
    "    return ' '.join(tokens)"
   ]
  },
  {
   "cell_type": "code",
   "execution_count": 17,
   "metadata": {},
   "outputs": [],
   "source": [
    "data_train['processed_text'] = data_train['text'].apply(process_text)"
   ]
  },
  {
   "cell_type": "code",
   "execution_count": 18,
   "metadata": {},
   "outputs": [
    {
     "data": {
      "text/html": [
       "<div>\n",
       "<style scoped>\n",
       "    .dataframe tbody tr th:only-of-type {\n",
       "        vertical-align: middle;\n",
       "    }\n",
       "\n",
       "    .dataframe tbody tr th {\n",
       "        vertical-align: top;\n",
       "    }\n",
       "\n",
       "    .dataframe thead th {\n",
       "        text-align: right;\n",
       "    }\n",
       "</style>\n",
       "<table border=\"1\" class=\"dataframe\">\n",
       "  <thead>\n",
       "    <tr style=\"text-align: right;\">\n",
       "      <th></th>\n",
       "      <th>text</th>\n",
       "      <th>sentiment</th>\n",
       "      <th>processed_text</th>\n",
       "    </tr>\n",
       "  </thead>\n",
       "  <tbody>\n",
       "    <tr>\n",
       "      <th>0</th>\n",
       "      <td>i am feeling completely overwhelmed i have two...</td>\n",
       "      <td>fear</td>\n",
       "      <td>feel completely overwhelmed strategy help feel...</td>\n",
       "    </tr>\n",
       "    <tr>\n",
       "      <th>1</th>\n",
       "      <td>i have the feeling she was amused and delighted</td>\n",
       "      <td>joy</td>\n",
       "      <td>feeling amuse delight</td>\n",
       "    </tr>\n",
       "    <tr>\n",
       "      <th>2</th>\n",
       "      <td>i was able to help chai lifeline with your sup...</td>\n",
       "      <td>joy</td>\n",
       "      <td>able help chai lifeline support encouragement ...</td>\n",
       "    </tr>\n",
       "    <tr>\n",
       "      <th>3</th>\n",
       "      <td>i already feel like i fucked up though because...</td>\n",
       "      <td>anger</td>\n",
       "      <td>feel like fuck not usually eat morning</td>\n",
       "    </tr>\n",
       "    <tr>\n",
       "      <th>4</th>\n",
       "      <td>i still love my so and wish the best for him i...</td>\n",
       "      <td>sadness</td>\n",
       "      <td>love wish good long tolerate effect bm life fa...</td>\n",
       "    </tr>\n",
       "  </tbody>\n",
       "</table>\n",
       "</div>"
      ],
      "text/plain": [
       "                                                text sentiment  \\\n",
       "0  i am feeling completely overwhelmed i have two...      fear   \n",
       "1    i have the feeling she was amused and delighted       joy   \n",
       "2  i was able to help chai lifeline with your sup...       joy   \n",
       "3  i already feel like i fucked up though because...     anger   \n",
       "4  i still love my so and wish the best for him i...   sadness   \n",
       "\n",
       "                                      processed_text  \n",
       "0  feel completely overwhelmed strategy help feel...  \n",
       "1                              feeling amuse delight  \n",
       "2  able help chai lifeline support encouragement ...  \n",
       "3             feel like fuck not usually eat morning  \n",
       "4  love wish good long tolerate effect bm life fa...  "
      ]
     },
     "execution_count": 18,
     "metadata": {},
     "output_type": "execute_result"
    }
   ],
   "source": [
    "data_train.head()"
   ]
  },
  {
   "cell_type": "code",
   "execution_count": 19,
   "metadata": {},
   "outputs": [],
   "source": [
    "data_test['processed_text'] = data_test['text'].apply(process_text)"
   ]
  },
  {
   "cell_type": "code",
   "execution_count": 20,
   "metadata": {},
   "outputs": [
    {
     "data": {
      "text/html": [
       "<div>\n",
       "<style scoped>\n",
       "    .dataframe tbody tr th:only-of-type {\n",
       "        vertical-align: middle;\n",
       "    }\n",
       "\n",
       "    .dataframe tbody tr th {\n",
       "        vertical-align: top;\n",
       "    }\n",
       "\n",
       "    .dataframe thead th {\n",
       "        text-align: right;\n",
       "    }\n",
       "</style>\n",
       "<table border=\"1\" class=\"dataframe\">\n",
       "  <thead>\n",
       "    <tr style=\"text-align: right;\">\n",
       "      <th></th>\n",
       "      <th>text</th>\n",
       "      <th>sentiment</th>\n",
       "      <th>processed_text</th>\n",
       "    </tr>\n",
       "  </thead>\n",
       "  <tbody>\n",
       "    <tr>\n",
       "      <th>0</th>\n",
       "      <td>i feel like my only role now would be to tear ...</td>\n",
       "      <td>sadness</td>\n",
       "      <td>feel like role tear sail pessimism discontent</td>\n",
       "    </tr>\n",
       "    <tr>\n",
       "      <th>1</th>\n",
       "      <td>i feel just bcoz a fight we get mad to each ot...</td>\n",
       "      <td>anger</td>\n",
       "      <td>feel bcoz fight mad n u wanna publicity n let ...</td>\n",
       "    </tr>\n",
       "    <tr>\n",
       "      <th>2</th>\n",
       "      <td>i feel like reds and purples are just so rich ...</td>\n",
       "      <td>joy</td>\n",
       "      <td>feel like red purple rich kind perfect</td>\n",
       "    </tr>\n",
       "    <tr>\n",
       "      <th>3</th>\n",
       "      <td>im not sure the feeling of loss will ever go a...</td>\n",
       "      <td>sadness</td>\n",
       "      <td>m sure feeling loss away dull sweet feeling no...</td>\n",
       "    </tr>\n",
       "    <tr>\n",
       "      <th>4</th>\n",
       "      <td>i feel like ive gotten to know many of you thr...</td>\n",
       "      <td>joy</td>\n",
       "      <td>feel like ve get know comment email m apprecia...</td>\n",
       "    </tr>\n",
       "  </tbody>\n",
       "</table>\n",
       "</div>"
      ],
      "text/plain": [
       "                                                text sentiment  \\\n",
       "0  i feel like my only role now would be to tear ...   sadness   \n",
       "1  i feel just bcoz a fight we get mad to each ot...     anger   \n",
       "2  i feel like reds and purples are just so rich ...       joy   \n",
       "3  im not sure the feeling of loss will ever go a...   sadness   \n",
       "4  i feel like ive gotten to know many of you thr...       joy   \n",
       "\n",
       "                                      processed_text  \n",
       "0      feel like role tear sail pessimism discontent  \n",
       "1  feel bcoz fight mad n u wanna publicity n let ...  \n",
       "2             feel like red purple rich kind perfect  \n",
       "3  m sure feeling loss away dull sweet feeling no...  \n",
       "4  feel like ve get know comment email m apprecia...  "
      ]
     },
     "execution_count": 20,
     "metadata": {},
     "output_type": "execute_result"
    }
   ],
   "source": [
    "data_test.head()"
   ]
  },
  {
   "cell_type": "code",
   "execution_count": 21,
   "metadata": {},
   "outputs": [],
   "source": [
    "tf_idf = TfidfVectorizer(max_df = 0.95, min_df = 2, stop_words='english')"
   ]
  },
  {
   "cell_type": "code",
   "execution_count": 22,
   "metadata": {},
   "outputs": [],
   "source": [
    "tfidf_train = tf_idf.fit_transform(data_train['processed_text'])\n",
    "tfidf_test = tf_idf.transform(data_test['processed_text'])"
   ]
  },
  {
   "cell_type": "code",
   "execution_count": 23,
   "metadata": {},
   "outputs": [
    {
     "name": "stdout",
     "output_type": "stream",
     "text": [
      "shape training data: (16000, 5586)\n",
      "shape test data: (2000, 5586)\n"
     ]
    }
   ],
   "source": [
    "print(f\"shape training data: {tfidf_train.shape}\\nshape test data: {tfidf_test.shape}\")"
   ]
  },
  {
   "cell_type": "code",
   "execution_count": 24,
   "metadata": {},
   "outputs": [],
   "source": [
    "X_train = tfidf_train.toarray()\n",
    "X_test = tfidf_test.toarray()"
   ]
  },
  {
   "cell_type": "markdown",
   "metadata": {},
   "source": [
    "### Parte 1.2: Pré-processamento dos dados de output"
   ]
  },
  {
   "cell_type": "code",
   "execution_count": 25,
   "metadata": {},
   "outputs": [],
   "source": [
    "label_encoder = LabelEncoder()\n",
    "\n",
    "y_train = label_encoder.fit_transform(data_train['sentiment'])\n",
    "y_test = label_encoder.transform(data_test['sentiment'])"
   ]
  },
  {
   "cell_type": "code",
   "execution_count": 26,
   "metadata": {},
   "outputs": [
    {
     "data": {
      "text/plain": [
       "numpy.ndarray"
      ]
     },
     "execution_count": 26,
     "metadata": {},
     "output_type": "execute_result"
    }
   ],
   "source": [
    "weights = compute_class_weight('balanced', classes = np.unique(y_train), y = y_train)\n",
    "\n",
    "type(weights)"
   ]
  },
  {
   "cell_type": "code",
   "execution_count": 27,
   "metadata": {},
   "outputs": [],
   "source": [
    "X_training, X_valid, y_training, y_valid = train_test_split(X_train, \n",
    "                                                            y_train,\n",
    "                                                            test_size = 0.2, \n",
    "                                                            random_state = 42, \n",
    "                                                            stratify=y_train)\n",
    "\n",
    "y_training_encoded = to_categorical(y_training)\n",
    "y_valid_encoded = to_categorical(y_valid)\n",
    "y_test_encoded = to_categorical(y_test)\n"
   ]
  },
  {
   "cell_type": "code",
   "execution_count": 28,
   "metadata": {},
   "outputs": [
    {
     "name": "stdout",
     "output_type": "stream",
     "text": [
      "[4 2 2 ... 4 2 2] [[0. 0. 0. 0. 1. 0.]\n",
      " [0. 0. 1. 0. 0. 0.]\n",
      " [0. 0. 1. 0. 0. 0.]\n",
      " ...\n",
      " [0. 0. 0. 0. 1. 0.]\n",
      " [0. 0. 1. 0. 0. 0.]\n",
      " [0. 0. 1. 0. 0. 0.]]\n"
     ]
    },
    {
     "data": {
      "text/plain": [
       "numpy.ndarray"
      ]
     },
     "execution_count": 28,
     "metadata": {},
     "output_type": "execute_result"
    }
   ],
   "source": [
    "print(y_training, y_training_encoded)\n",
    "type(y_training_encoded)"
   ]
  },
  {
   "cell_type": "markdown",
   "metadata": {},
   "source": [
    "### Parte 2: Criação do modelo"
   ]
  },
  {
   "cell_type": "code",
   "execution_count": 29,
   "metadata": {},
   "outputs": [],
   "source": [
    "activation, initializer, input_shape, regularizer = 'selu', 'lecun_normal', (X_training.shape[1],), keras.regularizers.l2(0.01)\n",
    "regularizer_2 = keras.regularizers.l2(0.1)"
   ]
  },
  {
   "cell_type": "code",
   "execution_count": 30,
   "metadata": {},
   "outputs": [
    {
     "name": "stderr",
     "output_type": "stream",
     "text": [
      "2024-01-23 07:20:18.529690: I external/local_xla/xla/stream_executor/cuda/cuda_executor.cc:901] successful NUMA node read from SysFS had negative value (-1), but there must be at least one NUMA node, so returning NUMA node zero. See more at https://github.com/torvalds/linux/blob/v6.0/Documentation/ABI/testing/sysfs-bus-pci#L344-L355\n",
      "2024-01-23 07:20:18.530216: I external/local_xla/xla/stream_executor/cuda/cuda_executor.cc:901] successful NUMA node read from SysFS had negative value (-1), but there must be at least one NUMA node, so returning NUMA node zero. See more at https://github.com/torvalds/linux/blob/v6.0/Documentation/ABI/testing/sysfs-bus-pci#L344-L355\n",
      "2024-01-23 07:20:18.530352: I external/local_xla/xla/stream_executor/cuda/cuda_executor.cc:901] successful NUMA node read from SysFS had negative value (-1), but there must be at least one NUMA node, so returning NUMA node zero. See more at https://github.com/torvalds/linux/blob/v6.0/Documentation/ABI/testing/sysfs-bus-pci#L344-L355\n",
      "2024-01-23 07:20:19.425432: I external/local_xla/xla/stream_executor/cuda/cuda_executor.cc:901] successful NUMA node read from SysFS had negative value (-1), but there must be at least one NUMA node, so returning NUMA node zero. See more at https://github.com/torvalds/linux/blob/v6.0/Documentation/ABI/testing/sysfs-bus-pci#L344-L355\n",
      "2024-01-23 07:20:19.425581: I external/local_xla/xla/stream_executor/cuda/cuda_executor.cc:901] successful NUMA node read from SysFS had negative value (-1), but there must be at least one NUMA node, so returning NUMA node zero. See more at https://github.com/torvalds/linux/blob/v6.0/Documentation/ABI/testing/sysfs-bus-pci#L344-L355\n",
      "2024-01-23 07:20:19.425669: I external/local_xla/xla/stream_executor/cuda/cuda_executor.cc:901] successful NUMA node read from SysFS had negative value (-1), but there must be at least one NUMA node, so returning NUMA node zero. See more at https://github.com/torvalds/linux/blob/v6.0/Documentation/ABI/testing/sysfs-bus-pci#L344-L355\n",
      "2024-01-23 07:20:19.425737: I tensorflow/core/common_runtime/gpu/gpu_device.cc:1929] Created device /job:localhost/replica:0/task:0/device:GPU:0 with 4097 MB memory:  -> device: 0, name: NVIDIA GeForce RTX 3060 Laptop GPU, pci bus id: 0000:01:00.0, compute capability: 8.6\n"
     ]
    }
   ],
   "source": [
    "fcnn = Sequential([\n",
    "    Dense(4096, \n",
    "          activation=activation,\n",
    "          kernel_initializer=initializer, \n",
    "          input_shape=(input_shape),\n",
    "          kernel_regularizer=regularizer\n",
    "          ),\n",
    "    Dense(2048, \n",
    "          activation=activation,\n",
    "          kernel_initializer=initializer, \n",
    "          kernel_regularizer=regularizer\n",
    "          ),\n",
    "    Dense(1024, \n",
    "          activation=activation,\n",
    "          kernel_initializer=initializer, \n",
    "          kernel_regularizer=regularizer_2\n",
    "          ),\n",
    "    Dense(64, activation=activation),\n",
    "    Dense(6, activation='softmax')\n",
    "])"
   ]
  },
  {
   "cell_type": "code",
   "execution_count": 31,
   "metadata": {},
   "outputs": [
    {
     "data": {
      "text/plain": [
       "<tf.Variable 'UnreadVariable' shape=(6,) dtype=float32, numpy=\n",
       "array([1.2351397 , 1.3766993 , 0.49732688, 2.0449898 , 0.5715102 ,\n",
       "       4.6620045 ], dtype=float32)>"
      ]
     },
     "execution_count": 31,
     "metadata": {},
     "output_type": "execute_result"
    }
   ],
   "source": [
    "fcnn.layers[-1].bias.assign(weights)"
   ]
  },
  {
   "cell_type": "code",
   "execution_count": 32,
   "metadata": {},
   "outputs": [],
   "source": [
    "fcnn.compile(optimizer='Adam', loss='categorical_crossentropy', metrics=['accuracy'])"
   ]
  },
  {
   "cell_type": "code",
   "execution_count": 33,
   "metadata": {},
   "outputs": [
    {
     "name": "stdout",
     "output_type": "stream",
     "text": [
      "Model: \"sequential\"\n",
      "_________________________________________________________________\n",
      " Layer (type)                Output Shape              Param #   \n",
      "=================================================================\n",
      " dense (Dense)               (None, 4096)              22884352  \n",
      "                                                                 \n",
      " dense_1 (Dense)             (None, 2048)              8390656   \n",
      "                                                                 \n",
      " dense_2 (Dense)             (None, 1024)              2098176   \n",
      "                                                                 \n",
      " dense_3 (Dense)             (None, 64)                65600     \n",
      "                                                                 \n",
      " dense_4 (Dense)             (None, 6)                 390       \n",
      "                                                                 \n",
      "=================================================================\n",
      "Total params: 33439174 (127.56 MB)\n",
      "Trainable params: 33439174 (127.56 MB)\n",
      "Non-trainable params: 0 (0.00 Byte)\n",
      "_________________________________________________________________\n"
     ]
    }
   ],
   "source": [
    "fcnn.summary()"
   ]
  },
  {
   "cell_type": "code",
   "execution_count": 34,
   "metadata": {},
   "outputs": [],
   "source": [
    "l_rate_0 = 0.001\n",
    "drop = 0.5\n",
    "epochs_drop = 10\n",
    "\n",
    "lr_scheduler = LearningRateScheduler(lambda epoch: l_rate_0 * math.pow(drop, math.floor(((1+ epoch) / epochs_drop))))\n",
    "\n",
    "early_stopping = EarlyStopping(monitor='val_loss', patience=3, restore_best_weights=True)"
   ]
  },
  {
   "cell_type": "code",
   "execution_count": 35,
   "metadata": {},
   "outputs": [],
   "source": [
    "epochs = 20\n",
    "batch_size = 256"
   ]
  },
  {
   "cell_type": "code",
   "execution_count": 36,
   "metadata": {},
   "outputs": [
    {
     "name": "stdout",
     "output_type": "stream",
     "text": [
      "Epoch 1/20\n"
     ]
    },
    {
     "name": "stderr",
     "output_type": "stream",
     "text": [
      "2024-01-23 07:20:21.435422: I external/local_tsl/tsl/platform/default/subprocess.cc:304] Start cannot spawn child process: No such file or directory\n",
      "2024-01-23 07:20:21.474724: I external/local_xla/xla/service/service.cc:168] XLA service 0x7fa7ebec6a50 initialized for platform CUDA (this does not guarantee that XLA will be used). Devices:\n",
      "2024-01-23 07:20:21.474740: I external/local_xla/xla/service/service.cc:176]   StreamExecutor device (0): NVIDIA GeForce RTX 3060 Laptop GPU, Compute Capability 8.6\n",
      "2024-01-23 07:20:21.478468: I tensorflow/compiler/mlir/tensorflow/utils/dump_mlir_util.cc:269] disabling MLIR crash reproducer, set env var `MLIR_CRASH_REPRODUCER_DIRECTORY` to enable.\n",
      "2024-01-23 07:20:21.718771: I external/local_xla/xla/stream_executor/cuda/cuda_dnn.cc:454] Loaded cuDNN version 8904\n",
      "WARNING: All log messages before absl::InitializeLog() is called are written to STDERR\n",
      "I0000 00:00:1706005221.780301   40551 device_compiler.h:186] Compiled cluster using XLA!  This line is logged at most once for the lifetime of the process.\n"
     ]
    },
    {
     "name": "stdout",
     "output_type": "stream",
     "text": [
      "50/50 [==============================] - 4s 25ms/step - loss: 36.8589 - accuracy: 0.6784 - val_loss: 2.2892 - val_accuracy: 0.7559 - lr: 0.0010\n",
      "Epoch 2/20\n",
      "50/50 [==============================] - 1s 19ms/step - loss: 1.4851 - accuracy: 0.8034 - val_loss: 1.3448 - val_accuracy: 0.7941 - lr: 0.0010\n",
      "Epoch 3/20\n",
      "50/50 [==============================] - 1s 19ms/step - loss: 1.2079 - accuracy: 0.8220 - val_loss: 1.1846 - val_accuracy: 0.8178 - lr: 0.0010\n",
      "Epoch 4/20\n",
      "50/50 [==============================] - 1s 19ms/step - loss: 1.0585 - accuracy: 0.8520 - val_loss: 1.1628 - val_accuracy: 0.8159 - lr: 0.0010\n",
      "Epoch 5/20\n",
      "50/50 [==============================] - 1s 19ms/step - loss: 0.9770 - accuracy: 0.8731 - val_loss: 1.0719 - val_accuracy: 0.8369 - lr: 0.0010\n",
      "Epoch 6/20\n",
      "50/50 [==============================] - 1s 18ms/step - loss: 0.8938 - accuracy: 0.8948 - val_loss: 1.0788 - val_accuracy: 0.8334 - lr: 0.0010\n",
      "Epoch 7/20\n",
      "50/50 [==============================] - 1s 18ms/step - loss: 0.8653 - accuracy: 0.9068 - val_loss: 1.1032 - val_accuracy: 0.8316 - lr: 0.0010\n",
      "Epoch 8/20\n",
      "50/50 [==============================] - 1s 19ms/step - loss: 0.8188 - accuracy: 0.9189 - val_loss: 1.0457 - val_accuracy: 0.8319 - lr: 0.0010\n",
      "Epoch 9/20\n",
      "50/50 [==============================] - 1s 18ms/step - loss: 0.8103 - accuracy: 0.9217 - val_loss: 1.1868 - val_accuracy: 0.8178 - lr: 0.0010\n",
      "Epoch 10/20\n",
      "50/50 [==============================] - 1s 19ms/step - loss: 0.6187 - accuracy: 0.9505 - val_loss: 0.7791 - val_accuracy: 0.8472 - lr: 5.0000e-04\n",
      "Epoch 11/20\n",
      "50/50 [==============================] - 1s 19ms/step - loss: 0.4559 - accuracy: 0.9684 - val_loss: 0.7341 - val_accuracy: 0.8438 - lr: 5.0000e-04\n",
      "Epoch 12/20\n",
      "50/50 [==============================] - 1s 18ms/step - loss: 0.4385 - accuracy: 0.9685 - val_loss: 0.7460 - val_accuracy: 0.8450 - lr: 5.0000e-04\n",
      "Epoch 13/20\n",
      "50/50 [==============================] - 1s 19ms/step - loss: 0.4311 - accuracy: 0.9703 - val_loss: 0.7316 - val_accuracy: 0.8472 - lr: 5.0000e-04\n",
      "Epoch 14/20\n",
      "50/50 [==============================] - 1s 18ms/step - loss: 0.4256 - accuracy: 0.9711 - val_loss: 0.7562 - val_accuracy: 0.8438 - lr: 5.0000e-04\n",
      "Epoch 15/20\n",
      "50/50 [==============================] - 1s 18ms/step - loss: 0.4216 - accuracy: 0.9695 - val_loss: 0.7641 - val_accuracy: 0.8453 - lr: 5.0000e-04\n",
      "Epoch 16/20\n",
      "50/50 [==============================] - 1s 22ms/step - loss: 0.4219 - accuracy: 0.9705 - val_loss: 0.7592 - val_accuracy: 0.8394 - lr: 5.0000e-04\n",
      "CPU times: user 18.5 s, sys: 1.36 s, total: 19.9 s\n",
      "Wall time: 18.2 s\n"
     ]
    }
   ],
   "source": [
    "%%time\n",
    "history = fcnn.fit(X_training,\n",
    "                   y_training_encoded,\n",
    "                   epochs=epochs,\n",
    "                   batch_size=batch_size,\n",
    "                   validation_data=(X_valid, y_valid_encoded),\n",
    "                   callbacks=[early_stopping, lr_scheduler]\n",
    "                   )"
   ]
  },
  {
   "cell_type": "markdown",
   "metadata": {},
   "source": [
    "### Parte 3: análise do desempenho do modelo "
   ]
  },
  {
   "cell_type": "code",
   "execution_count": 37,
   "metadata": {},
   "outputs": [],
   "source": [
    "loss, val_loss = history.history['loss'], history.history['val_loss']"
   ]
  },
  {
   "cell_type": "code",
   "execution_count": 38,
   "metadata": {},
   "outputs": [
    {
     "data": {
      "image/png": "[encoded data removed]",
      "text/plain": [
       "<Figure size 640x480 with 1 Axes>"
      ]
     },
     "metadata": {},
     "output_type": "display_data"
    }
   ],
   "source": [
    "plt.plot(loss, label='loss')\n",
    "plt.plot(val_loss, label='val_loss')\n",
    "plt.legend()\n",
    "plt.show()"
   ]
  },
  {
   "cell_type": "code",
   "execution_count": 39,
   "metadata": {},
   "outputs": [
    {
     "name": "stdout",
     "output_type": "stream",
     "text": [
      "63/63 [==============================] - 0s 1ms/step\n"
     ]
    }
   ],
   "source": [
    "predict_v1 = fcnn.predict(X_test)"
   ]
  },
  {
   "cell_type": "code",
   "execution_count": 40,
   "metadata": {},
   "outputs": [
    {
     "data": {
      "text/plain": [
       "array([4, 0, 2, ..., 2, 2, 1])"
      ]
     },
     "execution_count": 40,
     "metadata": {},
     "output_type": "execute_result"
    }
   ],
   "source": [
    "predict_v1.argmax(axis=1)"
   ]
  },
  {
   "cell_type": "code",
   "execution_count": 41,
   "metadata": {},
   "outputs": [],
   "source": [
    "report = classification_report(y_test, predict_v1.argmax(axis=1), output_dict=True)"
   ]
  },
  {
   "cell_type": "code",
   "execution_count": 42,
   "metadata": {},
   "outputs": [
    {
     "data": {
      "text/html": [
       "<div>\n",
       "<style scoped>\n",
       "    .dataframe tbody tr th:only-of-type {\n",
       "        vertical-align: middle;\n",
       "    }\n",
       "\n",
       "    .dataframe tbody tr th {\n",
       "        vertical-align: top;\n",
       "    }\n",
       "\n",
       "    .dataframe thead th {\n",
       "        text-align: right;\n",
       "    }\n",
       "</style>\n",
       "<table border=\"1\" class=\"dataframe\">\n",
       "  <thead>\n",
       "    <tr style=\"text-align: right;\">\n",
       "      <th></th>\n",
       "      <th>precision</th>\n",
       "      <th>recall</th>\n",
       "      <th>f1-score</th>\n",
       "      <th>support</th>\n",
       "    </tr>\n",
       "  </thead>\n",
       "  <tbody>\n",
       "    <tr>\n",
       "      <th>0</th>\n",
       "      <td>0.819728</td>\n",
       "      <td>0.876364</td>\n",
       "      <td>0.847100</td>\n",
       "      <td>275.0000</td>\n",
       "    </tr>\n",
       "    <tr>\n",
       "      <th>1</th>\n",
       "      <td>0.855670</td>\n",
       "      <td>0.741071</td>\n",
       "      <td>0.794258</td>\n",
       "      <td>224.0000</td>\n",
       "    </tr>\n",
       "    <tr>\n",
       "      <th>2</th>\n",
       "      <td>0.868603</td>\n",
       "      <td>0.903597</td>\n",
       "      <td>0.885755</td>\n",
       "      <td>695.0000</td>\n",
       "    </tr>\n",
       "    <tr>\n",
       "      <th>3</th>\n",
       "      <td>0.722581</td>\n",
       "      <td>0.704403</td>\n",
       "      <td>0.713376</td>\n",
       "      <td>159.0000</td>\n",
       "    </tr>\n",
       "    <tr>\n",
       "      <th>4</th>\n",
       "      <td>0.883362</td>\n",
       "      <td>0.886403</td>\n",
       "      <td>0.884880</td>\n",
       "      <td>581.0000</td>\n",
       "    </tr>\n",
       "    <tr>\n",
       "      <th>5</th>\n",
       "      <td>0.764706</td>\n",
       "      <td>0.590909</td>\n",
       "      <td>0.666667</td>\n",
       "      <td>66.0000</td>\n",
       "    </tr>\n",
       "    <tr>\n",
       "      <th>accuracy</th>\n",
       "      <td>0.850500</td>\n",
       "      <td>0.850500</td>\n",
       "      <td>0.850500</td>\n",
       "      <td>0.8505</td>\n",
       "    </tr>\n",
       "    <tr>\n",
       "      <th>macro avg</th>\n",
       "      <td>0.819108</td>\n",
       "      <td>0.783791</td>\n",
       "      <td>0.798673</td>\n",
       "      <td>2000.0000</td>\n",
       "    </tr>\n",
       "    <tr>\n",
       "      <th>weighted avg</th>\n",
       "      <td>0.849684</td>\n",
       "      <td>0.850500</td>\n",
       "      <td>0.849004</td>\n",
       "      <td>2000.0000</td>\n",
       "    </tr>\n",
       "  </tbody>\n",
       "</table>\n",
       "</div>"
      ],
      "text/plain": [
       "              precision    recall  f1-score    support\n",
       "0              0.819728  0.876364  0.847100   275.0000\n",
       "1              0.855670  0.741071  0.794258   224.0000\n",
       "2              0.868603  0.903597  0.885755   695.0000\n",
       "3              0.722581  0.704403  0.713376   159.0000\n",
       "4              0.883362  0.886403  0.884880   581.0000\n",
       "5              0.764706  0.590909  0.666667    66.0000\n",
       "accuracy       0.850500  0.850500  0.850500     0.8505\n",
       "macro avg      0.819108  0.783791  0.798673  2000.0000\n",
       "weighted avg   0.849684  0.850500  0.849004  2000.0000"
      ]
     },
     "execution_count": 42,
     "metadata": {},
     "output_type": "execute_result"
    }
   ],
   "source": [
    "pd.DataFrame(report).T"
   ]
  },
  {
   "cell_type": "code",
   "execution_count": 43,
   "metadata": {},
   "outputs": [],
   "source": [
    "# fcnn.save('first_model_v1.keras')"
   ]
  },
  {
   "cell_type": "code",
   "execution_count": 44,
   "metadata": {},
   "outputs": [
    {
     "data": {
      "text/plain": [
       "array([[0., 0., 0., ..., 0., 0., 0.]])"
      ]
     },
     "execution_count": 44,
     "metadata": {},
     "output_type": "execute_result"
    }
   ],
   "source": [
    "frase = 'I am stronger than ever'\n",
    "\n",
    "exemplo = pd.DataFrame({'text': [frase]})\n",
    "\n",
    "exemplo['processed_text'] = exemplo['text'].apply(process_text)\n",
    "\n",
    "exemplo_model = tf_idf.transform(exemplo['processed_text']).toarray()\n",
    "\n",
    "exemplo_model"
   ]
  },
  {
   "cell_type": "code",
   "execution_count": 45,
   "metadata": {},
   "outputs": [
    {
     "name": "stdout",
     "output_type": "stream",
     "text": [
      "1/1 [==============================] - 0s 16ms/step\n"
     ]
    },
    {
     "data": {
      "text/plain": [
       "array(['joy'], dtype=object)"
      ]
     },
     "execution_count": 45,
     "metadata": {},
     "output_type": "execute_result"
    }
   ],
   "source": [
    "label_encoder.inverse_transform(fcnn.predict(exemplo_model).argmax(axis=1))"
   ]
  },
  {
   "cell_type": "markdown",
   "metadata": {},
   "source": [
    "### Parte 4: Otimização da entrada de dados ao modelo"
   ]
  },
  {
   "cell_type": "code",
   "execution_count": 46,
   "metadata": {},
   "outputs": [],
   "source": [
    "class Model: \n",
    "    def __init__(self, preprocess, model, postprocess) -> None:\n",
    "        self.preprocess = preprocess\n",
    "        self.model = model\n",
    "        self.postprocess = postprocess\n",
    "\n",
    "    def predict(self, text: str) -> str:\n",
    "        input = self.preprocess(text)\n",
    "        output = self.model.predict(input)\n",
    "        return self.postprocess(output)        \n",
    "\n",
    "    __call__ = predict"
   ]
  },
  {
   "cell_type": "code",
   "execution_count": 47,
   "metadata": {},
   "outputs": [
    {
     "name": "stdout",
     "output_type": "stream",
     "text": [
      "1/1 [==============================] - 0s 15ms/step\n"
     ]
    },
    {
     "data": {
      "text/plain": [
       "'fear'"
      ]
     },
     "execution_count": 47,
     "metadata": {},
     "output_type": "execute_result"
    }
   ],
   "source": [
    "def preprocessing_v1(text: str) -> np.ndarray:\n",
    "    tmp = text\n",
    "    if isinstance(text, str):\n",
    "        tmp = pd.DataFrame({'text': [text]})['text']\n",
    "    tmp['processed_text'] = tmp.apply(process_text)\n",
    "    input = tf_idf.transform(tmp['processed_text']).toarray()\n",
    "    return input\n",
    "\n",
    "def postprocessing_v1(output: np.ndarray) -> str:\n",
    "    return label_encoder.inverse_transform(output.argmax(axis=1))[0]\n",
    "\n",
    "model_v0 = Model(preprocessing_v1, fcnn, postprocessing_v1)\n",
    "model_v0('I feel a little shaky')"
   ]
  },
  {
   "cell_type": "markdown",
   "metadata": {},
   "source": [
    "### Parte 5: Otimização do modelo"
   ]
  },
  {
   "cell_type": "markdown",
   "metadata": {},
   "source": [
    "Opção 1: Modificando a função de ativação"
   ]
  },
  {
   "cell_type": "code",
   "execution_count": 48,
   "metadata": {},
   "outputs": [],
   "source": [
    "activation = 'relu'"
   ]
  },
  {
   "cell_type": "code",
   "execution_count": 49,
   "metadata": {},
   "outputs": [
    {
     "name": "stdout",
     "output_type": "stream",
     "text": [
      "Model: \"sequential_1\"\n",
      "_________________________________________________________________\n",
      " Layer (type)                Output Shape              Param #   \n",
      "=================================================================\n",
      " dense_5 (Dense)             (None, 4096)              22884352  \n",
      "                                                                 \n",
      " dense_6 (Dense)             (None, 2048)              8390656   \n",
      "                                                                 \n",
      " dense_7 (Dense)             (None, 1024)              2098176   \n",
      "                                                                 \n",
      " dense_8 (Dense)             (None, 64)                65600     \n",
      "                                                                 \n",
      " dense_9 (Dense)             (None, 6)                 390       \n",
      "                                                                 \n",
      "=================================================================\n",
      "Total params: 33439174 (127.56 MB)\n",
      "Trainable params: 33439174 (127.56 MB)\n",
      "Non-trainable params: 0 (0.00 Byte)\n",
      "_________________________________________________________________\n"
     ]
    }
   ],
   "source": [
    "fcnn_v2 = Sequential([\n",
    "    Dense(4096, \n",
    "          activation=activation,\n",
    "          kernel_initializer=initializer, \n",
    "          input_shape=(input_shape),\n",
    "          kernel_regularizer=regularizer\n",
    "          ),\n",
    "    Dense(2048, \n",
    "          activation=activation,\n",
    "          kernel_initializer=initializer, \n",
    "          kernel_regularizer=regularizer\n",
    "          ),\n",
    "    Dense(1024, \n",
    "          activation=activation,\n",
    "          kernel_initializer=initializer, \n",
    "          kernel_regularizer=regularizer_2\n",
    "          ),\n",
    "    Dense(64, activation=activation),\n",
    "    Dense(6, activation='softmax')\n",
    "])\n",
    "\n",
    "fcnn_v2.layers[-1].bias.assign(weights)\n",
    "\n",
    "fcnn_v2.compile(optimizer='Adam', loss='categorical_crossentropy', metrics=['accuracy'])\n",
    "\n",
    "fcnn_v2.summary()"
   ]
  },
  {
   "cell_type": "code",
   "execution_count": 50,
   "metadata": {},
   "outputs": [
    {
     "name": "stdout",
     "output_type": "stream",
     "text": [
      "Epoch 1/20\n",
      "50/50 [==============================] - 2s 24ms/step - loss: 36.6601 - accuracy: 0.2604 - val_loss: 2.4825 - val_accuracy: 0.3350 - lr: 0.0010\n",
      "Epoch 2/20\n",
      "50/50 [==============================] - 1s 19ms/step - loss: 1.7863 - accuracy: 0.3352 - val_loss: 1.6293 - val_accuracy: 0.3350 - lr: 0.0010\n",
      "Epoch 3/20\n",
      "50/50 [==============================] - 1s 19ms/step - loss: 1.6150 - accuracy: 0.3327 - val_loss: 1.5898 - val_accuracy: 0.3350 - lr: 0.0010\n",
      "Epoch 4/20\n",
      "50/50 [==============================] - 1s 19ms/step - loss: 1.5836 - accuracy: 0.3352 - val_loss: 1.5817 - val_accuracy: 0.3350 - lr: 0.0010\n",
      "Epoch 5/20\n",
      "50/50 [==============================] - 1s 19ms/step - loss: 1.5789 - accuracy: 0.3352 - val_loss: 1.5797 - val_accuracy: 0.3350 - lr: 0.0010\n",
      "Epoch 6/20\n",
      "50/50 [==============================] - 1s 19ms/step - loss: 1.5775 - accuracy: 0.3352 - val_loss: 1.5777 - val_accuracy: 0.3350 - lr: 0.0010\n",
      "Epoch 7/20\n",
      "50/50 [==============================] - 1s 18ms/step - loss: 1.5785 - accuracy: 0.3317 - val_loss: 1.5778 - val_accuracy: 0.3350 - lr: 0.0010\n",
      "Epoch 8/20\n",
      "50/50 [==============================] - 1s 19ms/step - loss: 1.5782 - accuracy: 0.3352 - val_loss: 1.5765 - val_accuracy: 0.3350 - lr: 0.0010\n",
      "Epoch 9/20\n",
      "50/50 [==============================] - 1s 18ms/step - loss: 1.5766 - accuracy: 0.3352 - val_loss: 1.5780 - val_accuracy: 0.3350 - lr: 0.0010\n",
      "Epoch 10/20\n",
      "50/50 [==============================] - 1s 18ms/step - loss: 1.5775 - accuracy: 0.3352 - val_loss: 1.5766 - val_accuracy: 0.3350 - lr: 5.0000e-04\n",
      "Epoch 11/20\n",
      "50/50 [==============================] - 1s 19ms/step - loss: 1.5766 - accuracy: 0.3352 - val_loss: 1.5777 - val_accuracy: 0.3350 - lr: 5.0000e-04\n"
     ]
    }
   ],
   "source": [
    "history2 = fcnn_v2.fit(X_training,\n",
    "            y_training_encoded,\n",
    "            epochs=epochs,\n",
    "            batch_size=batch_size,\n",
    "            validation_data=(X_valid, y_valid_encoded),\n",
    "            callbacks=[early_stopping, lr_scheduler]\n",
    "            )"
   ]
  },
  {
   "cell_type": "code",
   "execution_count": 51,
   "metadata": {},
   "outputs": [
    {
     "data": {
      "image/png": "[encoded data removed]",
      "text/plain": [
       "<Figure size 640x480 with 1 Axes>"
      ]
     },
     "metadata": {},
     "output_type": "display_data"
    }
   ],
   "source": [
    "loss2, val_loss2 = history2.history['loss'], history2.history['val_loss']\n",
    "\n",
    "plt.plot(loss2, label='loss')\n",
    "plt.plot(val_loss2, label='val_loss')\n",
    "plt.legend()\n",
    "plt.show()"
   ]
  },
  {
   "cell_type": "markdown",
   "metadata": {},
   "source": [
    "Testando mudança no número de neurônios"
   ]
  },
  {
   "cell_type": "code",
   "execution_count": 52,
   "metadata": {},
   "outputs": [
    {
     "name": "stdout",
     "output_type": "stream",
     "text": [
      "Model: \"sequential_2\"\n",
      "_________________________________________________________________\n",
      " Layer (type)                Output Shape              Param #   \n",
      "=================================================================\n",
      " dense_10 (Dense)            (None, 4096)              22884352  \n",
      "                                                                 \n",
      " dense_11 (Dense)            (None, 4096)              16781312  \n",
      "                                                                 \n",
      " dense_12 (Dense)            (None, 2048)              8390656   \n",
      "                                                                 \n",
      " dense_13 (Dense)            (None, 1024)              2098176   \n",
      "                                                                 \n",
      " dense_14 (Dense)            (None, 64)                65600     \n",
      "                                                                 \n",
      " dense_15 (Dense)            (None, 6)                 390       \n",
      "                                                                 \n",
      "=================================================================\n",
      "Total params: 50220486 (191.58 MB)\n",
      "Trainable params: 50220486 (191.58 MB)\n",
      "Non-trainable params: 0 (0.00 Byte)\n",
      "_________________________________________________________________\n"
     ]
    }
   ],
   "source": [
    "activation = 'selu'\n",
    "\n",
    "fcnn_v3 = Sequential([\n",
    "    Dense(4096, \n",
    "          activation=activation,\n",
    "          kernel_initializer=initializer, \n",
    "          input_shape=(input_shape),\n",
    "          kernel_regularizer=regularizer\n",
    "          ),\n",
    "    Dense(4096, \n",
    "          activation=activation,\n",
    "          kernel_initializer=initializer, \n",
    "          kernel_regularizer=regularizer\n",
    "          ),\n",
    "    Dense(2048, \n",
    "          activation=activation,\n",
    "          kernel_initializer=initializer, \n",
    "          kernel_regularizer=regularizer\n",
    "          ),\n",
    "    Dense(1024, \n",
    "          activation=activation,\n",
    "          kernel_initializer=initializer, \n",
    "          kernel_regularizer=regularizer_2\n",
    "          ),\n",
    "    Dense(64, activation=activation),\n",
    "    Dense(6, activation='softmax')\n",
    "])\n",
    "\n",
    "fcnn_v3.layers[-1].bias.assign(weights)\n",
    "\n",
    "fcnn_v3.compile(optimizer='Adam', loss='categorical_crossentropy', metrics=['accuracy'])\n",
    "\n",
    "fcnn_v3.summary()"
   ]
  },
  {
   "cell_type": "code",
   "execution_count": 53,
   "metadata": {},
   "outputs": [
    {
     "name": "stdout",
     "output_type": "stream",
     "text": [
      "Epoch 1/20\n",
      "50/50 [==============================] - 3s 34ms/step - loss: 47.9954 - accuracy: 0.6691 - val_loss: 2.6907 - val_accuracy: 0.7694 - lr: 0.0010\n",
      "Epoch 2/20\n",
      "50/50 [==============================] - 1s 29ms/step - loss: 1.6160 - accuracy: 0.8018 - val_loss: 1.3785 - val_accuracy: 0.8059 - lr: 0.0010\n",
      "Epoch 3/20\n",
      "50/50 [==============================] - 1s 29ms/step - loss: 1.1993 - accuracy: 0.8437 - val_loss: 1.2474 - val_accuracy: 0.8138 - lr: 0.0010\n",
      "Epoch 4/20\n",
      "50/50 [==============================] - 1s 27ms/step - loss: 1.0931 - accuracy: 0.8655 - val_loss: 1.2654 - val_accuracy: 0.8066 - lr: 0.0010\n",
      "Epoch 5/20\n",
      "50/50 [==============================] - 1s 29ms/step - loss: 1.0399 - accuracy: 0.8877 - val_loss: 1.2040 - val_accuracy: 0.8256 - lr: 0.0010\n",
      "Epoch 6/20\n",
      "50/50 [==============================] - 1s 27ms/step - loss: 0.9805 - accuracy: 0.9022 - val_loss: 1.2118 - val_accuracy: 0.8191 - lr: 0.0010\n",
      "Epoch 7/20\n",
      "50/50 [==============================] - 1s 27ms/step - loss: 0.9267 - accuracy: 0.9134 - val_loss: 1.2230 - val_accuracy: 0.8103 - lr: 0.0010\n",
      "Epoch 8/20\n",
      "50/50 [==============================] - 1s 29ms/step - loss: 0.9494 - accuracy: 0.9147 - val_loss: 1.4388 - val_accuracy: 0.8091 - lr: 0.0010\n"
     ]
    }
   ],
   "source": [
    "history3 = fcnn_v3.fit(X_training,\n",
    "                       y_training_encoded,\n",
    "                       epochs=epochs,\n",
    "                       batch_size=batch_size,\n",
    "                       validation_data=(X_valid, y_valid_encoded),\n",
    "                       callbacks=[early_stopping, lr_scheduler]\n",
    "                       )"
   ]
  },
  {
   "cell_type": "code",
   "execution_count": 54,
   "metadata": {},
   "outputs": [
    {
     "data": {
      "image/png": "[encoded data removed]",
      "text/plain": [
       "<Figure size 640x480 with 1 Axes>"
      ]
     },
     "metadata": {},
     "output_type": "display_data"
    }
   ],
   "source": [
    "loss3, val_loss3 = history3.history['loss'], history3.history['val_loss']\n",
    "\n",
    "plt.plot(loss3, label='loss')\n",
    "plt.plot(val_loss3, label='val_loss')\n",
    "plt.legend()\n",
    "plt.show()"
   ]
  },
  {
   "cell_type": "markdown",
   "metadata": {},
   "source": [
    "Testando mudar a paciência do EarlyStopping"
   ]
  },
  {
   "cell_type": "code",
   "execution_count": 55,
   "metadata": {},
   "outputs": [
    {
     "name": "stdout",
     "output_type": "stream",
     "text": [
      "Model: \"sequential_3\"\n",
      "_________________________________________________________________\n",
      " Layer (type)                Output Shape              Param #   \n",
      "=================================================================\n",
      " dense_16 (Dense)            (None, 4096)              22884352  \n",
      "                                                                 \n"
     ]
    },
    {
     "name": "stdout",
     "output_type": "stream",
     "text": [
      " dense_17 (Dense)            (None, 2048)              8390656   \n",
      "                                                                 \n",
      " dense_18 (Dense)            (None, 1024)              2098176   \n",
      "                                                                 \n",
      " dense_19 (Dense)            (None, 64)                65600     \n",
      "                                                                 \n",
      " dense_20 (Dense)            (None, 6)                 390       \n",
      "                                                                 \n",
      "=================================================================\n",
      "Total params: 33439174 (127.56 MB)\n",
      "Trainable params: 33439174 (127.56 MB)\n",
      "Non-trainable params: 0 (0.00 Byte)\n",
      "_________________________________________________________________\n"
     ]
    }
   ],
   "source": [
    "new_early_stopping = EarlyStopping(monitor='val_loss', patience=5, restore_best_weights=True)\n",
    "\n",
    "fcnn_v4 = Sequential([\n",
    "    Dense(4096, \n",
    "          activation=activation,\n",
    "          kernel_initializer=initializer, \n",
    "          input_shape=(input_shape),\n",
    "          kernel_regularizer=regularizer\n",
    "          ),\n",
    "    Dense(2048, \n",
    "          activation=activation,\n",
    "          kernel_initializer=initializer, \n",
    "          kernel_regularizer=regularizer\n",
    "          ),\n",
    "    Dense(1024, \n",
    "          activation=activation,\n",
    "          kernel_initializer=initializer, \n",
    "          kernel_regularizer=regularizer_2\n",
    "          ),\n",
    "    Dense(64, activation=activation),\n",
    "    Dense(6, activation='softmax')\n",
    "])\n",
    "\n",
    "fcnn_v4.layers[-1].bias.assign(weights)\n",
    "fcnn_v4.compile(optimizer='Adam', loss='categorical_crossentropy', metrics=['accuracy'])\n",
    "fcnn_v4.summary()"
   ]
  },
  {
   "cell_type": "code",
   "execution_count": 56,
   "metadata": {},
   "outputs": [
    {
     "name": "stdout",
     "output_type": "stream",
     "text": [
      "Epoch 1/20\n",
      "50/50 [==============================] - 2s 24ms/step - loss: 37.1263 - accuracy: 0.6625 - val_loss: 2.2663 - val_accuracy: 0.7688 - lr: 0.0010\n",
      "Epoch 2/20\n",
      "50/50 [==============================] - 1s 19ms/step - loss: 1.5136 - accuracy: 0.7831 - val_loss: 1.3942 - val_accuracy: 0.7906 - lr: 0.0010\n",
      "Epoch 3/20\n",
      "50/50 [==============================] - 1s 19ms/step - loss: 1.2117 - accuracy: 0.8269 - val_loss: 1.2410 - val_accuracy: 0.8100 - lr: 0.0010\n",
      "Epoch 4/20\n",
      "50/50 [==============================] - 1s 19ms/step - loss: 1.0495 - accuracy: 0.8554 - val_loss: 1.1768 - val_accuracy: 0.8216 - lr: 0.0010\n",
      "Epoch 5/20\n",
      "50/50 [==============================] - 1s 19ms/step - loss: 0.9765 - accuracy: 0.8757 - val_loss: 1.1323 - val_accuracy: 0.8331 - lr: 0.0010\n",
      "Epoch 6/20\n",
      "50/50 [==============================] - 1s 19ms/step - loss: 0.9167 - accuracy: 0.8941 - val_loss: 1.1289 - val_accuracy: 0.8356 - lr: 0.0010\n",
      "Epoch 7/20\n",
      "50/50 [==============================] - 1s 18ms/step - loss: 0.9082 - accuracy: 0.9034 - val_loss: 1.1828 - val_accuracy: 0.8163 - lr: 0.0010\n",
      "Epoch 8/20\n",
      "50/50 [==============================] - 1s 19ms/step - loss: 0.8835 - accuracy: 0.9099 - val_loss: 1.0836 - val_accuracy: 0.8278 - lr: 0.0010\n",
      "Epoch 9/20\n",
      "50/50 [==============================] - 1s 19ms/step - loss: 0.7929 - accuracy: 0.9248 - val_loss: 1.0682 - val_accuracy: 0.8284 - lr: 0.0010\n",
      "Epoch 10/20\n",
      "50/50 [==============================] - 1s 19ms/step - loss: 0.5857 - accuracy: 0.9538 - val_loss: 0.7784 - val_accuracy: 0.8428 - lr: 5.0000e-04\n",
      "Epoch 11/20\n",
      "50/50 [==============================] - 1s 19ms/step - loss: 0.4649 - accuracy: 0.9668 - val_loss: 0.7485 - val_accuracy: 0.8444 - lr: 5.0000e-04\n",
      "Epoch 12/20\n",
      "50/50 [==============================] - 1s 18ms/step - loss: 0.4501 - accuracy: 0.9680 - val_loss: 0.7612 - val_accuracy: 0.8422 - lr: 5.0000e-04\n",
      "Epoch 13/20\n",
      "50/50 [==============================] - 1s 18ms/step - loss: 0.4491 - accuracy: 0.9665 - val_loss: 0.7547 - val_accuracy: 0.8434 - lr: 5.0000e-04\n",
      "Epoch 14/20\n",
      "50/50 [==============================] - 1s 18ms/step - loss: 0.4306 - accuracy: 0.9686 - val_loss: 0.7630 - val_accuracy: 0.8316 - lr: 5.0000e-04\n",
      "Epoch 15/20\n",
      "50/50 [==============================] - 1s 18ms/step - loss: 0.4260 - accuracy: 0.9695 - val_loss: 0.7757 - val_accuracy: 0.8363 - lr: 5.0000e-04\n",
      "Epoch 16/20\n",
      "50/50 [==============================] - 1s 19ms/step - loss: 0.4344 - accuracy: 0.9694 - val_loss: 0.7996 - val_accuracy: 0.8313 - lr: 5.0000e-04\n"
     ]
    }
   ],
   "source": [
    "history4 = fcnn_v4.fit(X_training,\n",
    "                       y_training_encoded,\n",
    "                       epochs=epochs,\n",
    "                       batch_size=batch_size,\n",
    "                       validation_data=(X_valid, y_valid_encoded),\n",
    "                       callbacks=[new_early_stopping, lr_scheduler]\n",
    "                       )"
   ]
  },
  {
   "cell_type": "code",
   "execution_count": 57,
   "metadata": {},
   "outputs": [
    {
     "data": {
      "image/png": "[encoded data removed]",
      "text/plain": [
       "<Figure size 640x480 with 1 Axes>"
      ]
     },
     "metadata": {},
     "output_type": "display_data"
    }
   ],
   "source": [
    "loss4, val_loss4 = history4.history['loss'], history4.history['val_loss']\n",
    "\n",
    "plt.plot(loss4, label='loss')\n",
    "plt.plot(val_loss4, label='val_loss')\n",
    "plt.legend()\n",
    "plt.show()\n"
   ]
  },
  {
   "cell_type": "markdown",
   "metadata": {},
   "source": [
    "## Modelo 2: LSTM"
   ]
  },
  {
   "cell_type": "markdown",
   "metadata": {},
   "source": [
    "### Parte 1.1: Pré-processamento da entrada"
   ]
  },
  {
   "cell_type": "code",
   "execution_count": 58,
   "metadata": {},
   "outputs": [
    {
     "data": {
      "text/html": [
       "<div>\n",
       "<style scoped>\n",
       "    .dataframe tbody tr th:only-of-type {\n",
       "        vertical-align: middle;\n",
       "    }\n",
       "\n",
       "    .dataframe tbody tr th {\n",
       "        vertical-align: top;\n",
       "    }\n",
       "\n",
       "    .dataframe thead th {\n",
       "        text-align: right;\n",
       "    }\n",
       "</style>\n",
       "<table border=\"1\" class=\"dataframe\">\n",
       "  <thead>\n",
       "    <tr style=\"text-align: right;\">\n",
       "      <th></th>\n",
       "      <th>text</th>\n",
       "      <th>sentiment</th>\n",
       "      <th>processed_text</th>\n",
       "    </tr>\n",
       "  </thead>\n",
       "  <tbody>\n",
       "    <tr>\n",
       "      <th>0</th>\n",
       "      <td>i am feeling completely overwhelmed i have two...</td>\n",
       "      <td>fear</td>\n",
       "      <td>feel completely overwhelmed strategy help feel...</td>\n",
       "    </tr>\n",
       "    <tr>\n",
       "      <th>1</th>\n",
       "      <td>i have the feeling she was amused and delighted</td>\n",
       "      <td>joy</td>\n",
       "      <td>feeling amuse delight</td>\n",
       "    </tr>\n",
       "    <tr>\n",
       "      <th>2</th>\n",
       "      <td>i was able to help chai lifeline with your sup...</td>\n",
       "      <td>joy</td>\n",
       "      <td>able help chai lifeline support encouragement ...</td>\n",
       "    </tr>\n",
       "    <tr>\n",
       "      <th>3</th>\n",
       "      <td>i already feel like i fucked up though because...</td>\n",
       "      <td>anger</td>\n",
       "      <td>feel like fuck not usually eat morning</td>\n",
       "    </tr>\n",
       "    <tr>\n",
       "      <th>4</th>\n",
       "      <td>i still love my so and wish the best for him i...</td>\n",
       "      <td>sadness</td>\n",
       "      <td>love wish good long tolerate effect bm life fa...</td>\n",
       "    </tr>\n",
       "  </tbody>\n",
       "</table>\n",
       "</div>"
      ],
      "text/plain": [
       "                                                text sentiment  \\\n",
       "0  i am feeling completely overwhelmed i have two...      fear   \n",
       "1    i have the feeling she was amused and delighted       joy   \n",
       "2  i was able to help chai lifeline with your sup...       joy   \n",
       "3  i already feel like i fucked up though because...     anger   \n",
       "4  i still love my so and wish the best for him i...   sadness   \n",
       "\n",
       "                                      processed_text  \n",
       "0  feel completely overwhelmed strategy help feel...  \n",
       "1                              feeling amuse delight  \n",
       "2  able help chai lifeline support encouragement ...  \n",
       "3             feel like fuck not usually eat morning  \n",
       "4  love wish good long tolerate effect bm life fa...  "
      ]
     },
     "execution_count": 58,
     "metadata": {},
     "output_type": "execute_result"
    }
   ],
   "source": [
    "data_train.head()"
   ]
  },
  {
   "cell_type": "code",
   "execution_count": 59,
   "metadata": {},
   "outputs": [],
   "source": [
    "tokenizer = Tokenizer()\n",
    "\n",
    "tokenizer.fit_on_texts(data_train['processed_text'])\n"
   ]
  },
  {
   "cell_type": "code",
   "execution_count": 60,
   "metadata": {},
   "outputs": [],
   "source": [
    "sequence_train = tokenizer.texts_to_sequences(data_train['processed_text'])"
   ]
  },
  {
   "cell_type": "code",
   "execution_count": 61,
   "metadata": {},
   "outputs": [
    {
     "data": {
      "text/plain": [
       "numpy.ndarray"
      ]
     },
     "execution_count": 61,
     "metadata": {},
     "output_type": "execute_result"
    }
   ],
   "source": [
    "max_length = 100\n",
    "padded_sequence_train = pad_sequences(sequence_train, truncating='post', maxlen=max_length)\n",
    "type(padded_sequence_train)"
   ]
  },
  {
   "cell_type": "code",
   "execution_count": 62,
   "metadata": {},
   "outputs": [],
   "source": [
    "def preprocessing_v2(text: str | pd.DataFrame, max_length: int = max_length, tokenizer: Tokenizer = tokenizer) -> np.ndarray:\n",
    "    tmp = text\n",
    "    if isinstance(text, str):\n",
    "        tmp = pd.DataFrame({'text': [text]})['text']\n",
    "    tmp['processed_text'] = tmp.apply(process_text)\n",
    "    input = tokenizer.texts_to_sequences(tmp['processed_text'])\n",
    "    final_input = pad_sequences(input, truncating='post', maxlen=max_length)\n",
    "    return final_input"
   ]
  },
  {
   "cell_type": "markdown",
   "metadata": {},
   "source": [
    "### Parte 1.2: Pré-processamento da saída"
   ]
  },
  {
   "cell_type": "code",
   "execution_count": 63,
   "metadata": {},
   "outputs": [],
   "source": [
    "label_encoder_v2 = LabelEncoder()\n",
    "\n",
    "y_train_v2 = label_encoder_v2.fit_transform(data_train['sentiment'])\n",
    "y_test_v2 = label_encoder_v2.transform(data_test['sentiment'])"
   ]
  },
  {
   "cell_type": "code",
   "execution_count": 64,
   "metadata": {},
   "outputs": [],
   "source": [
    "y_train_v2_encoded = to_categorical(y_train_v2)\n",
    "y_test_v2_encoded = to_categorical(y_test_v2)"
   ]
  },
  {
   "cell_type": "code",
   "execution_count": 65,
   "metadata": {},
   "outputs": [],
   "source": [
    "def postprocessing_v2(output: np.ndarray) -> str:\n",
    "    return label_encoder_v2.inverse_transform(output.argmax(axis=1))[0]"
   ]
  },
  {
   "cell_type": "code",
   "execution_count": 66,
   "metadata": {},
   "outputs": [],
   "source": [
    "vocab_size = len(tokenizer.word_index) + 1\n",
    "embed_len = max_length\n",
    "regularizer = 'l1_l2'\n",
    "activation = 'leaky_relu'"
   ]
  },
  {
   "cell_type": "code",
   "execution_count": 94,
   "metadata": {},
   "outputs": [],
   "source": [
    "lstm = Sequential([\n",
    "    Embedding(vocab_size, embed_len, input_length=max_length),\n",
    "    Bidirectional(LSTM(64)),\n",
    "    Dropout(0.4),\n",
    "    Dense(32, activation=activation, kernel_regularizer=regularizer),\n",
    "    Dropout(0.4),\n",
    "    Dense(6, activation='softmax')\n",
    "])"
   ]
  },
  {
   "cell_type": "code",
   "execution_count": 95,
   "metadata": {},
   "outputs": [
    {
     "name": "stdout",
     "output_type": "stream",
     "text": [
      "Model: \"sequential_6\"\n",
      "_________________________________________________________________\n",
      " Layer (type)                Output Shape              Param #   \n",
      "=================================================================\n",
      " embedding_2 (Embedding)     (None, 100, 100)          1189700   \n",
      "                                                                 \n",
      " bidirectional_2 (Bidirecti  (None, 128)               84480     \n",
      " onal)                                                           \n",
      "                                                                 \n",
      " dropout_4 (Dropout)         (None, 128)               0         \n",
      "                                                                 \n",
      " dense_25 (Dense)            (None, 32)                4128      \n",
      "                                                                 \n",
      " dropout_5 (Dropout)         (None, 32)                0         \n",
      "                                                                 \n",
      " dense_26 (Dense)            (None, 6)                 198       \n",
      "                                                                 \n",
      "=================================================================\n",
      "Total params: 1278506 (4.88 MB)\n",
      "Trainable params: 1278506 (4.88 MB)\n",
      "Non-trainable params: 0 (0.00 Byte)\n",
      "_________________________________________________________________\n"
     ]
    }
   ],
   "source": [
    "lstm.compile(optimizer='Adam', loss='categorical_crossentropy', metrics=['accuracy', Precision(), Recall(), AUC()])\n",
    "lstm.summary()"
   ]
  },
  {
   "cell_type": "code",
   "execution_count": 96,
   "metadata": {},
   "outputs": [],
   "source": [
    "early_stopping_v1 = EarlyStopping(patience=5)\n",
    "epochs = 35\n",
    "validation_split = 0.2"
   ]
  },
  {
   "cell_type": "code",
   "execution_count": 97,
   "metadata": {},
   "outputs": [
    {
     "name": "stdout",
     "output_type": "stream",
     "text": [
      "Epoch 1/35\n"
     ]
    },
    {
     "name": "stdout",
     "output_type": "stream",
     "text": [
      "400/400 [==============================] - 11s 23ms/step - loss: 2.4258 - accuracy: 0.3224 - precision_3: 0.3241 - recall_3: 0.0027 - auc_3: 0.7055 - val_loss: 1.6130 - val_accuracy: 0.3262 - val_precision_3: 0.0000e+00 - val_recall_3: 0.0000e+00 - val_auc_3: 0.7307\n",
      "Epoch 2/35\n",
      "400/400 [==============================] - 3s 8ms/step - loss: 1.4637 - accuracy: 0.3717 - precision_3: 0.5270 - recall_3: 0.1013 - auc_3: 0.7980 - val_loss: 1.3690 - val_accuracy: 0.3703 - val_precision_3: 0.5000 - val_recall_3: 0.0012 - val_auc_3: 0.8281\n",
      "Epoch 3/35\n",
      "400/400 [==============================] - 3s 8ms/step - loss: 1.2600 - accuracy: 0.4271 - precision_3: 0.5281 - recall_3: 0.1930 - auc_3: 0.8557 - val_loss: 1.2557 - val_accuracy: 0.4259 - val_precision_3: 0.5192 - val_recall_3: 0.2447 - val_auc_3: 0.8528\n",
      "Epoch 4/35\n",
      "400/400 [==============================] - 3s 7ms/step - loss: 1.1864 - accuracy: 0.4409 - precision_3: 0.5279 - recall_3: 0.2179 - auc_3: 0.8678 - val_loss: 1.2633 - val_accuracy: 0.4263 - val_precision_3: 0.4971 - val_recall_3: 0.2966 - val_auc_3: 0.8541\n",
      "Epoch 5/35\n",
      "400/400 [==============================] - 3s 8ms/step - loss: 1.1205 - accuracy: 0.4632 - precision_3: 0.5373 - recall_3: 0.2456 - auc_3: 0.8788 - val_loss: 1.2082 - val_accuracy: 0.4544 - val_precision_3: 0.5108 - val_recall_3: 0.2812 - val_auc_3: 0.8638\n",
      "Epoch 6/35\n",
      "400/400 [==============================] - 3s 7ms/step - loss: 1.0509 - accuracy: 0.5023 - precision_3: 0.5530 - recall_3: 0.2763 - auc_3: 0.8902 - val_loss: 1.1451 - val_accuracy: 0.4772 - val_precision_3: 0.5278 - val_recall_3: 0.3172 - val_auc_3: 0.8809\n",
      "Epoch 7/35\n",
      "400/400 [==============================] - 3s 7ms/step - loss: 0.9289 - accuracy: 0.6106 - precision_3: 0.7108 - recall_3: 0.4299 - auc_3: 0.9262 - val_loss: 0.9097 - val_accuracy: 0.7181 - val_precision_3: 0.8600 - val_recall_3: 0.5853 - val_auc_3: 0.9387\n",
      "Epoch 8/35\n",
      "400/400 [==============================] - 3s 7ms/step - loss: 0.7049 - accuracy: 0.7709 - precision_3: 0.9203 - recall_3: 0.6313 - auc_3: 0.9682 - val_loss: 0.8090 - val_accuracy: 0.7400 - val_precision_3: 0.8856 - val_recall_3: 0.6094 - val_auc_3: 0.9528\n",
      "Epoch 9/35\n",
      "400/400 [==============================] - 3s 7ms/step - loss: 0.6170 - accuracy: 0.8027 - precision_3: 0.9516 - recall_3: 0.6638 - auc_3: 0.9761 - val_loss: 0.7817 - val_accuracy: 0.7481 - val_precision_3: 0.8962 - val_recall_3: 0.6181 - val_auc_3: 0.9546\n",
      "Epoch 10/35\n",
      "400/400 [==============================] - 3s 7ms/step - loss: 0.5663 - accuracy: 0.8078 - precision_3: 0.9580 - recall_3: 0.6757 - auc_3: 0.9801 - val_loss: 0.8064 - val_accuracy: 0.7469 - val_precision_3: 0.8904 - val_recall_3: 0.6194 - val_auc_3: 0.9538\n",
      "Epoch 11/35\n",
      "400/400 [==============================] - 3s 7ms/step - loss: 0.5336 - accuracy: 0.8159 - precision_3: 0.9682 - recall_3: 0.6850 - auc_3: 0.9823 - val_loss: 0.7874 - val_accuracy: 0.7437 - val_precision_3: 0.8887 - val_recall_3: 0.6166 - val_auc_3: 0.9547\n",
      "Epoch 12/35\n",
      "400/400 [==============================] - 3s 7ms/step - loss: 0.5147 - accuracy: 0.8187 - precision_3: 0.9584 - recall_3: 0.6971 - auc_3: 0.9836 - val_loss: 0.7971 - val_accuracy: 0.7478 - val_precision_3: 0.8715 - val_recall_3: 0.6484 - val_auc_3: 0.9555\n",
      "Epoch 13/35\n",
      "400/400 [==============================] - 3s 7ms/step - loss: 0.4954 - accuracy: 0.8345 - precision_3: 0.9444 - recall_3: 0.7309 - auc_3: 0.9852 - val_loss: 0.8020 - val_accuracy: 0.7728 - val_precision_3: 0.8443 - val_recall_3: 0.7184 - val_auc_3: 0.9557\n",
      "Epoch 14/35\n",
      "400/400 [==============================] - 3s 7ms/step - loss: 0.4661 - accuracy: 0.8684 - precision_3: 0.9408 - recall_3: 0.7757 - auc_3: 0.9885 - val_loss: 0.7545 - val_accuracy: 0.8288 - val_precision_3: 0.8638 - val_recall_3: 0.7791 - val_auc_3: 0.9624\n",
      "Epoch 15/35\n",
      "400/400 [==============================] - 3s 7ms/step - loss: 0.4232 - accuracy: 0.9045 - precision_3: 0.9356 - recall_3: 0.8608 - auc_3: 0.9919 - val_loss: 0.7372 - val_accuracy: 0.8425 - val_precision_3: 0.8540 - val_recall_3: 0.8391 - val_auc_3: 0.9617\n",
      "Epoch 16/35\n",
      "400/400 [==============================] - 3s 7ms/step - loss: 0.3763 - accuracy: 0.9269 - precision_3: 0.9462 - recall_3: 0.9040 - auc_3: 0.9941 - val_loss: 0.7053 - val_accuracy: 0.8584 - val_precision_3: 0.8639 - val_recall_3: 0.8550 - val_auc_3: 0.9663\n",
      "Epoch 17/35\n",
      "400/400 [==============================] - 3s 7ms/step - loss: 0.3447 - accuracy: 0.9337 - precision_3: 0.9468 - recall_3: 0.9205 - auc_3: 0.9954 - val_loss: 0.6947 - val_accuracy: 0.8506 - val_precision_3: 0.8559 - val_recall_3: 0.8481 - val_auc_3: 0.9660\n",
      "Epoch 18/35\n",
      "400/400 [==============================] - 3s 7ms/step - loss: 0.3228 - accuracy: 0.9391 - precision_3: 0.9513 - recall_3: 0.9273 - auc_3: 0.9960 - val_loss: 0.7344 - val_accuracy: 0.8450 - val_precision_3: 0.8544 - val_recall_3: 0.8419 - val_auc_3: 0.9642\n",
      "Epoch 19/35\n",
      "400/400 [==============================] - 3s 7ms/step - loss: 0.3162 - accuracy: 0.9401 - precision_3: 0.9537 - recall_3: 0.9280 - auc_3: 0.9965 - val_loss: 0.7072 - val_accuracy: 0.8662 - val_precision_3: 0.8788 - val_recall_3: 0.8562 - val_auc_3: 0.9649\n",
      "Epoch 20/35\n",
      "400/400 [==============================] - 3s 7ms/step - loss: 0.3013 - accuracy: 0.9474 - precision_3: 0.9597 - recall_3: 0.9346 - auc_3: 0.9968 - val_loss: 0.7039 - val_accuracy: 0.8669 - val_precision_3: 0.8761 - val_recall_3: 0.8619 - val_auc_3: 0.9649\n",
      "Epoch 21/35\n",
      "400/400 [==============================] - 3s 7ms/step - loss: 0.2818 - accuracy: 0.9550 - precision_3: 0.9636 - recall_3: 0.9456 - auc_3: 0.9975 - val_loss: 0.7043 - val_accuracy: 0.8703 - val_precision_3: 0.8773 - val_recall_3: 0.8669 - val_auc_3: 0.9644\n",
      "Epoch 22/35\n",
      "400/400 [==============================] - 3s 7ms/step - loss: 0.2674 - accuracy: 0.9605 - precision_3: 0.9667 - recall_3: 0.9516 - auc_3: 0.9975 - val_loss: 0.7114 - val_accuracy: 0.8644 - val_precision_3: 0.8702 - val_recall_3: 0.8628 - val_auc_3: 0.9662\n"
     ]
    }
   ],
   "source": [
    "history_v1 = lstm.fit(padded_sequence_train,\n",
    "                      y_train_v2_encoded,\n",
    "                      epochs=epochs,\n",
    "                      validation_split=validation_split,\n",
    "                      callbacks=[early_stopping_v1]\n",
    "                      )"
   ]
  },
  {
   "cell_type": "code",
   "execution_count": 98,
   "metadata": {},
   "outputs": [],
   "source": [
    "model_v2 = Model(preprocessing_v2, lstm, postprocessing_v2)"
   ]
  },
  {
   "cell_type": "code",
   "execution_count": 112,
   "metadata": {},
   "outputs": [
    {
     "name": "stdout",
     "output_type": "stream",
     "text": [
      "1/1 [==============================] - ETA: 0s"
     ]
    },
    {
     "name": "stdout",
     "output_type": "stream",
     "text": [
      "1/1 [==============================] - 0s 23ms/step\n"
     ]
    },
    {
     "data": {
      "text/plain": [
       "'joy'"
      ]
     },
     "execution_count": 112,
     "metadata": {},
     "output_type": "execute_result"
    }
   ],
   "source": [
    "model_v2('I am feeling a little bit happy')"
   ]
  },
  {
   "cell_type": "code",
   "execution_count": 78,
   "metadata": {},
   "outputs": [
    {
     "data": {
      "text/plain": [
       "array([[   0,    0,    0, ...,  506, 5698,  569],\n",
       "       [   0,    0,    0, ...,   60,    6,  695],\n",
       "       [   0,    0,    0, ...,  312,   50,  206],\n",
       "       ...,\n",
       "       [   0,    0,    0, ...,  132,    5, 2496],\n",
       "       [   0,    0,    0, ...,   26,  488, 1783],\n",
       "       [   0,    0,    0, ...,  122,  122, 1641]], dtype=int32)"
      ]
     },
     "execution_count": 78,
     "metadata": {},
     "output_type": "execute_result"
    }
   ],
   "source": [
    "X_test_v2 = tokenizer.texts_to_sequences(data_test['processed_text'])\n",
    "X_test_v2 = pad_sequences(X_test_v2, truncating='post', maxlen=max_length)\n",
    "X_test_v2"
   ]
  },
  {
   "cell_type": "code",
   "execution_count": 100,
   "metadata": {},
   "outputs": [
    {
     "name": "stdout",
     "output_type": "stream",
     "text": [
      " 1/63 [..............................] - ETA: 0s"
     ]
    },
    {
     "name": "stdout",
     "output_type": "stream",
     "text": [
      "63/63 [==============================] - 0s 2ms/step\n",
      "              precision    recall  f1-score   support\n",
      "\n",
      "           0       0.86      0.86      0.86       275\n",
      "           1       0.83      0.89      0.86       224\n",
      "           2       0.90      0.89      0.90       695\n",
      "           3       0.63      0.75      0.68       159\n",
      "           4       0.93      0.91      0.92       581\n",
      "           5       0.87      0.50      0.63        66\n",
      "\n",
      "    accuracy                           0.87      2000\n",
      "   macro avg       0.84      0.80      0.81      2000\n",
      "weighted avg       0.87      0.87      0.87      2000\n",
      "\n"
     ]
    }
   ],
   "source": [
    "predict_v2 = lstm.predict(X_test_v2)\n",
    "print(classification_report(y_test_v2, predict_v2.argmax(axis=1)))"
   ]
  },
  {
   "cell_type": "code",
   "execution_count": 113,
   "metadata": {},
   "outputs": [
    {
     "data": {
      "text/plain": [
       "array([[237,  11,   4,   5,  16,   2],\n",
       "       [ 14, 200,   3,   0,   5,   2],\n",
       "       [  4,   1, 621,  54,  14,   1],\n",
       "       [  2,   4,  30, 119,   4,   0],\n",
       "       [ 18,   6,  23,   7, 527,   0],\n",
       "       [  1,  20,   7,   4,   1,  33]])"
      ]
     },
     "execution_count": 113,
     "metadata": {},
     "output_type": "execute_result"
    }
   ],
   "source": [
    "confusion_matrix(y_test_v2, predict_v2.argmax(axis=1))"
   ]
  },
  {
   "cell_type": "code",
   "execution_count": 114,
   "metadata": {},
   "outputs": [
    {
     "data": {
      "text/plain": [
       "0.8685"
      ]
     },
     "execution_count": 114,
     "metadata": {},
     "output_type": "execute_result"
    }
   ],
   "source": [
    "accuracy_score(y_test_v2, predict_v2.argmax(axis=1))"
   ]
  },
  {
   "cell_type": "code",
   "execution_count": 101,
   "metadata": {},
   "outputs": [
    {
     "data": {
      "image/png": "[encoded data removed]",
      "text/plain": [
       "<Figure size 640x480 with 1 Axes>"
      ]
     },
     "metadata": {},
     "output_type": "display_data"
    }
   ],
   "source": [
    "plt.plot(history_v1.history['loss'], label='loss')\n",
    "plt.plot(history_v1.history['val_loss'], label='val_loss')\n",
    "plt.legend()\n",
    "plt.show()"
   ]
  },
  {
   "cell_type": "code",
   "execution_count": null,
   "metadata": {},
   "outputs": [],
   "source": [
    "lstm.save('model_v2.keras')"
   ]
  }
 ],
 "metadata": {
  "kernelspec": {
   "display_name": "aux",
   "language": "python",
   "name": "python3"
  },
  "language_info": {
   "codemirror_mode": {
    "name": "ipython",
    "version": 3
   },
   "file_extension": ".py",
   "mimetype": "text/x-python",
   "name": "python",
   "nbconvert_exporter": "python",
   "pygments_lexer": "ipython3",
   "version": "3.11.7"
  }
 },
 "nbformat": 4,
 "nbformat_minor": 2
}
