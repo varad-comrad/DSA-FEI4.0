{
  "cells": [
    {
      "cell_type": "markdown",
      "metadata": {
        "id": "OR1aEDVb_B8d"
      },
      "source": [
        "<!-- Projeto Desenvolvido na Data Science Academy - www.datascienceacademy.com.br -->\n",
        "# <font color='blue'>Data Science Academy</font>\n",
        "## <font color='blue'>Deep Learning Para Aplicações de Inteligência Artificial com Python e C++</font>\n",
        "## <font color='blue'>Projeto 2</font>\n",
        "## <font color='blue'>Fine-Tuning de Um Modelo Transformer Para Classificação de Sentimento</font>"
      ]
    },
    {
      "cell_type": "code",
      "execution_count": 1,
      "metadata": {
        "id": "Avr6DgH4_B8f"
      },
      "outputs": [],
      "source": [
        "!pip install -q -U watermark"
      ]
    },
    {
      "cell_type": "code",
      "execution_count": 2,
      "metadata": {
        "id": "9soAjmK7_B8g"
      },
      "outputs": [],
      "source": [
        "!pip install -q spacy"
      ]
    },
    {
      "cell_type": "code",
      "execution_count": 3,
      "metadata": {
        "id": "iathhTFF_B8g"
      },
      "outputs": [],
      "source": [
        "!pip install -q tensorflow"
      ]
    },
    {
      "cell_type": "code",
      "execution_count": 4,
      "metadata": {
        "id": "REFEXI--_B8g"
      },
      "outputs": [],
      "source": [
        "!pip install -q transformers"
      ]
    },
    {
      "cell_type": "code",
      "execution_count": 5,
      "metadata": {
        "colab": {
          "base_uri": "https://localhost:8080/"
        },
        "id": "XpP6xKN__B8g",
        "outputId": "ef27438b-5ff2-48e1-e6fb-a4d15c853344"
      },
      "outputs": [
        {
          "output_type": "stream",
          "name": "stdout",
          "text": [
            "env: TF_CPP_MIN_LOG_LEVEL=3\n"
          ]
        }
      ],
      "source": [
        "%env TF_CPP_MIN_LOG_LEVEL=3"
      ]
    },
    {
      "cell_type": "code",
      "execution_count": 6,
      "metadata": {
        "id": "mrIhYRfK_B8g"
      },
      "outputs": [],
      "source": [
        "# Imports\n",
        "import math\n",
        "import nltk\n",
        "import spacy\n",
        "import numpy as np\n",
        "import pandas as pd\n",
        "import tensorflow as tf\n",
        "import matplotlib.pyplot as plt\n",
        "import transformers\n",
        "from tokenizers import BertWordPieceTokenizer\n",
        "from tqdm import tqdm\n",
        "from nltk.corpus import stopwords\n",
        "from sklearn.preprocessing import LabelEncoder\n",
        "from sklearn.feature_extraction.text import TfidfVectorizer\n",
        "from sklearn.model_selection import train_test_split\n",
        "from sklearn.utils.class_weight import compute_class_weight\n",
        "from sklearn.metrics import confusion_matrix, accuracy_score, classification_report\n",
        "from tensorflow import keras\n",
        "from keras.utils import to_categorical\n",
        "from tensorflow.keras import Sequential\n",
        "from tensorflow.keras.models import load_model\n",
        "from keras.preprocessing.text import Tokenizer\n",
        "from keras.metrics import Precision, Recall, AUC\n",
        "from tensorflow.keras.preprocessing.sequence import pad_sequences\n",
        "from keras.layers import Embedding, LSTM, Dense, Dropout, Bidirectional\n",
        "from keras.callbacks import EarlyStopping, LearningRateScheduler, CallbackList, ReduceLROnPlateau\n",
        "from tensorflow.keras.optimizers.experimental import Adam\n",
        "import warnings\n",
        "warnings.filterwarnings('ignore')"
      ]
    },
    {
      "cell_type": "code",
      "execution_count": 7,
      "metadata": {
        "colab": {
          "base_uri": "https://localhost:8080/"
        },
        "id": "u9-bP3S9_B8h",
        "outputId": "eac1802b-3a03-494f-a130-c7e96a9e532c"
      },
      "outputs": [
        {
          "output_type": "stream",
          "name": "stdout",
          "text": [
            "Author: Data Science Academy\n",
            "\n"
          ]
        }
      ],
      "source": [
        "%reload_ext watermark\n",
        "%watermark -a \"Data Science Academy\""
      ]
    },
    {
      "cell_type": "markdown",
      "metadata": {
        "id": "4IJd1Egg_B8h"
      },
      "source": [
        "## Carregando os Dados de Texto"
      ]
    },
    {
      "cell_type": "code",
      "execution_count": 8,
      "metadata": {
        "id": "Ql3PfUAw_B8h"
      },
      "outputs": [],
      "source": [
        "# Carrega os dados de treino\n",
        "dados_dsa_treino = pd.read_csv('dados_treino.txt', header = None, delimiter = ';')"
      ]
    },
    {
      "cell_type": "code",
      "execution_count": 9,
      "metadata": {
        "id": "9bXNAjeT_B8h"
      },
      "outputs": [],
      "source": [
        "# Carrega os dados de teste\n",
        "dados_dsa_teste = pd.read_csv('dados_teste.txt', header = None, delimiter = ';')"
      ]
    },
    {
      "cell_type": "code",
      "execution_count": 10,
      "metadata": {
        "id": "L-eheibo_B8i"
      },
      "outputs": [],
      "source": [
        "# Ajusta os nomes das colunas\n",
        "dados_dsa_treino = dados_dsa_treino.rename(columns = {0: 'texto', 1: 'sentimento'})\n",
        "dados_dsa_teste = dados_dsa_teste.rename(columns = {0: 'texto', 1: 'sentimento'})"
      ]
    },
    {
      "cell_type": "code",
      "execution_count": 11,
      "metadata": {
        "colab": {
          "base_uri": "https://localhost:8080/"
        },
        "id": "IWKgZwQ9_B8i",
        "outputId": "2a4b9bb6-e388-4cd3-8cc5-91b51d52f8c7"
      },
      "outputs": [
        {
          "output_type": "execute_result",
          "data": {
            "text/plain": [
              "(16000, 2)"
            ]
          },
          "metadata": {},
          "execution_count": 11
        }
      ],
      "source": [
        "# Shape\n",
        "dados_dsa_treino.shape"
      ]
    },
    {
      "cell_type": "code",
      "execution_count": 12,
      "metadata": {
        "colab": {
          "base_uri": "https://localhost:8080/"
        },
        "id": "j2e--IbB_B8i",
        "outputId": "0071bba1-afc0-4fe6-aa1f-d37fd6cd017a"
      },
      "outputs": [
        {
          "output_type": "execute_result",
          "data": {
            "text/plain": [
              "(2000, 2)"
            ]
          },
          "metadata": {},
          "execution_count": 12
        }
      ],
      "source": [
        "# Shape\n",
        "dados_dsa_teste.shape"
      ]
    },
    {
      "cell_type": "code",
      "execution_count": 13,
      "metadata": {
        "colab": {
          "base_uri": "https://localhost:8080/",
          "height": 206
        },
        "id": "V7kA_ABx_B8i",
        "outputId": "bebab9ec-14d2-460b-d127-2046c2092f1b"
      },
      "outputs": [
        {
          "output_type": "execute_result",
          "data": {
            "text/plain": [
              "                                               texto sentimento\n",
              "0  i am feeling completely overwhelmed i have two...       fear\n",
              "1    i have the feeling she was amused and delighted        joy\n",
              "2  i was able to help chai lifeline with your sup...        joy\n",
              "3  i already feel like i fucked up though because...      anger\n",
              "4  i still love my so and wish the best for him i...    sadness"
            ],
            "text/html": [
              "\n",
              "  <div id=\"df-1fe44dec-a238-426a-a8b5-d636eb6e60b7\" class=\"colab-df-container\">\n",
              "    <div>\n",
              "<style scoped>\n",
              "    .dataframe tbody tr th:only-of-type {\n",
              "        vertical-align: middle;\n",
              "    }\n",
              "\n",
              "    .dataframe tbody tr th {\n",
              "        vertical-align: top;\n",
              "    }\n",
              "\n",
              "    .dataframe thead th {\n",
              "        text-align: right;\n",
              "    }\n",
              "</style>\n",
              "<table border=\"1\" class=\"dataframe\">\n",
              "  <thead>\n",
              "    <tr style=\"text-align: right;\">\n",
              "      <th></th>\n",
              "      <th>texto</th>\n",
              "      <th>sentimento</th>\n",
              "    </tr>\n",
              "  </thead>\n",
              "  <tbody>\n",
              "    <tr>\n",
              "      <th>0</th>\n",
              "      <td>i am feeling completely overwhelmed i have two...</td>\n",
              "      <td>fear</td>\n",
              "    </tr>\n",
              "    <tr>\n",
              "      <th>1</th>\n",
              "      <td>i have the feeling she was amused and delighted</td>\n",
              "      <td>joy</td>\n",
              "    </tr>\n",
              "    <tr>\n",
              "      <th>2</th>\n",
              "      <td>i was able to help chai lifeline with your sup...</td>\n",
              "      <td>joy</td>\n",
              "    </tr>\n",
              "    <tr>\n",
              "      <th>3</th>\n",
              "      <td>i already feel like i fucked up though because...</td>\n",
              "      <td>anger</td>\n",
              "    </tr>\n",
              "    <tr>\n",
              "      <th>4</th>\n",
              "      <td>i still love my so and wish the best for him i...</td>\n",
              "      <td>sadness</td>\n",
              "    </tr>\n",
              "  </tbody>\n",
              "</table>\n",
              "</div>\n",
              "    <div class=\"colab-df-buttons\">\n",
              "\n",
              "  <div class=\"colab-df-container\">\n",
              "    <button class=\"colab-df-convert\" onclick=\"convertToInteractive('df-1fe44dec-a238-426a-a8b5-d636eb6e60b7')\"\n",
              "            title=\"Convert this dataframe to an interactive table.\"\n",
              "            style=\"display:none;\">\n",
              "\n",
              "  <svg xmlns=\"http://www.w3.org/2000/svg\" height=\"24px\" viewBox=\"0 -960 960 960\">\n",
              "    <path d=\"M120-120v-720h720v720H120Zm60-500h600v-160H180v160Zm220 220h160v-160H400v160Zm0 220h160v-160H400v160ZM180-400h160v-160H180v160Zm440 0h160v-160H620v160ZM180-180h160v-160H180v160Zm440 0h160v-160H620v160Z\"/>\n",
              "  </svg>\n",
              "    </button>\n",
              "\n",
              "  <style>\n",
              "    .colab-df-container {\n",
              "      display:flex;\n",
              "      gap: 12px;\n",
              "    }\n",
              "\n",
              "    .colab-df-convert {\n",
              "      background-color: #E8F0FE;\n",
              "      border: none;\n",
              "      border-radius: 50%;\n",
              "      cursor: pointer;\n",
              "      display: none;\n",
              "      fill: #1967D2;\n",
              "      height: 32px;\n",
              "      padding: 0 0 0 0;\n",
              "      width: 32px;\n",
              "    }\n",
              "\n",
              "    .colab-df-convert:hover {\n",
              "      background-color: #E2EBFA;\n",
              "      box-shadow: 0px 1px 2px rgba(60, 64, 67, 0.3), 0px 1px 3px 1px rgba(60, 64, 67, 0.15);\n",
              "      fill: #174EA6;\n",
              "    }\n",
              "\n",
              "    .colab-df-buttons div {\n",
              "      margin-bottom: 4px;\n",
              "    }\n",
              "\n",
              "    [theme=dark] .colab-df-convert {\n",
              "      background-color: #3B4455;\n",
              "      fill: #D2E3FC;\n",
              "    }\n",
              "\n",
              "    [theme=dark] .colab-df-convert:hover {\n",
              "      background-color: #434B5C;\n",
              "      box-shadow: 0px 1px 3px 1px rgba(0, 0, 0, 0.15);\n",
              "      filter: drop-shadow(0px 1px 2px rgba(0, 0, 0, 0.3));\n",
              "      fill: #FFFFFF;\n",
              "    }\n",
              "  </style>\n",
              "\n",
              "    <script>\n",
              "      const buttonEl =\n",
              "        document.querySelector('#df-1fe44dec-a238-426a-a8b5-d636eb6e60b7 button.colab-df-convert');\n",
              "      buttonEl.style.display =\n",
              "        google.colab.kernel.accessAllowed ? 'block' : 'none';\n",
              "\n",
              "      async function convertToInteractive(key) {\n",
              "        const element = document.querySelector('#df-1fe44dec-a238-426a-a8b5-d636eb6e60b7');\n",
              "        const dataTable =\n",
              "          await google.colab.kernel.invokeFunction('convertToInteractive',\n",
              "                                                    [key], {});\n",
              "        if (!dataTable) return;\n",
              "\n",
              "        const docLinkHtml = 'Like what you see? Visit the ' +\n",
              "          '<a target=\"_blank\" href=https://colab.research.google.com/notebooks/data_table.ipynb>data table notebook</a>'\n",
              "          + ' to learn more about interactive tables.';\n",
              "        element.innerHTML = '';\n",
              "        dataTable['output_type'] = 'display_data';\n",
              "        await google.colab.output.renderOutput(dataTable, element);\n",
              "        const docLink = document.createElement('div');\n",
              "        docLink.innerHTML = docLinkHtml;\n",
              "        element.appendChild(docLink);\n",
              "      }\n",
              "    </script>\n",
              "  </div>\n",
              "\n",
              "\n",
              "<div id=\"df-3d967953-0bdb-436c-b7ac-c01c48b768b4\">\n",
              "  <button class=\"colab-df-quickchart\" onclick=\"quickchart('df-3d967953-0bdb-436c-b7ac-c01c48b768b4')\"\n",
              "            title=\"Suggest charts\"\n",
              "            style=\"display:none;\">\n",
              "\n",
              "<svg xmlns=\"http://www.w3.org/2000/svg\" height=\"24px\"viewBox=\"0 0 24 24\"\n",
              "     width=\"24px\">\n",
              "    <g>\n",
              "        <path d=\"M19 3H5c-1.1 0-2 .9-2 2v14c0 1.1.9 2 2 2h14c1.1 0 2-.9 2-2V5c0-1.1-.9-2-2-2zM9 17H7v-7h2v7zm4 0h-2V7h2v10zm4 0h-2v-4h2v4z\"/>\n",
              "    </g>\n",
              "</svg>\n",
              "  </button>\n",
              "\n",
              "<style>\n",
              "  .colab-df-quickchart {\n",
              "      --bg-color: #E8F0FE;\n",
              "      --fill-color: #1967D2;\n",
              "      --hover-bg-color: #E2EBFA;\n",
              "      --hover-fill-color: #174EA6;\n",
              "      --disabled-fill-color: #AAA;\n",
              "      --disabled-bg-color: #DDD;\n",
              "  }\n",
              "\n",
              "  [theme=dark] .colab-df-quickchart {\n",
              "      --bg-color: #3B4455;\n",
              "      --fill-color: #D2E3FC;\n",
              "      --hover-bg-color: #434B5C;\n",
              "      --hover-fill-color: #FFFFFF;\n",
              "      --disabled-bg-color: #3B4455;\n",
              "      --disabled-fill-color: #666;\n",
              "  }\n",
              "\n",
              "  .colab-df-quickchart {\n",
              "    background-color: var(--bg-color);\n",
              "    border: none;\n",
              "    border-radius: 50%;\n",
              "    cursor: pointer;\n",
              "    display: none;\n",
              "    fill: var(--fill-color);\n",
              "    height: 32px;\n",
              "    padding: 0;\n",
              "    width: 32px;\n",
              "  }\n",
              "\n",
              "  .colab-df-quickchart:hover {\n",
              "    background-color: var(--hover-bg-color);\n",
              "    box-shadow: 0 1px 2px rgba(60, 64, 67, 0.3), 0 1px 3px 1px rgba(60, 64, 67, 0.15);\n",
              "    fill: var(--button-hover-fill-color);\n",
              "  }\n",
              "\n",
              "  .colab-df-quickchart-complete:disabled,\n",
              "  .colab-df-quickchart-complete:disabled:hover {\n",
              "    background-color: var(--disabled-bg-color);\n",
              "    fill: var(--disabled-fill-color);\n",
              "    box-shadow: none;\n",
              "  }\n",
              "\n",
              "  .colab-df-spinner {\n",
              "    border: 2px solid var(--fill-color);\n",
              "    border-color: transparent;\n",
              "    border-bottom-color: var(--fill-color);\n",
              "    animation:\n",
              "      spin 1s steps(1) infinite;\n",
              "  }\n",
              "\n",
              "  @keyframes spin {\n",
              "    0% {\n",
              "      border-color: transparent;\n",
              "      border-bottom-color: var(--fill-color);\n",
              "      border-left-color: var(--fill-color);\n",
              "    }\n",
              "    20% {\n",
              "      border-color: transparent;\n",
              "      border-left-color: var(--fill-color);\n",
              "      border-top-color: var(--fill-color);\n",
              "    }\n",
              "    30% {\n",
              "      border-color: transparent;\n",
              "      border-left-color: var(--fill-color);\n",
              "      border-top-color: var(--fill-color);\n",
              "      border-right-color: var(--fill-color);\n",
              "    }\n",
              "    40% {\n",
              "      border-color: transparent;\n",
              "      border-right-color: var(--fill-color);\n",
              "      border-top-color: var(--fill-color);\n",
              "    }\n",
              "    60% {\n",
              "      border-color: transparent;\n",
              "      border-right-color: var(--fill-color);\n",
              "    }\n",
              "    80% {\n",
              "      border-color: transparent;\n",
              "      border-right-color: var(--fill-color);\n",
              "      border-bottom-color: var(--fill-color);\n",
              "    }\n",
              "    90% {\n",
              "      border-color: transparent;\n",
              "      border-bottom-color: var(--fill-color);\n",
              "    }\n",
              "  }\n",
              "</style>\n",
              "\n",
              "  <script>\n",
              "    async function quickchart(key) {\n",
              "      const quickchartButtonEl =\n",
              "        document.querySelector('#' + key + ' button');\n",
              "      quickchartButtonEl.disabled = true;  // To prevent multiple clicks.\n",
              "      quickchartButtonEl.classList.add('colab-df-spinner');\n",
              "      try {\n",
              "        const charts = await google.colab.kernel.invokeFunction(\n",
              "            'suggestCharts', [key], {});\n",
              "      } catch (error) {\n",
              "        console.error('Error during call to suggestCharts:', error);\n",
              "      }\n",
              "      quickchartButtonEl.classList.remove('colab-df-spinner');\n",
              "      quickchartButtonEl.classList.add('colab-df-quickchart-complete');\n",
              "    }\n",
              "    (() => {\n",
              "      let quickchartButtonEl =\n",
              "        document.querySelector('#df-3d967953-0bdb-436c-b7ac-c01c48b768b4 button');\n",
              "      quickchartButtonEl.style.display =\n",
              "        google.colab.kernel.accessAllowed ? 'block' : 'none';\n",
              "    })();\n",
              "  </script>\n",
              "</div>\n",
              "\n",
              "    </div>\n",
              "  </div>\n"
            ]
          },
          "metadata": {},
          "execution_count": 13
        }
      ],
      "source": [
        "# Amostra de treino\n",
        "dados_dsa_treino.head()"
      ]
    },
    {
      "cell_type": "markdown",
      "metadata": {
        "id": "T5NBhRcJ_B8i"
      },
      "source": [
        "> A coluna **texto** será a variável de entrada e **sentimento** a variável de saída."
      ]
    },
    {
      "cell_type": "code",
      "execution_count": 14,
      "metadata": {
        "colab": {
          "base_uri": "https://localhost:8080/"
        },
        "id": "41dAL7vU_B8i",
        "outputId": "7411d693-5e48-41cd-9510-ea3f1f46a943"
      },
      "outputs": [
        {
          "output_type": "execute_result",
          "data": {
            "text/plain": [
              "joy         5362\n",
              "sadness     4666\n",
              "anger       2159\n",
              "fear        1937\n",
              "love        1304\n",
              "surprise     572\n",
              "Name: sentimento, dtype: int64"
            ]
          },
          "metadata": {},
          "execution_count": 14
        }
      ],
      "source": [
        "# Sentimentos presentes nos dados de treino\n",
        "dados_dsa_treino['sentimento'].value_counts()"
      ]
    },
    {
      "cell_type": "code",
      "execution_count": 15,
      "metadata": {
        "colab": {
          "base_uri": "https://localhost:8080/"
        },
        "id": "Op1vebEi_B8j",
        "outputId": "08306ae7-43fb-42c2-9ff3-2315125428a1"
      },
      "outputs": [
        {
          "output_type": "execute_result",
          "data": {
            "text/plain": [
              "joy         695\n",
              "sadness     581\n",
              "anger       275\n",
              "fear        224\n",
              "love        159\n",
              "surprise     66\n",
              "Name: sentimento, dtype: int64"
            ]
          },
          "metadata": {},
          "execution_count": 15
        }
      ],
      "source": [
        "# Sentimentos presentes nos dados de teste\n",
        "dados_dsa_teste['sentimento'].value_counts()"
      ]
    },
    {
      "cell_type": "markdown",
      "metadata": {
        "id": "HTNI6uDD_B8j"
      },
      "source": [
        "## Pré-Processamento dos Dados de Texto com SpaCy\n",
        "\n",
        "https://spacy.io/"
      ]
    },
    {
      "cell_type": "code",
      "execution_count": 16,
      "metadata": {
        "colab": {
          "base_uri": "https://localhost:8080/"
        },
        "id": "bAgMimio_B8j",
        "outputId": "3d16c35c-da62-429d-8f68-1814d37d4528"
      },
      "outputs": [
        {
          "output_type": "stream",
          "name": "stdout",
          "text": [
            "\u001b[2K     \u001b[90m━━━━━━━━━━━━━━━━━━━━━━━━━━━━━━━━━━━━━━━━\u001b[0m \u001b[32m42.8/42.8 MB\u001b[0m \u001b[31m12.7 MB/s\u001b[0m eta \u001b[36m0:00:00\u001b[0m\n",
            "\u001b[?25h\u001b[38;5;2m✔ Download and installation successful\u001b[0m\n",
            "You can now load the package via spacy.load('en_core_web_md')\n"
          ]
        }
      ],
      "source": [
        "!python -m spacy download en_core_web_md -q"
      ]
    },
    {
      "cell_type": "code",
      "execution_count": 17,
      "metadata": {
        "id": "uNCFek9w_B8j"
      },
      "outputs": [],
      "source": [
        "# Carrega o dicionário\n",
        "dsa_nlp = spacy.load('en_core_web_md')"
      ]
    },
    {
      "cell_type": "code",
      "execution_count": 18,
      "metadata": {
        "id": "epbG8NVe_B8j"
      },
      "outputs": [],
      "source": [
        "# Definição da função 'dsa_preprocessa_texto' que recebe um texto como parâmetro\n",
        "def dsa_preprocessa_texto(text):\n",
        "\n",
        "    # Processa o texto usando o dicionário\n",
        "    doc = dsa_nlp(text)\n",
        "\n",
        "    # Cria uma lista de lemas dos tokens, convertidos para minúsculas e sem espaços em branco,\n",
        "    # excluindo as palavras que são stopwords\n",
        "    tokens = [token.lemma_.lower().strip() for token in doc if not token.is_stop]\n",
        "\n",
        "    # Retorna os tokens processados como uma string única, unindo-os com espaços\n",
        "    return ' '.join(tokens)"
      ]
    },
    {
      "cell_type": "code",
      "execution_count": 19,
      "metadata": {
        "id": "c8id0as__B8j"
      },
      "outputs": [],
      "source": [
        "# Aplica a função em treino\n",
        "dados_dsa_treino['texto_processado'] = dados_dsa_treino['texto'].apply(dsa_preprocessa_texto)"
      ]
    },
    {
      "cell_type": "code",
      "execution_count": 20,
      "metadata": {
        "id": "-DjiqZu__B8j"
      },
      "outputs": [],
      "source": [
        "# Aplica a função em teste\n",
        "dados_dsa_teste['texto_processado'] = dados_dsa_teste['texto'].apply(dsa_preprocessa_texto)"
      ]
    },
    {
      "cell_type": "code",
      "execution_count": 21,
      "metadata": {
        "colab": {
          "base_uri": "https://localhost:8080/",
          "height": 206
        },
        "id": "3S1u1jwW_B8k",
        "outputId": "db2c3af2-e141-46bc-ea19-6f0abb7900bd"
      },
      "outputs": [
        {
          "output_type": "execute_result",
          "data": {
            "text/plain": [
              "                                               texto sentimento  \\\n",
              "0  i am feeling completely overwhelmed i have two...       fear   \n",
              "1    i have the feeling she was amused and delighted        joy   \n",
              "2  i was able to help chai lifeline with your sup...        joy   \n",
              "3  i already feel like i fucked up though because...      anger   \n",
              "4  i still love my so and wish the best for him i...    sadness   \n",
              "\n",
              "                                    texto_processado  \n",
              "0  feel completely overwhelmed strategy help feel...  \n",
              "1                              feeling amuse delight  \n",
              "2  able help chai lifeline support encouragement ...  \n",
              "3             feel like fuck not usually eat morning  \n",
              "4  love wish good long tolerate effect bm life fa...  "
            ],
            "text/html": [
              "\n",
              "  <div id=\"df-96275b47-1fae-4c1d-b60f-d24a76058627\" class=\"colab-df-container\">\n",
              "    <div>\n",
              "<style scoped>\n",
              "    .dataframe tbody tr th:only-of-type {\n",
              "        vertical-align: middle;\n",
              "    }\n",
              "\n",
              "    .dataframe tbody tr th {\n",
              "        vertical-align: top;\n",
              "    }\n",
              "\n",
              "    .dataframe thead th {\n",
              "        text-align: right;\n",
              "    }\n",
              "</style>\n",
              "<table border=\"1\" class=\"dataframe\">\n",
              "  <thead>\n",
              "    <tr style=\"text-align: right;\">\n",
              "      <th></th>\n",
              "      <th>texto</th>\n",
              "      <th>sentimento</th>\n",
              "      <th>texto_processado</th>\n",
              "    </tr>\n",
              "  </thead>\n",
              "  <tbody>\n",
              "    <tr>\n",
              "      <th>0</th>\n",
              "      <td>i am feeling completely overwhelmed i have two...</td>\n",
              "      <td>fear</td>\n",
              "      <td>feel completely overwhelmed strategy help feel...</td>\n",
              "    </tr>\n",
              "    <tr>\n",
              "      <th>1</th>\n",
              "      <td>i have the feeling she was amused and delighted</td>\n",
              "      <td>joy</td>\n",
              "      <td>feeling amuse delight</td>\n",
              "    </tr>\n",
              "    <tr>\n",
              "      <th>2</th>\n",
              "      <td>i was able to help chai lifeline with your sup...</td>\n",
              "      <td>joy</td>\n",
              "      <td>able help chai lifeline support encouragement ...</td>\n",
              "    </tr>\n",
              "    <tr>\n",
              "      <th>3</th>\n",
              "      <td>i already feel like i fucked up though because...</td>\n",
              "      <td>anger</td>\n",
              "      <td>feel like fuck not usually eat morning</td>\n",
              "    </tr>\n",
              "    <tr>\n",
              "      <th>4</th>\n",
              "      <td>i still love my so and wish the best for him i...</td>\n",
              "      <td>sadness</td>\n",
              "      <td>love wish good long tolerate effect bm life fa...</td>\n",
              "    </tr>\n",
              "  </tbody>\n",
              "</table>\n",
              "</div>\n",
              "    <div class=\"colab-df-buttons\">\n",
              "\n",
              "  <div class=\"colab-df-container\">\n",
              "    <button class=\"colab-df-convert\" onclick=\"convertToInteractive('df-96275b47-1fae-4c1d-b60f-d24a76058627')\"\n",
              "            title=\"Convert this dataframe to an interactive table.\"\n",
              "            style=\"display:none;\">\n",
              "\n",
              "  <svg xmlns=\"http://www.w3.org/2000/svg\" height=\"24px\" viewBox=\"0 -960 960 960\">\n",
              "    <path d=\"M120-120v-720h720v720H120Zm60-500h600v-160H180v160Zm220 220h160v-160H400v160Zm0 220h160v-160H400v160ZM180-400h160v-160H180v160Zm440 0h160v-160H620v160ZM180-180h160v-160H180v160Zm440 0h160v-160H620v160Z\"/>\n",
              "  </svg>\n",
              "    </button>\n",
              "\n",
              "  <style>\n",
              "    .colab-df-container {\n",
              "      display:flex;\n",
              "      gap: 12px;\n",
              "    }\n",
              "\n",
              "    .colab-df-convert {\n",
              "      background-color: #E8F0FE;\n",
              "      border: none;\n",
              "      border-radius: 50%;\n",
              "      cursor: pointer;\n",
              "      display: none;\n",
              "      fill: #1967D2;\n",
              "      height: 32px;\n",
              "      padding: 0 0 0 0;\n",
              "      width: 32px;\n",
              "    }\n",
              "\n",
              "    .colab-df-convert:hover {\n",
              "      background-color: #E2EBFA;\n",
              "      box-shadow: 0px 1px 2px rgba(60, 64, 67, 0.3), 0px 1px 3px 1px rgba(60, 64, 67, 0.15);\n",
              "      fill: #174EA6;\n",
              "    }\n",
              "\n",
              "    .colab-df-buttons div {\n",
              "      margin-bottom: 4px;\n",
              "    }\n",
              "\n",
              "    [theme=dark] .colab-df-convert {\n",
              "      background-color: #3B4455;\n",
              "      fill: #D2E3FC;\n",
              "    }\n",
              "\n",
              "    [theme=dark] .colab-df-convert:hover {\n",
              "      background-color: #434B5C;\n",
              "      box-shadow: 0px 1px 3px 1px rgba(0, 0, 0, 0.15);\n",
              "      filter: drop-shadow(0px 1px 2px rgba(0, 0, 0, 0.3));\n",
              "      fill: #FFFFFF;\n",
              "    }\n",
              "  </style>\n",
              "\n",
              "    <script>\n",
              "      const buttonEl =\n",
              "        document.querySelector('#df-96275b47-1fae-4c1d-b60f-d24a76058627 button.colab-df-convert');\n",
              "      buttonEl.style.display =\n",
              "        google.colab.kernel.accessAllowed ? 'block' : 'none';\n",
              "\n",
              "      async function convertToInteractive(key) {\n",
              "        const element = document.querySelector('#df-96275b47-1fae-4c1d-b60f-d24a76058627');\n",
              "        const dataTable =\n",
              "          await google.colab.kernel.invokeFunction('convertToInteractive',\n",
              "                                                    [key], {});\n",
              "        if (!dataTable) return;\n",
              "\n",
              "        const docLinkHtml = 'Like what you see? Visit the ' +\n",
              "          '<a target=\"_blank\" href=https://colab.research.google.com/notebooks/data_table.ipynb>data table notebook</a>'\n",
              "          + ' to learn more about interactive tables.';\n",
              "        element.innerHTML = '';\n",
              "        dataTable['output_type'] = 'display_data';\n",
              "        await google.colab.output.renderOutput(dataTable, element);\n",
              "        const docLink = document.createElement('div');\n",
              "        docLink.innerHTML = docLinkHtml;\n",
              "        element.appendChild(docLink);\n",
              "      }\n",
              "    </script>\n",
              "  </div>\n",
              "\n",
              "\n",
              "<div id=\"df-dd3c6cd9-8dfd-4137-a192-59227658086a\">\n",
              "  <button class=\"colab-df-quickchart\" onclick=\"quickchart('df-dd3c6cd9-8dfd-4137-a192-59227658086a')\"\n",
              "            title=\"Suggest charts\"\n",
              "            style=\"display:none;\">\n",
              "\n",
              "<svg xmlns=\"http://www.w3.org/2000/svg\" height=\"24px\"viewBox=\"0 0 24 24\"\n",
              "     width=\"24px\">\n",
              "    <g>\n",
              "        <path d=\"M19 3H5c-1.1 0-2 .9-2 2v14c0 1.1.9 2 2 2h14c1.1 0 2-.9 2-2V5c0-1.1-.9-2-2-2zM9 17H7v-7h2v7zm4 0h-2V7h2v10zm4 0h-2v-4h2v4z\"/>\n",
              "    </g>\n",
              "</svg>\n",
              "  </button>\n",
              "\n",
              "<style>\n",
              "  .colab-df-quickchart {\n",
              "      --bg-color: #E8F0FE;\n",
              "      --fill-color: #1967D2;\n",
              "      --hover-bg-color: #E2EBFA;\n",
              "      --hover-fill-color: #174EA6;\n",
              "      --disabled-fill-color: #AAA;\n",
              "      --disabled-bg-color: #DDD;\n",
              "  }\n",
              "\n",
              "  [theme=dark] .colab-df-quickchart {\n",
              "      --bg-color: #3B4455;\n",
              "      --fill-color: #D2E3FC;\n",
              "      --hover-bg-color: #434B5C;\n",
              "      --hover-fill-color: #FFFFFF;\n",
              "      --disabled-bg-color: #3B4455;\n",
              "      --disabled-fill-color: #666;\n",
              "  }\n",
              "\n",
              "  .colab-df-quickchart {\n",
              "    background-color: var(--bg-color);\n",
              "    border: none;\n",
              "    border-radius: 50%;\n",
              "    cursor: pointer;\n",
              "    display: none;\n",
              "    fill: var(--fill-color);\n",
              "    height: 32px;\n",
              "    padding: 0;\n",
              "    width: 32px;\n",
              "  }\n",
              "\n",
              "  .colab-df-quickchart:hover {\n",
              "    background-color: var(--hover-bg-color);\n",
              "    box-shadow: 0 1px 2px rgba(60, 64, 67, 0.3), 0 1px 3px 1px rgba(60, 64, 67, 0.15);\n",
              "    fill: var(--button-hover-fill-color);\n",
              "  }\n",
              "\n",
              "  .colab-df-quickchart-complete:disabled,\n",
              "  .colab-df-quickchart-complete:disabled:hover {\n",
              "    background-color: var(--disabled-bg-color);\n",
              "    fill: var(--disabled-fill-color);\n",
              "    box-shadow: none;\n",
              "  }\n",
              "\n",
              "  .colab-df-spinner {\n",
              "    border: 2px solid var(--fill-color);\n",
              "    border-color: transparent;\n",
              "    border-bottom-color: var(--fill-color);\n",
              "    animation:\n",
              "      spin 1s steps(1) infinite;\n",
              "  }\n",
              "\n",
              "  @keyframes spin {\n",
              "    0% {\n",
              "      border-color: transparent;\n",
              "      border-bottom-color: var(--fill-color);\n",
              "      border-left-color: var(--fill-color);\n",
              "    }\n",
              "    20% {\n",
              "      border-color: transparent;\n",
              "      border-left-color: var(--fill-color);\n",
              "      border-top-color: var(--fill-color);\n",
              "    }\n",
              "    30% {\n",
              "      border-color: transparent;\n",
              "      border-left-color: var(--fill-color);\n",
              "      border-top-color: var(--fill-color);\n",
              "      border-right-color: var(--fill-color);\n",
              "    }\n",
              "    40% {\n",
              "      border-color: transparent;\n",
              "      border-right-color: var(--fill-color);\n",
              "      border-top-color: var(--fill-color);\n",
              "    }\n",
              "    60% {\n",
              "      border-color: transparent;\n",
              "      border-right-color: var(--fill-color);\n",
              "    }\n",
              "    80% {\n",
              "      border-color: transparent;\n",
              "      border-right-color: var(--fill-color);\n",
              "      border-bottom-color: var(--fill-color);\n",
              "    }\n",
              "    90% {\n",
              "      border-color: transparent;\n",
              "      border-bottom-color: var(--fill-color);\n",
              "    }\n",
              "  }\n",
              "</style>\n",
              "\n",
              "  <script>\n",
              "    async function quickchart(key) {\n",
              "      const quickchartButtonEl =\n",
              "        document.querySelector('#' + key + ' button');\n",
              "      quickchartButtonEl.disabled = true;  // To prevent multiple clicks.\n",
              "      quickchartButtonEl.classList.add('colab-df-spinner');\n",
              "      try {\n",
              "        const charts = await google.colab.kernel.invokeFunction(\n",
              "            'suggestCharts', [key], {});\n",
              "      } catch (error) {\n",
              "        console.error('Error during call to suggestCharts:', error);\n",
              "      }\n",
              "      quickchartButtonEl.classList.remove('colab-df-spinner');\n",
              "      quickchartButtonEl.classList.add('colab-df-quickchart-complete');\n",
              "    }\n",
              "    (() => {\n",
              "      let quickchartButtonEl =\n",
              "        document.querySelector('#df-dd3c6cd9-8dfd-4137-a192-59227658086a button');\n",
              "      quickchartButtonEl.style.display =\n",
              "        google.colab.kernel.accessAllowed ? 'block' : 'none';\n",
              "    })();\n",
              "  </script>\n",
              "</div>\n",
              "\n",
              "    </div>\n",
              "  </div>\n"
            ]
          },
          "metadata": {},
          "execution_count": 21
        }
      ],
      "source": [
        "# Amostra de dados\n",
        "dados_dsa_treino.head()"
      ]
    },
    {
      "cell_type": "markdown",
      "metadata": {
        "id": "89C7Nu5b_B8k"
      },
      "source": [
        "## Versão 1 do Modelo - Arquitetura Fully Connected Neural Network"
      ]
    },
    {
      "cell_type": "markdown",
      "metadata": {
        "id": "-nf4z0-P_B8k"
      },
      "source": [
        "### Passo1: Vetorização com TF-IDF"
      ]
    },
    {
      "cell_type": "code",
      "execution_count": 22,
      "metadata": {
        "id": "zSYgriUW_B8k"
      },
      "outputs": [],
      "source": [
        "# Cria o vetorizador\n",
        "dsa_tfidf = TfidfVectorizer(max_df = 0.95, min_df = 2, stop_words = 'english')"
      ]
    },
    {
      "cell_type": "markdown",
      "metadata": {
        "id": "9vPqYDeA_B8k"
      },
      "source": [
        "Esta linha acima cria uma instância do TfidfVectorizer da biblioteca scikit-learn, que é uma ferramenta utilizada para converter uma coleção de documentos brutos em uma matriz de recursos TF-IDF (Term Frequency-Inverse Document Frequency). O TF-IDF é uma técnica estatística usada para quantificar a importância de uma palavra em um conjunto de documentos, comumente utilizada em tarefas de processamento de linguagem natural e recuperação de informações.\n",
        "\n",
        "**Parâmetro max_df=0.95**: Este parâmetro define o limite máximo de frequência de documento para os termos que serão considerados. Aqui, está definido como 0.95, o que significa que palavras que aparecem em mais de 95% dos documentos serão ignoradas. Isso ajuda a eliminar palavras comuns que não contribuem muito para o significado do texto.\n",
        "\n",
        "**Parâmetro min_df=2**: Este parâmetro estabelece a frequência mínima de documento para os termos. Neste caso, termos que aparecem em menos de 2 documentos serão ignorados. Isso ajuda a filtrar termos raros que podem ocorrer apenas em poucas amostras e, portanto, são menos relevantes para a análise geral.\n",
        "\n",
        "**Parâmetro stop_words='english'**: Este parâmetro instrui o vetorizador a remover todas as palavras de parada em inglês da análise. Palavras de parada são palavras comuns (como \"e\", \"o\", \"em\") que geralmente são filtradas em processamento de linguagem natural porque são muito frequentes e não carregam informações significativas para a análise de texto."
      ]
    },
    {
      "cell_type": "code",
      "execution_count": 23,
      "metadata": {
        "id": "mXS9Zpw8_B8k"
      },
      "outputs": [],
      "source": [
        "# Aplica o vetorizador\n",
        "dados_treino_tfidf = dsa_tfidf.fit_transform(dados_dsa_treino['texto_processado'])\n",
        "dados_teste_tfidf = dsa_tfidf.transform(dados_dsa_teste['texto_processado'])"
      ]
    },
    {
      "cell_type": "code",
      "execution_count": 24,
      "metadata": {
        "colab": {
          "base_uri": "https://localhost:8080/"
        },
        "id": "wCxWLN3X_B8k",
        "outputId": "b0b79135-9fe7-4c41-8290-3118776e4f6a"
      },
      "outputs": [
        {
          "output_type": "execute_result",
          "data": {
            "text/plain": [
              "(16000, 5587)"
            ]
          },
          "metadata": {},
          "execution_count": 24
        }
      ],
      "source": [
        "dados_treino_tfidf.shape"
      ]
    },
    {
      "cell_type": "code",
      "execution_count": 25,
      "metadata": {
        "colab": {
          "base_uri": "https://localhost:8080/"
        },
        "id": "9nxCwrS9_B8k",
        "outputId": "e0c2b5b7-7070-4c51-c12d-dce4b5b92e8c"
      },
      "outputs": [
        {
          "output_type": "execute_result",
          "data": {
            "text/plain": [
              "scipy.sparse._csr.csr_matrix"
            ]
          },
          "metadata": {},
          "execution_count": 25
        }
      ],
      "source": [
        "type(dados_treino_tfidf)"
      ]
    },
    {
      "cell_type": "code",
      "execution_count": 26,
      "metadata": {
        "id": "1Pd3pjcX_B8l"
      },
      "outputs": [],
      "source": [
        "# Converte os dados de entrada (texto) para array\n",
        "X_treino_array = dados_treino_tfidf.toarray()\n",
        "X_teste_array = dados_teste_tfidf.toarray()"
      ]
    },
    {
      "cell_type": "markdown",
      "metadata": {
        "id": "O1pS96Ye_B8l"
      },
      "source": [
        "### Passo 2: Preparação dos Dados"
      ]
    },
    {
      "cell_type": "markdown",
      "metadata": {
        "id": "1bptWqnl_B8l"
      },
      "source": [
        "Precisamos agora converter a variável alvo para representação numérica. Usaremos Label Encoding."
      ]
    },
    {
      "cell_type": "code",
      "execution_count": 27,
      "metadata": {
        "id": "0gqhSQfZ_B8l"
      },
      "outputs": [],
      "source": [
        "# Cria o label encoder\n",
        "dsa_le_v1 = LabelEncoder()"
      ]
    },
    {
      "cell_type": "code",
      "execution_count": 28,
      "metadata": {
        "id": "XgeZucUD_B8l"
      },
      "outputs": [],
      "source": [
        "# Faz o fit e transform na variável alvo em treino\n",
        "y_treino_le = dsa_le_v1.fit_transform(dados_dsa_treino['sentimento'])"
      ]
    },
    {
      "cell_type": "code",
      "execution_count": 29,
      "metadata": {
        "id": "pAg9SmaA_B8l"
      },
      "outputs": [],
      "source": [
        "# Faz transform na variável alvo em teste\n",
        "y_teste_le = dsa_le_v1.transform(dados_dsa_teste['sentimento'])"
      ]
    },
    {
      "cell_type": "markdown",
      "metadata": {
        "id": "lsWglRJ-_B8l"
      },
      "source": [
        "Vamos tratar de forma automática o desbalanceamento de classe."
      ]
    },
    {
      "cell_type": "code",
      "execution_count": 30,
      "metadata": {
        "id": "NLYjH-p__B8q"
      },
      "outputs": [],
      "source": [
        "# Peso das classes\n",
        "pesos_classes = compute_class_weight('balanced', classes = np.unique(y_treino_le), y = y_treino_le)"
      ]
    },
    {
      "cell_type": "code",
      "execution_count": 31,
      "metadata": {
        "colab": {
          "base_uri": "https://localhost:8080/"
        },
        "id": "cT7EuDPZ_B8q",
        "outputId": "d428cc54-547c-4cf6-d6f0-4be2440830cd"
      },
      "outputs": [
        {
          "output_type": "execute_result",
          "data": {
            "text/plain": [
              "numpy.ndarray"
            ]
          },
          "metadata": {},
          "execution_count": 31
        }
      ],
      "source": [
        "type(pesos_classes)"
      ]
    },
    {
      "cell_type": "markdown",
      "metadata": {
        "id": "2yoBRF-F_B8q"
      },
      "source": [
        "**compute_class_weight**: Esta é uma função do scikit-learn que calcula os pesos para as classes. Esses pesos podem ser usados em modelos de classificação para dar mais importância a classes que são sub-representadas no conjunto de dados.\n",
        "\n",
        "**'balanced'**: Este parâmetro indica que os pesos das classes devem ser calculados de forma que equilibrem o conjunto de dados. Isso é feito inversamente proporcional à frequência das classes no conjunto de dados. Classes mais frequentes recebem um peso menor, enquanto classes menos frequentes recebem um peso maior.\n",
        "\n",
        "**classes = np.unique(y_treino_le)**: Aqui, np.unique(y_treino_le) encontra todas as classes únicas no conjunto de dados de treinamento. O parâmetro classes informa à função compute_class_weight quais são essas classes únicas.\n",
        "\n",
        "**y = y_treino_le**: Este é o vetor de rótulos do conjunto de dados de treinamento. A função usará esses rótulos para calcular a frequência de cada classe.\n",
        "\n",
        "O resultado, armazenado em pesos_classes, é um array onde cada classe tem um peso associado. Esses pesos podem ser usados em modelos de classificação (como uma árvore de decisão, um modelo de regressão logística, SVM, etc.) para compensar o desequilíbrio entre as classes."
      ]
    },
    {
      "cell_type": "code",
      "execution_count": 32,
      "metadata": {
        "id": "lBA6fUD__B8q"
      },
      "outputs": [],
      "source": [
        "# Divisão em Dados de Treino e Teste (validação)\n",
        "X_treino, X_val, y_treino, y_val = train_test_split(X_treino_array,\n",
        "                                                    y_treino_le,\n",
        "                                                    test_size = 0.2,\n",
        "                                                    random_state = 42,\n",
        "                                                    stratify = y_treino_le)"
      ]
    },
    {
      "cell_type": "code",
      "execution_count": 33,
      "metadata": {
        "id": "LHlKB5LN_B8q"
      },
      "outputs": [],
      "source": [
        "# Ajusta a variável alvo como tipo categórico\n",
        "y_treino_encoded = to_categorical(y_treino)\n",
        "y_teste_encoded = to_categorical(y_teste_le)\n",
        "y_val_encoded = to_categorical(y_val)"
      ]
    },
    {
      "cell_type": "code",
      "execution_count": 34,
      "metadata": {
        "colab": {
          "base_uri": "https://localhost:8080/"
        },
        "id": "bKjZhw4__B8r",
        "outputId": "15ec55cf-ceba-4061-d86c-42b9c0bc34c8"
      },
      "outputs": [
        {
          "output_type": "execute_result",
          "data": {
            "text/plain": [
              "((12800, 6), (2000, 6), (3200, 6))"
            ]
          },
          "metadata": {},
          "execution_count": 34
        }
      ],
      "source": [
        "# Shape\n",
        "y_treino_encoded.shape, y_teste_encoded.shape, y_val_encoded.shape"
      ]
    },
    {
      "cell_type": "markdown",
      "metadata": {
        "id": "cFKx6KI1_B8r"
      },
      "source": [
        "### Passo 3:  Construção do Modelo"
      ]
    },
    {
      "cell_type": "code",
      "execution_count": 35,
      "metadata": {
        "id": "EfCTRUYy_B8r"
      },
      "outputs": [],
      "source": [
        "# Cria o modelo\n",
        "\n",
        "# Inicializa um modelo sequencial. Modelos sequenciais são uma pilha linear de camadas.\n",
        "modelo_dsa_v1 = Sequential()\n",
        "\n",
        "# Adiciona a primeira camada densa (fully-connected) ao modelo\n",
        "modelo_dsa_v1.add(Dense(4096,\n",
        "\n",
        "                        # Utiliza a função de ativação SELU (Scaled Exponential Linear Unit)\n",
        "                        activation = 'selu',\n",
        "\n",
        "                        # Inicializa os pesos com a distribuição LeCun normal\n",
        "                        kernel_initializer = 'lecun_normal',\n",
        "\n",
        "                        # Define o formato da entrada com base no número de features do X_treino\n",
        "                        input_shape = (X_treino.shape[1],),\n",
        "\n",
        "                        # Aplica regularização L2 para reduzir o overfitting\n",
        "                        kernel_regularizer = tf.keras.regularizers.l2(0.01)))\n",
        "\n",
        "# Adiciona a segunda camada densa\n",
        "modelo_dsa_v1.add(Dense(2048,\n",
        "                        activation = 'selu',\n",
        "                        kernel_initializer = 'lecun_normal',\n",
        "                        kernel_regularizer = tf.keras.regularizers.l2(0.01)))\n",
        "\n",
        "# Adiciona a terceira camada densa\n",
        "modelo_dsa_v1.add(Dense(1024,\n",
        "                        activation = 'selu',\n",
        "                        kernel_initializer = 'lecun_normal',\n",
        "                        kernel_regularizer = tf.keras.regularizers.l2(0.1)))\n",
        "\n",
        "# Adiciona a quarta camada densa\n",
        "# Camada com 64 neurônios e ativação SELU\n",
        "modelo_dsa_v1.add(Dense(64, activation = 'selu',))\n",
        "\n",
        "# Adiciona a camada de saída\n",
        "# Camada de saída com 6 neurônios e ativação softmax para classificação multiclasse\n",
        "modelo_dsa_v1.add(Dense(6, activation = 'softmax'))"
      ]
    },
    {
      "cell_type": "markdown",
      "metadata": {
        "id": "u0zEy5qy_B8r"
      },
      "source": [
        "### Passo 4:  Compilação e Sumário do Modelo"
      ]
    },
    {
      "cell_type": "code",
      "execution_count": 36,
      "metadata": {
        "colab": {
          "base_uri": "https://localhost:8080/"
        },
        "id": "rFdTO8jw_B8r",
        "outputId": "d53ea7e2-74c1-4541-cafe-827144a8d40a"
      },
      "outputs": [
        {
          "output_type": "execute_result",
          "data": {
            "text/plain": [
              "<tf.Variable 'UnreadVariable' shape=(6,) dtype=float32, numpy=\n",
              "array([1.2351397 , 1.3766993 , 0.49732688, 2.0449898 , 0.5715102 ,\n",
              "       4.6620045 ], dtype=float32)>"
            ]
          },
          "metadata": {},
          "execution_count": 36
        }
      ],
      "source": [
        "# Atribui pesos específicos ao vetor de bias da última camada do modelo\n",
        "modelo_dsa_v1.layers[-1].bias.assign(pesos_classes)"
      ]
    },
    {
      "cell_type": "code",
      "execution_count": 37,
      "metadata": {
        "id": "-tSDsCV9_B8r"
      },
      "outputs": [],
      "source": [
        "# Compila o modelo\n",
        "# Define o otimizador como 'Adam'.\n",
        "# Adam é um algoritmo de otimização que pode ser usado no lugar do procedimento clássico de descida\n",
        "# do gradiente estocástica para atualizar os pesos da rede iterativamente com base nos dados de treinamento.\n",
        "# Define a função de perda como 'categorical_crossentropy'. É adequada para problemas de classificação\n",
        "# multiclasse, onde os rótulos são fornecidos em um formato one-hot encoded.\n",
        "# Define a métrica de avaliação do modelo como 'accuracy' (acurácia).\n",
        "# A acurácia é uma métrica comum para avaliar o desempenho de modelos de classificação.\n",
        "modelo_dsa_v1.compile(optimizer = 'Adam',\n",
        "                      loss = tf.losses.categorical_crossentropy,\n",
        "                      metrics = ['accuracy', Precision(), Recall(), AUC()])"
      ]
    },
    {
      "cell_type": "code",
      "execution_count": 38,
      "metadata": {
        "colab": {
          "base_uri": "https://localhost:8080/"
        },
        "id": "kWyECLkR_B8s",
        "outputId": "11aa6a07-4f20-4735-91d0-98e57d9e65dc"
      },
      "outputs": [
        {
          "output_type": "stream",
          "name": "stdout",
          "text": [
            "Model: \"sequential\"\n",
            "_________________________________________________________________\n",
            " Layer (type)                Output Shape              Param #   \n",
            "=================================================================\n",
            " dense (Dense)               (None, 4096)              22888448  \n",
            "                                                                 \n",
            " dense_1 (Dense)             (None, 2048)              8390656   \n",
            "                                                                 \n",
            " dense_2 (Dense)             (None, 1024)              2098176   \n",
            "                                                                 \n",
            " dense_3 (Dense)             (None, 64)                65600     \n",
            "                                                                 \n",
            " dense_4 (Dense)             (None, 6)                 390       \n",
            "                                                                 \n",
            "=================================================================\n",
            "Total params: 33443270 (127.58 MB)\n",
            "Trainable params: 33443270 (127.58 MB)\n",
            "Non-trainable params: 0 (0.00 Byte)\n",
            "_________________________________________________________________\n"
          ]
        }
      ],
      "source": [
        "modelo_dsa_v1.summary()"
      ]
    },
    {
      "cell_type": "markdown",
      "metadata": {
        "id": "m_j16qFX_B8s"
      },
      "source": [
        "### Passo 5:  Callbacks e Early Stopping"
      ]
    },
    {
      "cell_type": "code",
      "execution_count": 39,
      "metadata": {
        "id": "WUcREhSf_B8s"
      },
      "outputs": [],
      "source": [
        "# Função para os parâmetros de scheduler da taxa de aprendizado\n",
        "def step_decay(epoch):\n",
        "    initial_lrate = 0.001\n",
        "    drop = 0.5\n",
        "    epochs_drop = 10.0\n",
        "    lrate = initial_lrate * math.pow(drop, math.floor((1 + epoch) / epochs_drop))\n",
        "    return lrate"
      ]
    },
    {
      "cell_type": "code",
      "execution_count": 40,
      "metadata": {
        "id": "S-hf_dDs_B8s"
      },
      "outputs": [],
      "source": [
        "# Scheduler da taxa de aprendizado\n",
        "lr_scheduler = LearningRateScheduler(step_decay)"
      ]
    },
    {
      "cell_type": "code",
      "execution_count": 41,
      "metadata": {
        "id": "1yXOjM6s_B8s"
      },
      "outputs": [],
      "source": [
        "# Early Stopping\n",
        "early_stopping = EarlyStopping(monitor = 'val_loss', restore_best_weights = True, patience = 3)"
      ]
    },
    {
      "cell_type": "markdown",
      "metadata": {
        "id": "3QIyqFqV_B8s"
      },
      "source": [
        "### Passo 6:  Treinamento do Modelo"
      ]
    },
    {
      "cell_type": "code",
      "execution_count": 42,
      "metadata": {
        "id": "nmwKTxzk_B8t"
      },
      "outputs": [],
      "source": [
        "# Hiperparâmetros\n",
        "num_epochs = 20\n",
        "tamanho_batch = 256"
      ]
    },
    {
      "cell_type": "markdown",
      "metadata": {
        "id": "7m-TQxZU_B8t"
      },
      "source": [
        "Treinamento do modelo."
      ]
    },
    {
      "cell_type": "code",
      "execution_count": 43,
      "metadata": {
        "colab": {
          "base_uri": "https://localhost:8080/"
        },
        "id": "rDA9sT3O_B8t",
        "outputId": "b2a81b25-fd86-4ed2-c201-ba802a43c7c6"
      },
      "outputs": [
        {
          "output_type": "stream",
          "name": "stdout",
          "text": [
            "Epoch 1/20\n",
            "50/50 [==============================] - 7s 44ms/step - loss: 37.2173 - accuracy: 0.6677 - precision: 0.8045 - recall: 0.4801 - auc: 0.9020 - val_loss: 2.2525 - val_accuracy: 0.7991 - val_precision: 0.8741 - val_recall: 0.6769 - val_auc: 0.9664 - lr: 0.0010\n",
            "Epoch 2/20\n",
            "50/50 [==============================] - 1s 29ms/step - loss: 1.4963 - accuracy: 0.8032 - precision: 0.8750 - recall: 0.7105 - auc: 0.9674 - val_loss: 1.3803 - val_accuracy: 0.7547 - val_precision: 0.8172 - val_recall: 0.6928 - val_auc: 0.9585 - lr: 0.0010\n",
            "Epoch 3/20\n",
            "50/50 [==============================] - 2s 31ms/step - loss: 1.1989 - accuracy: 0.8247 - precision: 0.8827 - recall: 0.7541 - auc: 0.9744 - val_loss: 1.1871 - val_accuracy: 0.8219 - val_precision: 0.8675 - val_recall: 0.7547 - val_auc: 0.9742 - lr: 0.0010\n",
            "Epoch 4/20\n",
            "50/50 [==============================] - 1s 29ms/step - loss: 1.0490 - accuracy: 0.8597 - precision: 0.9028 - recall: 0.8093 - auc: 0.9820 - val_loss: 1.1619 - val_accuracy: 0.8150 - val_precision: 0.8566 - val_recall: 0.7713 - val_auc: 0.9719 - lr: 0.0010\n",
            "Epoch 5/20\n",
            "50/50 [==============================] - 1s 27ms/step - loss: 0.9700 - accuracy: 0.8785 - precision: 0.9141 - recall: 0.8339 - auc: 0.9865 - val_loss: 1.0748 - val_accuracy: 0.8397 - val_precision: 0.8845 - val_recall: 0.7922 - val_auc: 0.9788 - lr: 0.0010\n",
            "Epoch 6/20\n",
            "50/50 [==============================] - 1s 24ms/step - loss: 0.9191 - accuracy: 0.8959 - precision: 0.9211 - recall: 0.8603 - auc: 0.9892 - val_loss: 1.0985 - val_accuracy: 0.8269 - val_precision: 0.8614 - val_recall: 0.7869 - val_auc: 0.9746 - lr: 0.0010\n",
            "Epoch 7/20\n",
            "50/50 [==============================] - 1s 25ms/step - loss: 0.8581 - accuracy: 0.9023 - precision: 0.9268 - recall: 0.8720 - auc: 0.9913 - val_loss: 1.0911 - val_accuracy: 0.8375 - val_precision: 0.8702 - val_recall: 0.7941 - val_auc: 0.9751 - lr: 0.0010\n",
            "Epoch 8/20\n",
            "50/50 [==============================] - 1s 28ms/step - loss: 0.8297 - accuracy: 0.9158 - precision: 0.9354 - recall: 0.8919 - auc: 0.9930 - val_loss: 1.0369 - val_accuracy: 0.8347 - val_precision: 0.8692 - val_recall: 0.7972 - val_auc: 0.9777 - lr: 0.0010\n",
            "Epoch 9/20\n",
            "50/50 [==============================] - 1s 24ms/step - loss: 0.7935 - accuracy: 0.9256 - precision: 0.9427 - recall: 0.9055 - auc: 0.9937 - val_loss: 1.0821 - val_accuracy: 0.8403 - val_precision: 0.8638 - val_recall: 0.8069 - val_auc: 0.9748 - lr: 0.0010\n",
            "Epoch 10/20\n",
            "50/50 [==============================] - 1s 26ms/step - loss: 0.6125 - accuracy: 0.9523 - precision: 0.9614 - recall: 0.9401 - auc: 0.9971 - val_loss: 0.7888 - val_accuracy: 0.8481 - val_precision: 0.8710 - val_recall: 0.8247 - val_auc: 0.9790 - lr: 5.0000e-04\n",
            "Epoch 11/20\n",
            "50/50 [==============================] - 1s 27ms/step - loss: 0.4606 - accuracy: 0.9680 - precision: 0.9728 - recall: 0.9602 - auc: 0.9981 - val_loss: 0.7382 - val_accuracy: 0.8459 - val_precision: 0.8698 - val_recall: 0.8222 - val_auc: 0.9792 - lr: 5.0000e-04\n",
            "Epoch 12/20\n",
            "50/50 [==============================] - 1s 26ms/step - loss: 0.4386 - accuracy: 0.9664 - precision: 0.9726 - recall: 0.9576 - auc: 0.9983 - val_loss: 0.7555 - val_accuracy: 0.8453 - val_precision: 0.8623 - val_recall: 0.8241 - val_auc: 0.9789 - lr: 5.0000e-04\n",
            "Epoch 13/20\n",
            "50/50 [==============================] - 1s 28ms/step - loss: 0.4437 - accuracy: 0.9683 - precision: 0.9738 - recall: 0.9595 - auc: 0.9981 - val_loss: 0.7693 - val_accuracy: 0.8422 - val_precision: 0.8636 - val_recall: 0.8209 - val_auc: 0.9771 - lr: 5.0000e-04\n",
            "Epoch 14/20\n",
            "50/50 [==============================] - 1s 28ms/step - loss: 0.4426 - accuracy: 0.9680 - precision: 0.9733 - recall: 0.9595 - auc: 0.9981 - val_loss: 0.8010 - val_accuracy: 0.8428 - val_precision: 0.8658 - val_recall: 0.8128 - val_auc: 0.9742 - lr: 5.0000e-04\n",
            "CPU times: user 22.2 s, sys: 2.61 s, total: 24.8 s\n",
            "Wall time: 25.5 s\n"
          ]
        }
      ],
      "source": [
        "%%time\n",
        "history = modelo_dsa_v1.fit(X_treino,\n",
        "                            y_treino_encoded,\n",
        "                            validation_data = (X_val, y_val_encoded),\n",
        "                            epochs = num_epochs,\n",
        "                            batch_size = tamanho_batch,\n",
        "                            callbacks = [early_stopping, lr_scheduler])"
      ]
    },
    {
      "cell_type": "markdown",
      "metadata": {
        "id": "NDN8mfgs_B8t"
      },
      "source": [
        "### Passo 7:  Avaliação do Modelo"
      ]
    },
    {
      "cell_type": "code",
      "execution_count": 44,
      "metadata": {
        "id": "pA2FkW5Z_B8t"
      },
      "outputs": [],
      "source": [
        "# Extrai o erro em treino e validação\n",
        "loss, val_loss = history.history['loss'], history.history['val_loss']"
      ]
    },
    {
      "cell_type": "code",
      "execution_count": 45,
      "metadata": {
        "colab": {
          "base_uri": "https://localhost:8080/",
          "height": 430
        },
        "id": "oiqOam3F_B8t",
        "outputId": "e50950a2-c67c-4e4f-a6a2-646c7e0cf991"
      },
      "outputs": [
        {
          "output_type": "display_data",
          "data": {
            "text/plain": [
              "<Figure size 640x480 with 1 Axes>"
            ],
            "image/png": "[encoded data removed]"
          },
          "metadata": {}
        }
      ],
      "source": [
        "# Plot\n",
        "plt.plot(loss, label = 'loss')\n",
        "plt.plot(val_loss, label = 'val_loss')\n",
        "plt.legend()\n",
        "plt.show()"
      ]
    },
    {
      "cell_type": "code",
      "execution_count": 46,
      "metadata": {
        "colab": {
          "base_uri": "https://localhost:8080/"
        },
        "id": "BWB9523v_B8t",
        "outputId": "810edf97-0e70-4a05-ad37-ab13ed0257fe"
      },
      "outputs": [
        {
          "output_type": "stream",
          "name": "stdout",
          "text": [
            "63/63 [==============================] - 0s 3ms/step\n"
          ]
        }
      ],
      "source": [
        "# Previsões com dados de teste\n",
        "previsoes_v1 = modelo_dsa_v1.predict(X_teste_array)"
      ]
    },
    {
      "cell_type": "code",
      "execution_count": 47,
      "metadata": {
        "id": "l7wrUFAs_B8u"
      },
      "outputs": [],
      "source": [
        "# Extrai os labels\n",
        "previsoes_v1_labels = previsoes_v1.argmax(axis = 1)"
      ]
    },
    {
      "cell_type": "code",
      "execution_count": 48,
      "metadata": {
        "colab": {
          "base_uri": "https://localhost:8080/"
        },
        "id": "FFtiXl1T_B8u",
        "outputId": "223fa882-1cca-4ec9-b078-97e159e7adec"
      },
      "outputs": [
        {
          "output_type": "stream",
          "name": "stdout",
          "text": [
            "              precision    recall  f1-score   support\n",
            "\n",
            "           0       0.88      0.82      0.85       275\n",
            "           1       0.76      0.88      0.82       224\n",
            "           2       0.88      0.89      0.89       695\n",
            "           3       0.69      0.79      0.73       159\n",
            "           4       0.91      0.85      0.88       581\n",
            "           5       0.77      0.61      0.68        66\n",
            "\n",
            "    accuracy                           0.85      2000\n",
            "   macro avg       0.81      0.81      0.81      2000\n",
            "weighted avg       0.86      0.85      0.85      2000\n",
            "\n"
          ]
        }
      ],
      "source": [
        "print(classification_report(y_teste_le, previsoes_v1_labels))"
      ]
    },
    {
      "cell_type": "code",
      "execution_count": 49,
      "metadata": {
        "colab": {
          "base_uri": "https://localhost:8080/"
        },
        "id": "irA-OZkk_B8u",
        "outputId": "6e0ae74c-0248-4218-e6db-8a29ec57656a"
      },
      "outputs": [
        {
          "output_type": "stream",
          "name": "stdout",
          "text": [
            "[[225  13  12   4  21   0]\n",
            " [  6 198   6   0  11   3]\n",
            " [  4   9 621  42  11   8]\n",
            " [  2   2  25 125   4   1]\n",
            " [ 20  20  34  11 496   0]\n",
            " [  0  17   8   0   1  40]]\n"
          ]
        }
      ],
      "source": [
        "print(confusion_matrix(y_teste_le, previsoes_v1_labels))"
      ]
    },
    {
      "cell_type": "code",
      "execution_count": 50,
      "metadata": {
        "colab": {
          "base_uri": "https://localhost:8080/"
        },
        "id": "wFJMJfzX_B8u",
        "outputId": "f9982317-3242-45af-f503-85f257d5bc88"
      },
      "outputs": [
        {
          "output_type": "stream",
          "name": "stdout",
          "text": [
            "0.8525\n"
          ]
        }
      ],
      "source": [
        "print(accuracy_score(y_teste_le, previsoes_v1_labels))"
      ]
    },
    {
      "cell_type": "code",
      "execution_count": 51,
      "metadata": {
        "id": "A5m0h6Vr_B8u"
      },
      "outputs": [],
      "source": [
        "# Salva o modelo\n",
        "modelo_dsa_v1.save('modelo_dsa_v1.keras')"
      ]
    },
    {
      "cell_type": "markdown",
      "metadata": {
        "id": "8gFwDU9B_B8u"
      },
      "source": [
        "### Passo 8:  Deploy da Versão 1 do Modelo"
      ]
    },
    {
      "cell_type": "code",
      "execution_count": 52,
      "metadata": {
        "id": "QFJHqqgZ_B8u"
      },
      "outputs": [],
      "source": [
        "# Carrega o modelo\n",
        "modelo_carregado = load_model('modelo_dsa_v1.keras')"
      ]
    },
    {
      "cell_type": "code",
      "execution_count": 53,
      "metadata": {
        "id": "RIiMbRcP_B8v"
      },
      "outputs": [],
      "source": [
        "# Nova frase (sentimento = medo (fear))\n",
        "frase = \"i even feel a little shaky\""
      ]
    },
    {
      "cell_type": "code",
      "execution_count": 54,
      "metadata": {
        "id": "kwZ9ssgq_B8v"
      },
      "outputs": [],
      "source": [
        "# Cria um dataframe com a frase\n",
        "df_novo = pd.DataFrame({'Frase': [frase]})"
      ]
    },
    {
      "cell_type": "code",
      "execution_count": 55,
      "metadata": {
        "id": "-H3FhJQY_B8v"
      },
      "outputs": [],
      "source": [
        "# Aplica a função de processamento\n",
        "df_novo['Frase_Processada'] = df_novo['Frase'].apply(dsa_preprocessa_texto)"
      ]
    },
    {
      "cell_type": "code",
      "execution_count": 56,
      "metadata": {
        "colab": {
          "base_uri": "https://localhost:8080/",
          "height": 89
        },
        "id": "sBc-b0PF_B8v",
        "outputId": "1b2d67ae-097c-4252-abcb-edb44e00ebc5"
      },
      "outputs": [
        {
          "output_type": "execute_result",
          "data": {
            "text/plain": [
              "                        Frase   Frase_Processada\n",
              "0  i even feel a little shaky  feel little shaky"
            ],
            "text/html": [
              "\n",
              "  <div id=\"df-560f1cbb-ab5a-4870-a400-f9955aa9c8d7\" class=\"colab-df-container\">\n",
              "    <div>\n",
              "<style scoped>\n",
              "    .dataframe tbody tr th:only-of-type {\n",
              "        vertical-align: middle;\n",
              "    }\n",
              "\n",
              "    .dataframe tbody tr th {\n",
              "        vertical-align: top;\n",
              "    }\n",
              "\n",
              "    .dataframe thead th {\n",
              "        text-align: right;\n",
              "    }\n",
              "</style>\n",
              "<table border=\"1\" class=\"dataframe\">\n",
              "  <thead>\n",
              "    <tr style=\"text-align: right;\">\n",
              "      <th></th>\n",
              "      <th>Frase</th>\n",
              "      <th>Frase_Processada</th>\n",
              "    </tr>\n",
              "  </thead>\n",
              "  <tbody>\n",
              "    <tr>\n",
              "      <th>0</th>\n",
              "      <td>i even feel a little shaky</td>\n",
              "      <td>feel little shaky</td>\n",
              "    </tr>\n",
              "  </tbody>\n",
              "</table>\n",
              "</div>\n",
              "    <div class=\"colab-df-buttons\">\n",
              "\n",
              "  <div class=\"colab-df-container\">\n",
              "    <button class=\"colab-df-convert\" onclick=\"convertToInteractive('df-560f1cbb-ab5a-4870-a400-f9955aa9c8d7')\"\n",
              "            title=\"Convert this dataframe to an interactive table.\"\n",
              "            style=\"display:none;\">\n",
              "\n",
              "  <svg xmlns=\"http://www.w3.org/2000/svg\" height=\"24px\" viewBox=\"0 -960 960 960\">\n",
              "    <path d=\"M120-120v-720h720v720H120Zm60-500h600v-160H180v160Zm220 220h160v-160H400v160Zm0 220h160v-160H400v160ZM180-400h160v-160H180v160Zm440 0h160v-160H620v160ZM180-180h160v-160H180v160Zm440 0h160v-160H620v160Z\"/>\n",
              "  </svg>\n",
              "    </button>\n",
              "\n",
              "  <style>\n",
              "    .colab-df-container {\n",
              "      display:flex;\n",
              "      gap: 12px;\n",
              "    }\n",
              "\n",
              "    .colab-df-convert {\n",
              "      background-color: #E8F0FE;\n",
              "      border: none;\n",
              "      border-radius: 50%;\n",
              "      cursor: pointer;\n",
              "      display: none;\n",
              "      fill: #1967D2;\n",
              "      height: 32px;\n",
              "      padding: 0 0 0 0;\n",
              "      width: 32px;\n",
              "    }\n",
              "\n",
              "    .colab-df-convert:hover {\n",
              "      background-color: #E2EBFA;\n",
              "      box-shadow: 0px 1px 2px rgba(60, 64, 67, 0.3), 0px 1px 3px 1px rgba(60, 64, 67, 0.15);\n",
              "      fill: #174EA6;\n",
              "    }\n",
              "\n",
              "    .colab-df-buttons div {\n",
              "      margin-bottom: 4px;\n",
              "    }\n",
              "\n",
              "    [theme=dark] .colab-df-convert {\n",
              "      background-color: #3B4455;\n",
              "      fill: #D2E3FC;\n",
              "    }\n",
              "\n",
              "    [theme=dark] .colab-df-convert:hover {\n",
              "      background-color: #434B5C;\n",
              "      box-shadow: 0px 1px 3px 1px rgba(0, 0, 0, 0.15);\n",
              "      filter: drop-shadow(0px 1px 2px rgba(0, 0, 0, 0.3));\n",
              "      fill: #FFFFFF;\n",
              "    }\n",
              "  </style>\n",
              "\n",
              "    <script>\n",
              "      const buttonEl =\n",
              "        document.querySelector('#df-560f1cbb-ab5a-4870-a400-f9955aa9c8d7 button.colab-df-convert');\n",
              "      buttonEl.style.display =\n",
              "        google.colab.kernel.accessAllowed ? 'block' : 'none';\n",
              "\n",
              "      async function convertToInteractive(key) {\n",
              "        const element = document.querySelector('#df-560f1cbb-ab5a-4870-a400-f9955aa9c8d7');\n",
              "        const dataTable =\n",
              "          await google.colab.kernel.invokeFunction('convertToInteractive',\n",
              "                                                    [key], {});\n",
              "        if (!dataTable) return;\n",
              "\n",
              "        const docLinkHtml = 'Like what you see? Visit the ' +\n",
              "          '<a target=\"_blank\" href=https://colab.research.google.com/notebooks/data_table.ipynb>data table notebook</a>'\n",
              "          + ' to learn more about interactive tables.';\n",
              "        element.innerHTML = '';\n",
              "        dataTable['output_type'] = 'display_data';\n",
              "        await google.colab.output.renderOutput(dataTable, element);\n",
              "        const docLink = document.createElement('div');\n",
              "        docLink.innerHTML = docLinkHtml;\n",
              "        element.appendChild(docLink);\n",
              "      }\n",
              "    </script>\n",
              "  </div>\n",
              "\n",
              "\n",
              "  <div id=\"id_bb0b6047-bedb-4002-b4b8-90ce9b06aeae\">\n",
              "    <style>\n",
              "      .colab-df-generate {\n",
              "        background-color: #E8F0FE;\n",
              "        border: none;\n",
              "        border-radius: 50%;\n",
              "        cursor: pointer;\n",
              "        display: none;\n",
              "        fill: #1967D2;\n",
              "        height: 32px;\n",
              "        padding: 0 0 0 0;\n",
              "        width: 32px;\n",
              "      }\n",
              "\n",
              "      .colab-df-generate:hover {\n",
              "        background-color: #E2EBFA;\n",
              "        box-shadow: 0px 1px 2px rgba(60, 64, 67, 0.3), 0px 1px 3px 1px rgba(60, 64, 67, 0.15);\n",
              "        fill: #174EA6;\n",
              "      }\n",
              "\n",
              "      [theme=dark] .colab-df-generate {\n",
              "        background-color: #3B4455;\n",
              "        fill: #D2E3FC;\n",
              "      }\n",
              "\n",
              "      [theme=dark] .colab-df-generate:hover {\n",
              "        background-color: #434B5C;\n",
              "        box-shadow: 0px 1px 3px 1px rgba(0, 0, 0, 0.15);\n",
              "        filter: drop-shadow(0px 1px 2px rgba(0, 0, 0, 0.3));\n",
              "        fill: #FFFFFF;\n",
              "      }\n",
              "    </style>\n",
              "    <button class=\"colab-df-generate\" onclick=\"generateWithVariable('df_novo')\"\n",
              "            title=\"Generate code using this dataframe.\"\n",
              "            style=\"display:none;\">\n",
              "\n",
              "  <svg xmlns=\"http://www.w3.org/2000/svg\" height=\"24px\"viewBox=\"0 0 24 24\"\n",
              "       width=\"24px\">\n",
              "    <path d=\"M7,19H8.4L18.45,9,17,7.55,7,17.6ZM5,21V16.75L18.45,3.32a2,2,0,0,1,2.83,0l1.4,1.43a1.91,1.91,0,0,1,.58,1.4,1.91,1.91,0,0,1-.58,1.4L9.25,21ZM18.45,9,17,7.55Zm-12,3A5.31,5.31,0,0,0,4.9,8.1,5.31,5.31,0,0,0,1,6.5,5.31,5.31,0,0,0,4.9,4.9,5.31,5.31,0,0,0,6.5,1,5.31,5.31,0,0,0,8.1,4.9,5.31,5.31,0,0,0,12,6.5,5.46,5.46,0,0,0,6.5,12Z\"/>\n",
              "  </svg>\n",
              "    </button>\n",
              "    <script>\n",
              "      (() => {\n",
              "      const buttonEl =\n",
              "        document.querySelector('#id_bb0b6047-bedb-4002-b4b8-90ce9b06aeae button.colab-df-generate');\n",
              "      buttonEl.style.display =\n",
              "        google.colab.kernel.accessAllowed ? 'block' : 'none';\n",
              "\n",
              "      buttonEl.onclick = () => {\n",
              "        google.colab.notebook.generateWithVariable('df_novo');\n",
              "      }\n",
              "      })();\n",
              "    </script>\n",
              "  </div>\n",
              "\n",
              "    </div>\n",
              "  </div>\n"
            ]
          },
          "metadata": {},
          "execution_count": 56
        }
      ],
      "source": [
        "df_novo"
      ]
    },
    {
      "cell_type": "code",
      "execution_count": 57,
      "metadata": {
        "id": "DBSl1uIe_B8v"
      },
      "outputs": [],
      "source": [
        "# Aplica a vetorização\n",
        "df_novo_tfidf = dsa_tfidf.transform(df_novo['Frase_Processada'])"
      ]
    },
    {
      "cell_type": "code",
      "execution_count": 58,
      "metadata": {
        "id": "Obf4wS_d_B8v"
      },
      "outputs": [],
      "source": [
        "# Transforma em array\n",
        "df_novo_array = df_novo_tfidf.toarray()"
      ]
    },
    {
      "cell_type": "code",
      "execution_count": 59,
      "metadata": {
        "colab": {
          "base_uri": "https://localhost:8080/"
        },
        "id": "aKQuAQrd_B8v",
        "outputId": "8a9f80a9-7b8c-47b1-ef37-5a530e242874"
      },
      "outputs": [
        {
          "output_type": "stream",
          "name": "stdout",
          "text": [
            "1/1 [==============================] - 0s 98ms/step\n"
          ]
        }
      ],
      "source": [
        "# Previsões\n",
        "previsoes = modelo_carregado.predict(df_novo_array)"
      ]
    },
    {
      "cell_type": "code",
      "execution_count": 60,
      "metadata": {
        "colab": {
          "base_uri": "https://localhost:8080/"
        },
        "id": "dwvNFOSz_B8w",
        "outputId": "391301c8-7b58-4ead-eed9-577941350b1e"
      },
      "outputs": [
        {
          "output_type": "execute_result",
          "data": {
            "text/plain": [
              "array([[3.0770266e-04, 9.9797982e-01, 6.4206932e-04, 7.2632361e-08,\n",
              "        4.0883091e-04, 6.6150789e-04]], dtype=float32)"
            ]
          },
          "metadata": {},
          "execution_count": 60
        }
      ],
      "source": [
        "previsoes"
      ]
    },
    {
      "cell_type": "code",
      "execution_count": 61,
      "metadata": {
        "id": "dv92ZHir_B8w"
      },
      "outputs": [],
      "source": [
        "# Seleciona a classe com maior probabilidade\n",
        "classe_maior_prob = np.argmax(previsoes, axis = 1)"
      ]
    },
    {
      "cell_type": "code",
      "execution_count": 62,
      "metadata": {
        "colab": {
          "base_uri": "https://localhost:8080/"
        },
        "id": "0jjohMDa_B8w",
        "outputId": "08872ee5-4c58-4417-d295-ec679aa48388"
      },
      "outputs": [
        {
          "output_type": "execute_result",
          "data": {
            "text/plain": [
              "array([1])"
            ]
          },
          "metadata": {},
          "execution_count": 62
        }
      ],
      "source": [
        "classe_maior_prob"
      ]
    },
    {
      "cell_type": "code",
      "execution_count": 63,
      "metadata": {
        "id": "_Tq4I_Lr_B8w"
      },
      "outputs": [],
      "source": [
        "# Obtém o nome da classe\n",
        "nome_classe = dsa_le_v1.inverse_transform(classe_maior_prob)"
      ]
    },
    {
      "cell_type": "code",
      "execution_count": 64,
      "metadata": {
        "colab": {
          "base_uri": "https://localhost:8080/"
        },
        "id": "3nEiv8cJ_B8w",
        "outputId": "071db8e6-0a55-432b-ac06-762b7653c698"
      },
      "outputs": [
        {
          "output_type": "execute_result",
          "data": {
            "text/plain": [
              "array(['fear'], dtype=object)"
            ]
          },
          "metadata": {},
          "execution_count": 64
        }
      ],
      "source": [
        "# Classe prevista\n",
        "nome_classe"
      ]
    },
    {
      "cell_type": "markdown",
      "metadata": {
        "id": "nVMz5a3p_B8w"
      },
      "source": [
        "## Versão 2 do Modelo - LSTM (Long Short-Term Memory)\n",
        "\n",
        "Usaremos os dados processados com SpaCy e então faremos o processamento específico para o modelo LSTM, assim como fizemos com o modelo da versão 1."
      ]
    },
    {
      "cell_type": "code",
      "execution_count": 65,
      "metadata": {
        "colab": {
          "base_uri": "https://localhost:8080/",
          "height": 206
        },
        "id": "-YITMldP_B8w",
        "outputId": "4d2e65fb-d407-4f7e-db27-7acd2f33a5a7"
      },
      "outputs": [
        {
          "output_type": "execute_result",
          "data": {
            "text/plain": [
              "                                               texto sentimento  \\\n",
              "0  i am feeling completely overwhelmed i have two...       fear   \n",
              "1    i have the feeling she was amused and delighted        joy   \n",
              "2  i was able to help chai lifeline with your sup...        joy   \n",
              "3  i already feel like i fucked up though because...      anger   \n",
              "4  i still love my so and wish the best for him i...    sadness   \n",
              "\n",
              "                                    texto_processado  \n",
              "0  feel completely overwhelmed strategy help feel...  \n",
              "1                              feeling amuse delight  \n",
              "2  able help chai lifeline support encouragement ...  \n",
              "3             feel like fuck not usually eat morning  \n",
              "4  love wish good long tolerate effect bm life fa...  "
            ],
            "text/html": [
              "\n",
              "  <div id=\"df-5e059f8d-4347-4b49-8cd5-b83bb99a2dbd\" class=\"colab-df-container\">\n",
              "    <div>\n",
              "<style scoped>\n",
              "    .dataframe tbody tr th:only-of-type {\n",
              "        vertical-align: middle;\n",
              "    }\n",
              "\n",
              "    .dataframe tbody tr th {\n",
              "        vertical-align: top;\n",
              "    }\n",
              "\n",
              "    .dataframe thead th {\n",
              "        text-align: right;\n",
              "    }\n",
              "</style>\n",
              "<table border=\"1\" class=\"dataframe\">\n",
              "  <thead>\n",
              "    <tr style=\"text-align: right;\">\n",
              "      <th></th>\n",
              "      <th>texto</th>\n",
              "      <th>sentimento</th>\n",
              "      <th>texto_processado</th>\n",
              "    </tr>\n",
              "  </thead>\n",
              "  <tbody>\n",
              "    <tr>\n",
              "      <th>0</th>\n",
              "      <td>i am feeling completely overwhelmed i have two...</td>\n",
              "      <td>fear</td>\n",
              "      <td>feel completely overwhelmed strategy help feel...</td>\n",
              "    </tr>\n",
              "    <tr>\n",
              "      <th>1</th>\n",
              "      <td>i have the feeling she was amused and delighted</td>\n",
              "      <td>joy</td>\n",
              "      <td>feeling amuse delight</td>\n",
              "    </tr>\n",
              "    <tr>\n",
              "      <th>2</th>\n",
              "      <td>i was able to help chai lifeline with your sup...</td>\n",
              "      <td>joy</td>\n",
              "      <td>able help chai lifeline support encouragement ...</td>\n",
              "    </tr>\n",
              "    <tr>\n",
              "      <th>3</th>\n",
              "      <td>i already feel like i fucked up though because...</td>\n",
              "      <td>anger</td>\n",
              "      <td>feel like fuck not usually eat morning</td>\n",
              "    </tr>\n",
              "    <tr>\n",
              "      <th>4</th>\n",
              "      <td>i still love my so and wish the best for him i...</td>\n",
              "      <td>sadness</td>\n",
              "      <td>love wish good long tolerate effect bm life fa...</td>\n",
              "    </tr>\n",
              "  </tbody>\n",
              "</table>\n",
              "</div>\n",
              "    <div class=\"colab-df-buttons\">\n",
              "\n",
              "  <div class=\"colab-df-container\">\n",
              "    <button class=\"colab-df-convert\" onclick=\"convertToInteractive('df-5e059f8d-4347-4b49-8cd5-b83bb99a2dbd')\"\n",
              "            title=\"Convert this dataframe to an interactive table.\"\n",
              "            style=\"display:none;\">\n",
              "\n",
              "  <svg xmlns=\"http://www.w3.org/2000/svg\" height=\"24px\" viewBox=\"0 -960 960 960\">\n",
              "    <path d=\"M120-120v-720h720v720H120Zm60-500h600v-160H180v160Zm220 220h160v-160H400v160Zm0 220h160v-160H400v160ZM180-400h160v-160H180v160Zm440 0h160v-160H620v160ZM180-180h160v-160H180v160Zm440 0h160v-160H620v160Z\"/>\n",
              "  </svg>\n",
              "    </button>\n",
              "\n",
              "  <style>\n",
              "    .colab-df-container {\n",
              "      display:flex;\n",
              "      gap: 12px;\n",
              "    }\n",
              "\n",
              "    .colab-df-convert {\n",
              "      background-color: #E8F0FE;\n",
              "      border: none;\n",
              "      border-radius: 50%;\n",
              "      cursor: pointer;\n",
              "      display: none;\n",
              "      fill: #1967D2;\n",
              "      height: 32px;\n",
              "      padding: 0 0 0 0;\n",
              "      width: 32px;\n",
              "    }\n",
              "\n",
              "    .colab-df-convert:hover {\n",
              "      background-color: #E2EBFA;\n",
              "      box-shadow: 0px 1px 2px rgba(60, 64, 67, 0.3), 0px 1px 3px 1px rgba(60, 64, 67, 0.15);\n",
              "      fill: #174EA6;\n",
              "    }\n",
              "\n",
              "    .colab-df-buttons div {\n",
              "      margin-bottom: 4px;\n",
              "    }\n",
              "\n",
              "    [theme=dark] .colab-df-convert {\n",
              "      background-color: #3B4455;\n",
              "      fill: #D2E3FC;\n",
              "    }\n",
              "\n",
              "    [theme=dark] .colab-df-convert:hover {\n",
              "      background-color: #434B5C;\n",
              "      box-shadow: 0px 1px 3px 1px rgba(0, 0, 0, 0.15);\n",
              "      filter: drop-shadow(0px 1px 2px rgba(0, 0, 0, 0.3));\n",
              "      fill: #FFFFFF;\n",
              "    }\n",
              "  </style>\n",
              "\n",
              "    <script>\n",
              "      const buttonEl =\n",
              "        document.querySelector('#df-5e059f8d-4347-4b49-8cd5-b83bb99a2dbd button.colab-df-convert');\n",
              "      buttonEl.style.display =\n",
              "        google.colab.kernel.accessAllowed ? 'block' : 'none';\n",
              "\n",
              "      async function convertToInteractive(key) {\n",
              "        const element = document.querySelector('#df-5e059f8d-4347-4b49-8cd5-b83bb99a2dbd');\n",
              "        const dataTable =\n",
              "          await google.colab.kernel.invokeFunction('convertToInteractive',\n",
              "                                                    [key], {});\n",
              "        if (!dataTable) return;\n",
              "\n",
              "        const docLinkHtml = 'Like what you see? Visit the ' +\n",
              "          '<a target=\"_blank\" href=https://colab.research.google.com/notebooks/data_table.ipynb>data table notebook</a>'\n",
              "          + ' to learn more about interactive tables.';\n",
              "        element.innerHTML = '';\n",
              "        dataTable['output_type'] = 'display_data';\n",
              "        await google.colab.output.renderOutput(dataTable, element);\n",
              "        const docLink = document.createElement('div');\n",
              "        docLink.innerHTML = docLinkHtml;\n",
              "        element.appendChild(docLink);\n",
              "      }\n",
              "    </script>\n",
              "  </div>\n",
              "\n",
              "\n",
              "<div id=\"df-d07641ad-962a-4476-b4f6-f13e69409f4b\">\n",
              "  <button class=\"colab-df-quickchart\" onclick=\"quickchart('df-d07641ad-962a-4476-b4f6-f13e69409f4b')\"\n",
              "            title=\"Suggest charts\"\n",
              "            style=\"display:none;\">\n",
              "\n",
              "<svg xmlns=\"http://www.w3.org/2000/svg\" height=\"24px\"viewBox=\"0 0 24 24\"\n",
              "     width=\"24px\">\n",
              "    <g>\n",
              "        <path d=\"M19 3H5c-1.1 0-2 .9-2 2v14c0 1.1.9 2 2 2h14c1.1 0 2-.9 2-2V5c0-1.1-.9-2-2-2zM9 17H7v-7h2v7zm4 0h-2V7h2v10zm4 0h-2v-4h2v4z\"/>\n",
              "    </g>\n",
              "</svg>\n",
              "  </button>\n",
              "\n",
              "<style>\n",
              "  .colab-df-quickchart {\n",
              "      --bg-color: #E8F0FE;\n",
              "      --fill-color: #1967D2;\n",
              "      --hover-bg-color: #E2EBFA;\n",
              "      --hover-fill-color: #174EA6;\n",
              "      --disabled-fill-color: #AAA;\n",
              "      --disabled-bg-color: #DDD;\n",
              "  }\n",
              "\n",
              "  [theme=dark] .colab-df-quickchart {\n",
              "      --bg-color: #3B4455;\n",
              "      --fill-color: #D2E3FC;\n",
              "      --hover-bg-color: #434B5C;\n",
              "      --hover-fill-color: #FFFFFF;\n",
              "      --disabled-bg-color: #3B4455;\n",
              "      --disabled-fill-color: #666;\n",
              "  }\n",
              "\n",
              "  .colab-df-quickchart {\n",
              "    background-color: var(--bg-color);\n",
              "    border: none;\n",
              "    border-radius: 50%;\n",
              "    cursor: pointer;\n",
              "    display: none;\n",
              "    fill: var(--fill-color);\n",
              "    height: 32px;\n",
              "    padding: 0;\n",
              "    width: 32px;\n",
              "  }\n",
              "\n",
              "  .colab-df-quickchart:hover {\n",
              "    background-color: var(--hover-bg-color);\n",
              "    box-shadow: 0 1px 2px rgba(60, 64, 67, 0.3), 0 1px 3px 1px rgba(60, 64, 67, 0.15);\n",
              "    fill: var(--button-hover-fill-color);\n",
              "  }\n",
              "\n",
              "  .colab-df-quickchart-complete:disabled,\n",
              "  .colab-df-quickchart-complete:disabled:hover {\n",
              "    background-color: var(--disabled-bg-color);\n",
              "    fill: var(--disabled-fill-color);\n",
              "    box-shadow: none;\n",
              "  }\n",
              "\n",
              "  .colab-df-spinner {\n",
              "    border: 2px solid var(--fill-color);\n",
              "    border-color: transparent;\n",
              "    border-bottom-color: var(--fill-color);\n",
              "    animation:\n",
              "      spin 1s steps(1) infinite;\n",
              "  }\n",
              "\n",
              "  @keyframes spin {\n",
              "    0% {\n",
              "      border-color: transparent;\n",
              "      border-bottom-color: var(--fill-color);\n",
              "      border-left-color: var(--fill-color);\n",
              "    }\n",
              "    20% {\n",
              "      border-color: transparent;\n",
              "      border-left-color: var(--fill-color);\n",
              "      border-top-color: var(--fill-color);\n",
              "    }\n",
              "    30% {\n",
              "      border-color: transparent;\n",
              "      border-left-color: var(--fill-color);\n",
              "      border-top-color: var(--fill-color);\n",
              "      border-right-color: var(--fill-color);\n",
              "    }\n",
              "    40% {\n",
              "      border-color: transparent;\n",
              "      border-right-color: var(--fill-color);\n",
              "      border-top-color: var(--fill-color);\n",
              "    }\n",
              "    60% {\n",
              "      border-color: transparent;\n",
              "      border-right-color: var(--fill-color);\n",
              "    }\n",
              "    80% {\n",
              "      border-color: transparent;\n",
              "      border-right-color: var(--fill-color);\n",
              "      border-bottom-color: var(--fill-color);\n",
              "    }\n",
              "    90% {\n",
              "      border-color: transparent;\n",
              "      border-bottom-color: var(--fill-color);\n",
              "    }\n",
              "  }\n",
              "</style>\n",
              "\n",
              "  <script>\n",
              "    async function quickchart(key) {\n",
              "      const quickchartButtonEl =\n",
              "        document.querySelector('#' + key + ' button');\n",
              "      quickchartButtonEl.disabled = true;  // To prevent multiple clicks.\n",
              "      quickchartButtonEl.classList.add('colab-df-spinner');\n",
              "      try {\n",
              "        const charts = await google.colab.kernel.invokeFunction(\n",
              "            'suggestCharts', [key], {});\n",
              "      } catch (error) {\n",
              "        console.error('Error during call to suggestCharts:', error);\n",
              "      }\n",
              "      quickchartButtonEl.classList.remove('colab-df-spinner');\n",
              "      quickchartButtonEl.classList.add('colab-df-quickchart-complete');\n",
              "    }\n",
              "    (() => {\n",
              "      let quickchartButtonEl =\n",
              "        document.querySelector('#df-d07641ad-962a-4476-b4f6-f13e69409f4b button');\n",
              "      quickchartButtonEl.style.display =\n",
              "        google.colab.kernel.accessAllowed ? 'block' : 'none';\n",
              "    })();\n",
              "  </script>\n",
              "</div>\n",
              "\n",
              "    </div>\n",
              "  </div>\n"
            ]
          },
          "metadata": {},
          "execution_count": 65
        }
      ],
      "source": [
        "# Dados processados com SpaCy\n",
        "dados_dsa_treino.head()"
      ]
    },
    {
      "cell_type": "code",
      "execution_count": 66,
      "metadata": {
        "id": "w7U9_7rK_B8x"
      },
      "outputs": [],
      "source": [
        "# Criação do tokenizador\n",
        "# from keras.preprocessing.text import Tokenizer\n",
        "dsa_tokenizador = Tokenizer()"
      ]
    },
    {
      "cell_type": "code",
      "execution_count": 67,
      "metadata": {
        "id": "3fNXw5yf_B8x"
      },
      "outputs": [],
      "source": [
        "# Ajuste do tokenizador com os textos processados\n",
        "dsa_tokenizador.fit_on_texts(dados_dsa_treino['texto_processado'])"
      ]
    },
    {
      "cell_type": "code",
      "execution_count": 68,
      "metadata": {
        "id": "lT4V_UXV_B8x"
      },
      "outputs": [],
      "source": [
        "# Extrai o índice de palavras\n",
        "word_index = dsa_tokenizador.word_index"
      ]
    },
    {
      "cell_type": "code",
      "execution_count": 69,
      "metadata": {
        "colab": {
          "base_uri": "https://localhost:8080/"
        },
        "id": "07jK0PT0_B8x",
        "outputId": "dadc297d-2975-46d3-be7b-f8ecdc404b19"
      },
      "outputs": [
        {
          "output_type": "execute_result",
          "data": {
            "text/plain": [
              "11897"
            ]
          },
          "metadata": {},
          "execution_count": 69
        }
      ],
      "source": [
        "len(word_index)"
      ]
    },
    {
      "cell_type": "code",
      "execution_count": 70,
      "metadata": {
        "colab": {
          "base_uri": "https://localhost:8080/"
        },
        "id": "iegWTyBg_B8x",
        "outputId": "3469db8d-ed9c-445c-e1d2-78fbcfe4aa2d"
      },
      "outputs": [
        {
          "output_type": "stream",
          "name": "stdout",
          "text": [
            "feel 1\n",
            "like 2\n",
            "m 3\n",
            "not 4\n",
            "feeling 5\n",
            "know 6\n",
            "time 7\n",
            "t 8\n",
            "want 9\n",
            "think 10\n"
          ]
        }
      ],
      "source": [
        "# Itera sobre os pares chave-valor do dicionário\n",
        "for i, (chave, valor) in enumerate(word_index.items()):\n",
        "    print(chave, valor)\n",
        "    # Interrompe o loop após imprimir 10 itens\n",
        "    if i == 9:\n",
        "        break"
      ]
    },
    {
      "cell_type": "code",
      "execution_count": 71,
      "metadata": {
        "id": "xTNz5qlX_B8x"
      },
      "outputs": [],
      "source": [
        "# Conversão dos textos de treino para sequências de tokens\n",
        "sequencias_treino = dsa_tokenizador.texts_to_sequences(dados_dsa_treino['texto_processado'])"
      ]
    },
    {
      "cell_type": "code",
      "execution_count": 72,
      "metadata": {
        "id": "KK17wsLz_B8x"
      },
      "outputs": [],
      "source": [
        "# Definindo o comprimento máximo das sequências\n",
        "max_length = 100"
      ]
    },
    {
      "cell_type": "code",
      "execution_count": 73,
      "metadata": {
        "id": "bV9MHm4y_B8x"
      },
      "outputs": [],
      "source": [
        "# Padding das sequências de treino\n",
        "sequencias_treino_padded = pad_sequences(sequencias_treino, maxlen = max_length, truncating = 'post')"
      ]
    },
    {
      "cell_type": "markdown",
      "metadata": {
        "id": "oGdKbXk5_B8y"
      },
      "source": [
        "O \"padding\" é uma técnica comumente usada no processamento de sequências de dados, especialmente em tarefas de processamento de linguagem natural (PLN). O padding é usado para padronizar o comprimento das sequências. Isso é feito adicionando um valor especial (geralmente 0) no início ou no final das sequências para aumentá-las até um comprimento máximo definido. Isso permite que o modelo processe lotes de sequências simultaneamente, o que é essencial para a eficiência do treinamento.\n",
        "\n",
        "Na linha acima:\n",
        "\n",
        "**maxlen = max_length**: Este argumento define o comprimento máximo das sequências após o padding. Se uma sequência for mais curta que max_length, ela será estendida com zeros até alcançar esse comprimento. Se for mais longa, será truncada.\n",
        "\n",
        "**truncating = 'post'**: Este argumento especifica como as sequências devem ser truncadas para o comprimento máximo, caso sejam mais longas que max_length. O valor 'post' indica que o truncamento deve ocorrer no final da sequência. Alternativamente, 'pre' truncaria no início.\n",
        "\n",
        "O resultado, sequencias_treino_padded, será uma matriz onde cada sequência tem exatamente max_length elementos, com padding de zeros adicionado conforme necessário. Isso torna as sequências compatíveis com muitos modelos de aprendizado de máquina, especialmente aqueles usados em PLN."
      ]
    },
    {
      "cell_type": "code",
      "execution_count": 74,
      "metadata": {
        "id": "Irjyb6Ka_B8y"
      },
      "outputs": [],
      "source": [
        "# Conversão dos textos de teste para sequências de tokens\n",
        "sequencias_teste = dsa_tokenizador.texts_to_sequences(dados_dsa_teste['texto_processado'])"
      ]
    },
    {
      "cell_type": "code",
      "execution_count": 75,
      "metadata": {
        "id": "Ro78x4RK_B8y"
      },
      "outputs": [],
      "source": [
        "# Padding das sequências de teste\n",
        "sequencias_teste_padded = pad_sequences(sequencias_teste, maxlen = max_length)"
      ]
    },
    {
      "cell_type": "code",
      "execution_count": 76,
      "metadata": {
        "id": "5KCX4ZQX_B8y"
      },
      "outputs": [],
      "source": [
        "# Criação do codificador de rótulos\n",
        "dsa_le_v2 = LabelEncoder()"
      ]
    },
    {
      "cell_type": "code",
      "execution_count": 77,
      "metadata": {
        "id": "0G84anSu_B8y"
      },
      "outputs": [],
      "source": [
        "# Fit e transform dos rótulos de sentimento para treino\n",
        "y_treino_le = dsa_le_v2.fit_transform(dados_dsa_treino['sentimento'])"
      ]
    },
    {
      "cell_type": "code",
      "execution_count": 78,
      "metadata": {
        "id": "sPgRjSVD_B8y"
      },
      "outputs": [],
      "source": [
        "# Transformação dos rótulos de sentimento para teste\n",
        "y_teste_le = dsa_le_v2.transform(dados_dsa_teste['sentimento'])"
      ]
    },
    {
      "cell_type": "code",
      "execution_count": 79,
      "metadata": {
        "id": "TwBxVnCz_B8y"
      },
      "outputs": [],
      "source": [
        "# Conversão dos rótulos em variáveis categóricas\n",
        "y_treino_encoded = to_categorical(y_treino_le)\n",
        "y_teste_encoded = to_categorical(y_teste_le)"
      ]
    },
    {
      "cell_type": "code",
      "execution_count": 80,
      "metadata": {
        "id": "QfN72vuj_B8y"
      },
      "outputs": [],
      "source": [
        "# Definindo o tamanho do vocabulário\n",
        "vocab_size = len(dsa_tokenizador.word_index) + 1"
      ]
    },
    {
      "cell_type": "code",
      "execution_count": 81,
      "metadata": {
        "colab": {
          "base_uri": "https://localhost:8080/"
        },
        "id": "qd5XGyCa_B8z",
        "outputId": "66027b32-64b2-4414-c96a-4ed77aee2608"
      },
      "outputs": [
        {
          "output_type": "stream",
          "name": "stdout",
          "text": [
            "11898\n"
          ]
        }
      ],
      "source": [
        "print(vocab_size)"
      ]
    },
    {
      "cell_type": "code",
      "execution_count": 82,
      "metadata": {
        "id": "xem1LSDC_B8z"
      },
      "outputs": [],
      "source": [
        "# Definindo a dimensão do embedding\n",
        "embedding_dim = max_length"
      ]
    },
    {
      "cell_type": "code",
      "execution_count": 83,
      "metadata": {
        "id": "hZgkGUjA_B8z"
      },
      "outputs": [],
      "source": [
        "# Construção do modelo LSTM\n",
        "modelo_dsa_v2 = tf.keras.Sequential([Embedding(vocab_size, embedding_dim, input_length = max_length),\n",
        "                                     Bidirectional(LSTM(64)),\n",
        "                                     Dropout(0.4),\n",
        "                                     Dense(32, activation = 'leaky_relu', kernel_regularizer = 'l1_l2'),\n",
        "                                     Dropout(0.4),\n",
        "                                     Dense(6, activation = 'softmax')])"
      ]
    },
    {
      "cell_type": "code",
      "execution_count": 84,
      "metadata": {
        "id": "EB8nAXsG_B8z"
      },
      "outputs": [],
      "source": [
        "# Compilação do modelo\n",
        "modelo_dsa_v2.compile(loss = 'categorical_crossentropy',\n",
        "                      optimizer = 'adam',\n",
        "                      metrics = ['accuracy', Precision(), Recall(), AUC()])"
      ]
    },
    {
      "cell_type": "code",
      "execution_count": 85,
      "metadata": {
        "colab": {
          "base_uri": "https://localhost:8080/"
        },
        "id": "dTwFmwKo_B8z",
        "outputId": "44c8ec11-6ef3-41d8-a6dc-59078e33bdd5"
      },
      "outputs": [
        {
          "output_type": "stream",
          "name": "stdout",
          "text": [
            "Model: \"sequential_1\"\n",
            "_________________________________________________________________\n",
            " Layer (type)                Output Shape              Param #   \n",
            "=================================================================\n",
            " embedding (Embedding)       (None, 100, 100)          1189800   \n",
            "                                                                 \n",
            " bidirectional (Bidirection  (None, 128)               84480     \n",
            " al)                                                             \n",
            "                                                                 \n",
            " dropout (Dropout)           (None, 128)               0         \n",
            "                                                                 \n",
            " dense_5 (Dense)             (None, 32)                4128      \n",
            "                                                                 \n",
            " dropout_1 (Dropout)         (None, 32)                0         \n",
            "                                                                 \n",
            " dense_6 (Dense)             (None, 6)                 198       \n",
            "                                                                 \n",
            "=================================================================\n",
            "Total params: 1278606 (4.88 MB)\n",
            "Trainable params: 1278606 (4.88 MB)\n",
            "Non-trainable params: 0 (0.00 Byte)\n",
            "_________________________________________________________________\n",
            "None\n"
          ]
        }
      ],
      "source": [
        "# Exibindo o resumo do modelo\n",
        "print(modelo_dsa_v2.summary())"
      ]
    },
    {
      "cell_type": "code",
      "execution_count": 86,
      "metadata": {
        "id": "-UPJmX3B_B8z"
      },
      "outputs": [],
      "source": [
        "# Definindo os dados de entrada como array\n",
        "dados_entrada = np.array(sequencias_treino_padded)"
      ]
    },
    {
      "cell_type": "code",
      "execution_count": 87,
      "metadata": {
        "id": "yjp2QrL0_B8z"
      },
      "outputs": [],
      "source": [
        "# Definindo os dados de saída como array\n",
        "dados_saida = np.array(y_treino_encoded)"
      ]
    },
    {
      "cell_type": "code",
      "execution_count": 88,
      "metadata": {
        "id": "AGQrV8D3_B80"
      },
      "outputs": [],
      "source": [
        "# Definição de hiperparâmetros\n",
        "num_epochs = 35\n",
        "validation_split_value = 0.2\n",
        "paciencia = 5"
      ]
    },
    {
      "cell_type": "code",
      "execution_count": 89,
      "metadata": {
        "id": "_ZGpDRPU_B80"
      },
      "outputs": [],
      "source": [
        "# Configuração de Early Stopping\n",
        "early_stopping = tf.keras.callbacks.EarlyStopping(patience = paciencia)"
      ]
    },
    {
      "cell_type": "markdown",
      "metadata": {
        "id": "8J2wTeKP_B80"
      },
      "source": [
        "> Treinamento do Modelo."
      ]
    },
    {
      "cell_type": "code",
      "execution_count": 90,
      "metadata": {
        "colab": {
          "base_uri": "https://localhost:8080/"
        },
        "id": "OZlcPqbv_B80",
        "outputId": "dbdb89ea-6e61-4c05-8d23-87e119388270"
      },
      "outputs": [
        {
          "output_type": "stream",
          "name": "stdout",
          "text": [
            "Epoch 1/35\n",
            "400/400 [==============================] - 27s 55ms/step - loss: 2.4435 - accuracy: 0.3224 - precision_1: 0.4444 - recall_1: 6.2500e-04 - auc_1: 0.7029 - val_loss: 1.6211 - val_accuracy: 0.3262 - val_precision_1: 0.0000e+00 - val_recall_1: 0.0000e+00 - val_auc_1: 0.7234\n",
            "Epoch 2/35\n",
            "400/400 [==============================] - 8s 20ms/step - loss: 1.4613 - accuracy: 0.3617 - precision_1: 0.5007 - recall_1: 0.0845 - auc_1: 0.7969 - val_loss: 1.2953 - val_accuracy: 0.4238 - val_precision_1: 0.0000e+00 - val_recall_1: 0.0000e+00 - val_auc_1: 0.8471\n",
            "Epoch 3/35\n",
            "400/400 [==============================] - 6s 14ms/step - loss: 1.2316 - accuracy: 0.4306 - precision_1: 0.5146 - recall_1: 0.1839 - auc_1: 0.8611 - val_loss: 1.2199 - val_accuracy: 0.4247 - val_precision_1: 0.5660 - val_recall_1: 0.1541 - val_auc_1: 0.8618\n",
            "Epoch 4/35\n",
            "400/400 [==============================] - 6s 16ms/step - loss: 1.1348 - accuracy: 0.4531 - precision_1: 0.5380 - recall_1: 0.2321 - auc_1: 0.8764 - val_loss: 1.1899 - val_accuracy: 0.4328 - val_precision_1: 0.5205 - val_recall_1: 0.2778 - val_auc_1: 0.8673\n",
            "Epoch 5/35\n",
            "400/400 [==============================] - 6s 14ms/step - loss: 1.0603 - accuracy: 0.5159 - precision_1: 0.5996 - recall_1: 0.2919 - auc_1: 0.8956 - val_loss: 1.0874 - val_accuracy: 0.6525 - val_precision_1: 0.8127 - val_recall_1: 0.4609 - val_auc_1: 0.9135\n",
            "Epoch 6/35\n",
            "400/400 [==============================] - 5s 12ms/step - loss: 0.8417 - accuracy: 0.7271 - precision_1: 0.8588 - recall_1: 0.5844 - auc_1: 0.9533 - val_loss: 0.8102 - val_accuracy: 0.7434 - val_precision_1: 0.8840 - val_recall_1: 0.6144 - val_auc_1: 0.9547\n",
            "Epoch 7/35\n",
            "400/400 [==============================] - 6s 15ms/step - loss: 0.6589 - accuracy: 0.7874 - precision_1: 0.9072 - recall_1: 0.6673 - auc_1: 0.9751 - val_loss: 0.7345 - val_accuracy: 0.7609 - val_precision_1: 0.9205 - val_recall_1: 0.6222 - val_auc_1: 0.9642\n",
            "Epoch 8/35\n",
            "400/400 [==============================] - 5s 13ms/step - loss: 0.5819 - accuracy: 0.8093 - precision_1: 0.9163 - recall_1: 0.6967 - auc_1: 0.9812 - val_loss: 0.7206 - val_accuracy: 0.7709 - val_precision_1: 0.8948 - val_recall_1: 0.6353 - val_auc_1: 0.9643\n",
            "Epoch 9/35\n",
            "400/400 [==============================] - 6s 15ms/step - loss: 0.5284 - accuracy: 0.8314 - precision_1: 0.9120 - recall_1: 0.7291 - auc_1: 0.9850 - val_loss: 0.7048 - val_accuracy: 0.7875 - val_precision_1: 0.9018 - val_recall_1: 0.6484 - val_auc_1: 0.9661\n",
            "Epoch 10/35\n",
            "400/400 [==============================] - 5s 13ms/step - loss: 0.4965 - accuracy: 0.8417 - precision_1: 0.9155 - recall_1: 0.7521 - auc_1: 0.9868 - val_loss: 0.7066 - val_accuracy: 0.7850 - val_precision_1: 0.8074 - val_recall_1: 0.7572 - val_auc_1: 0.9671\n",
            "Epoch 11/35\n",
            "400/400 [==============================] - 5s 14ms/step - loss: 0.4679 - accuracy: 0.8814 - precision_1: 0.9236 - recall_1: 0.8165 - auc_1: 0.9898 - val_loss: 0.6942 - val_accuracy: 0.8566 - val_precision_1: 0.8755 - val_recall_1: 0.8441 - val_auc_1: 0.9690\n",
            "Epoch 12/35\n",
            "400/400 [==============================] - 5s 14ms/step - loss: 0.3781 - accuracy: 0.9392 - precision_1: 0.9563 - recall_1: 0.9122 - auc_1: 0.9949 - val_loss: 0.6296 - val_accuracy: 0.8791 - val_precision_1: 0.8888 - val_recall_1: 0.8719 - val_auc_1: 0.9729\n",
            "Epoch 13/35\n",
            "400/400 [==============================] - 5s 12ms/step - loss: 0.3376 - accuracy: 0.9507 - precision_1: 0.9622 - recall_1: 0.9337 - auc_1: 0.9962 - val_loss: 0.6253 - val_accuracy: 0.8813 - val_precision_1: 0.8894 - val_recall_1: 0.8772 - val_auc_1: 0.9717\n",
            "Epoch 14/35\n",
            "400/400 [==============================] - 6s 15ms/step - loss: 0.3065 - accuracy: 0.9591 - precision_1: 0.9693 - recall_1: 0.9457 - auc_1: 0.9969 - val_loss: 0.6210 - val_accuracy: 0.8781 - val_precision_1: 0.8869 - val_recall_1: 0.8728 - val_auc_1: 0.9732\n",
            "Epoch 15/35\n",
            "400/400 [==============================] - 5s 13ms/step - loss: 0.2770 - accuracy: 0.9630 - precision_1: 0.9712 - recall_1: 0.9523 - auc_1: 0.9974 - val_loss: 0.6230 - val_accuracy: 0.8781 - val_precision_1: 0.8857 - val_recall_1: 0.8744 - val_auc_1: 0.9739\n",
            "Epoch 16/35\n",
            "400/400 [==============================] - 6s 16ms/step - loss: 0.2683 - accuracy: 0.9659 - precision_1: 0.9746 - recall_1: 0.9564 - auc_1: 0.9978 - val_loss: 0.6150 - val_accuracy: 0.8825 - val_precision_1: 0.8909 - val_recall_1: 0.8775 - val_auc_1: 0.9732\n",
            "Epoch 17/35\n",
            "400/400 [==============================] - 5s 13ms/step - loss: 0.2574 - accuracy: 0.9698 - precision_1: 0.9762 - recall_1: 0.9623 - auc_1: 0.9978 - val_loss: 0.6680 - val_accuracy: 0.8687 - val_precision_1: 0.8759 - val_recall_1: 0.8650 - val_auc_1: 0.9692\n",
            "Epoch 18/35\n",
            "400/400 [==============================] - 6s 14ms/step - loss: 0.2387 - accuracy: 0.9732 - precision_1: 0.9783 - recall_1: 0.9665 - auc_1: 0.9980 - val_loss: 0.6070 - val_accuracy: 0.8750 - val_precision_1: 0.8848 - val_recall_1: 0.8716 - val_auc_1: 0.9733\n",
            "Epoch 19/35\n",
            "400/400 [==============================] - 6s 15ms/step - loss: 0.2330 - accuracy: 0.9723 - precision_1: 0.9784 - recall_1: 0.9663 - auc_1: 0.9984 - val_loss: 0.6602 - val_accuracy: 0.8766 - val_precision_1: 0.8823 - val_recall_1: 0.8734 - val_auc_1: 0.9694\n",
            "Epoch 20/35\n",
            "400/400 [==============================] - 5s 13ms/step - loss: 0.2154 - accuracy: 0.9757 - precision_1: 0.9804 - recall_1: 0.9703 - auc_1: 0.9988 - val_loss: 0.6628 - val_accuracy: 0.8863 - val_precision_1: 0.8896 - val_recall_1: 0.8816 - val_auc_1: 0.9674\n",
            "Epoch 21/35\n",
            "400/400 [==============================] - 6s 14ms/step - loss: 0.2179 - accuracy: 0.9766 - precision_1: 0.9803 - recall_1: 0.9716 - auc_1: 0.9986 - val_loss: 0.6334 - val_accuracy: 0.8794 - val_precision_1: 0.8865 - val_recall_1: 0.8741 - val_auc_1: 0.9707\n",
            "Epoch 22/35\n",
            "400/400 [==============================] - 5s 13ms/step - loss: 0.2106 - accuracy: 0.9755 - precision_1: 0.9801 - recall_1: 0.9707 - auc_1: 0.9988 - val_loss: 0.6479 - val_accuracy: 0.8822 - val_precision_1: 0.8862 - val_recall_1: 0.8788 - val_auc_1: 0.9711\n",
            "Epoch 23/35\n",
            "400/400 [==============================] - 6s 14ms/step - loss: 0.1998 - accuracy: 0.9787 - precision_1: 0.9820 - recall_1: 0.9736 - auc_1: 0.9991 - val_loss: 0.6408 - val_accuracy: 0.8859 - val_precision_1: 0.8881 - val_recall_1: 0.8831 - val_auc_1: 0.9710\n",
            "CPU times: user 2min 30s, sys: 8.07 s, total: 2min 38s\n",
            "Wall time: 2min 31s\n"
          ]
        }
      ],
      "source": [
        "%%time\n",
        "history = modelo_dsa_v2.fit(dados_entrada,\n",
        "                            dados_saida,\n",
        "                            epochs = num_epochs,\n",
        "                            verbose = 1,\n",
        "                            validation_split = validation_split_value,\n",
        "                            callbacks = [early_stopping])"
      ]
    },
    {
      "cell_type": "code",
      "execution_count": 91,
      "metadata": {
        "colab": {
          "base_uri": "https://localhost:8080/",
          "height": 430
        },
        "id": "SUgzAiFc_B80",
        "outputId": "d125ab11-95b3-4f1e-bafe-00e0be802ddd"
      },
      "outputs": [
        {
          "output_type": "display_data",
          "data": {
            "text/plain": [
              "<Figure size 640x480 with 1 Axes>"
            ],
            "image/png": "[encoded data removed]"
          },
          "metadata": {}
        }
      ],
      "source": [
        "# Plot das curvas de erro\n",
        "loss, val_loss = history.history['loss'], history.history['val_loss']\n",
        "plt.plot(loss, label = 'Erro em Treino')\n",
        "plt.plot(val_loss, label = 'Erro em Validação')\n",
        "plt.legend()\n",
        "plt.show()"
      ]
    },
    {
      "cell_type": "code",
      "execution_count": 92,
      "metadata": {
        "colab": {
          "base_uri": "https://localhost:8080/"
        },
        "id": "1dok3ENI_B80",
        "outputId": "e6eca40d-1f22-4eb9-8eba-5488cc6e8c88"
      },
      "outputs": [
        {
          "output_type": "stream",
          "name": "stdout",
          "text": [
            "63/63 [==============================] - 1s 6ms/step\n"
          ]
        }
      ],
      "source": [
        "# Previsões com dados de teste\n",
        "previsoes = modelo_dsa_v2.predict(sequencias_teste_padded)"
      ]
    },
    {
      "cell_type": "code",
      "execution_count": 93,
      "metadata": {
        "id": "Hhp7Xb7v_B80"
      },
      "outputs": [],
      "source": [
        "# Determinação dos rótulos previstos\n",
        "labels_previstos = previsoes.argmax(axis = 1)"
      ]
    },
    {
      "cell_type": "code",
      "execution_count": 94,
      "metadata": {
        "colab": {
          "base_uri": "https://localhost:8080/"
        },
        "id": "8jjyZ8ir_B81",
        "outputId": "d9e4472c-3894-4585-9b63-15af63425c87"
      },
      "outputs": [
        {
          "output_type": "stream",
          "name": "stdout",
          "text": [
            "              precision    recall  f1-score   support\n",
            "\n",
            "           0       0.90      0.86      0.88       275\n",
            "           1       0.87      0.86      0.86       224\n",
            "           2       0.91      0.92      0.91       695\n",
            "           3       0.73      0.73      0.73       159\n",
            "           4       0.92      0.94      0.93       581\n",
            "           5       0.74      0.70      0.72        66\n",
            "\n",
            "    accuracy                           0.89      2000\n",
            "   macro avg       0.85      0.83      0.84      2000\n",
            "weighted avg       0.89      0.89      0.89      2000\n",
            "\n"
          ]
        }
      ],
      "source": [
        "# Exibição do relatório de classificação\n",
        "print(classification_report(y_teste_le, labels_previstos))"
      ]
    },
    {
      "cell_type": "code",
      "execution_count": 95,
      "metadata": {
        "colab": {
          "base_uri": "https://localhost:8080/"
        },
        "id": "s4TLf_Qx_B81",
        "outputId": "daea5c34-848d-45fe-8273-650d8d0727d1"
      },
      "outputs": [
        {
          "output_type": "stream",
          "name": "stdout",
          "text": [
            "[[237   8   9   3  18   0]\n",
            " [ 12 193   3   1   6   9]\n",
            " [  1   2 637  34  15   6]\n",
            " [  1   3  31 116   7   1]\n",
            " [ 10   7  14   4 546   0]\n",
            " [  1  10   7   1   1  46]]\n"
          ]
        }
      ],
      "source": [
        "# Exibição da matriz de confusão\n",
        "print(confusion_matrix(y_teste_le, labels_previstos))"
      ]
    },
    {
      "cell_type": "code",
      "execution_count": 96,
      "metadata": {
        "colab": {
          "base_uri": "https://localhost:8080/"
        },
        "id": "2ZWpuQV6_B81",
        "outputId": "702a30db-c2ec-452e-f0b2-d66995374869"
      },
      "outputs": [
        {
          "output_type": "stream",
          "name": "stdout",
          "text": [
            "0.8875\n"
          ]
        }
      ],
      "source": [
        "# Exibição da precisão do modelo\n",
        "print(accuracy_score(y_teste_le, labels_previstos))"
      ]
    },
    {
      "cell_type": "code",
      "execution_count": 97,
      "metadata": {
        "id": "Zpo0Ffb-_B81"
      },
      "outputs": [],
      "source": [
        "# Salva o modelo\n",
        "modelo_dsa_v2.save('modelo_dsa_v2.keras')"
      ]
    },
    {
      "cell_type": "markdown",
      "metadata": {
        "id": "GF_GUbiM_B81"
      },
      "source": [
        "> Deploy do Modelo."
      ]
    },
    {
      "cell_type": "code",
      "execution_count": 98,
      "metadata": {
        "id": "SG0xH0ot_B81"
      },
      "outputs": [],
      "source": [
        "# Carrega o modelo salvo\n",
        "modelo_carregado = load_model('modelo_dsa_v2.keras')"
      ]
    },
    {
      "cell_type": "code",
      "execution_count": 99,
      "metadata": {
        "id": "23mKQV1D_B81"
      },
      "outputs": [],
      "source": [
        "# Nova frase (sentimento = medo (fear))\n",
        "frase = \"i even feel a little shaky\""
      ]
    },
    {
      "cell_type": "code",
      "execution_count": 100,
      "metadata": {
        "id": "K-ldWym3_B81"
      },
      "outputs": [],
      "source": [
        "# Cria um dataframe com a frase\n",
        "df_novo = pd.DataFrame({'Frase': [frase]})"
      ]
    },
    {
      "cell_type": "code",
      "execution_count": 101,
      "metadata": {
        "id": "eTT2tG8f_B81"
      },
      "outputs": [],
      "source": [
        "# Aplica a função de processamento\n",
        "df_novo['Frase_Processada'] = df_novo['Frase'].apply(dsa_preprocessa_texto)"
      ]
    },
    {
      "cell_type": "code",
      "execution_count": 102,
      "metadata": {
        "id": "EHy_FYa2_B82"
      },
      "outputs": [],
      "source": [
        "# Processar os novos dados\n",
        "sequencias_novos = dsa_tokenizador.texts_to_sequences(df_novo['Frase_Processada'])\n",
        "sequencias_novos_padded = pad_sequences(sequencias_novos, maxlen = max_length)"
      ]
    },
    {
      "cell_type": "code",
      "execution_count": 103,
      "metadata": {
        "colab": {
          "base_uri": "https://localhost:8080/"
        },
        "id": "ooazTxHt_B82",
        "outputId": "f160f87b-6856-45b2-ec13-7486d6396a70"
      },
      "outputs": [
        {
          "output_type": "stream",
          "name": "stdout",
          "text": [
            "1/1 [==============================] - 1s 901ms/step\n"
          ]
        }
      ],
      "source": [
        "# Fazer previsões com o modelo carregado\n",
        "previsoes = modelo_carregado.predict(sequencias_novos_padded)"
      ]
    },
    {
      "cell_type": "code",
      "execution_count": 104,
      "metadata": {
        "id": "5sSMIETH_B82"
      },
      "outputs": [],
      "source": [
        "# Seleciona a classe com maior probabilidade\n",
        "classe_maior_prob = np.argmax(previsoes, axis = 1)"
      ]
    },
    {
      "cell_type": "code",
      "execution_count": 105,
      "metadata": {
        "colab": {
          "base_uri": "https://localhost:8080/"
        },
        "id": "mPJupd_h_B82",
        "outputId": "058b0f4b-df34-41b1-e5d3-7b06b03417a9"
      },
      "outputs": [
        {
          "output_type": "execute_result",
          "data": {
            "text/plain": [
              "array([1])"
            ]
          },
          "metadata": {},
          "execution_count": 105
        }
      ],
      "source": [
        "classe_maior_prob"
      ]
    },
    {
      "cell_type": "code",
      "execution_count": 106,
      "metadata": {
        "id": "dl8uZVUP_B82"
      },
      "outputs": [],
      "source": [
        "# Obtém o nome da classe\n",
        "nome_classe = dsa_le_v2.inverse_transform(classe_maior_prob)"
      ]
    },
    {
      "cell_type": "code",
      "execution_count": 107,
      "metadata": {
        "colab": {
          "base_uri": "https://localhost:8080/"
        },
        "id": "ILYIwS7m_B82",
        "outputId": "92fbb626-9091-421f-cdc1-ece88a86d18a"
      },
      "outputs": [
        {
          "output_type": "execute_result",
          "data": {
            "text/plain": [
              "array(['fear'], dtype=object)"
            ]
          },
          "metadata": {},
          "execution_count": 107
        }
      ],
      "source": [
        "# Classe prevista\n",
        "nome_classe"
      ]
    },
    {
      "cell_type": "markdown",
      "metadata": {
        "id": "OVEydxHH_B82"
      },
      "source": [
        "## Versão 3 do Modelo - Fine Tuning de Modelo Transformer Pré-Treinado\n",
        "\n",
        "Usaremos os dados processados com SpaCy e então faremos o processamento específico para o modelo BERT, assim como fizemos com o modelo da versão 1."
      ]
    },
    {
      "cell_type": "code",
      "execution_count": 108,
      "metadata": {
        "colab": {
          "base_uri": "https://localhost:8080/",
          "height": 206
        },
        "id": "XpcqA0uO_B83",
        "outputId": "bf4f2c9c-9ae1-4328-9416-5f6ecef96aaf"
      },
      "outputs": [
        {
          "output_type": "execute_result",
          "data": {
            "text/plain": [
              "                                               texto sentimento  \\\n",
              "0  i am feeling completely overwhelmed i have two...       fear   \n",
              "1    i have the feeling she was amused and delighted        joy   \n",
              "2  i was able to help chai lifeline with your sup...        joy   \n",
              "3  i already feel like i fucked up though because...      anger   \n",
              "4  i still love my so and wish the best for him i...    sadness   \n",
              "\n",
              "                                    texto_processado  \n",
              "0  feel completely overwhelmed strategy help feel...  \n",
              "1                              feeling amuse delight  \n",
              "2  able help chai lifeline support encouragement ...  \n",
              "3             feel like fuck not usually eat morning  \n",
              "4  love wish good long tolerate effect bm life fa...  "
            ],
            "text/html": [
              "\n",
              "  <div id=\"df-a8c3186c-7361-43ec-a61d-4201f790cf77\" class=\"colab-df-container\">\n",
              "    <div>\n",
              "<style scoped>\n",
              "    .dataframe tbody tr th:only-of-type {\n",
              "        vertical-align: middle;\n",
              "    }\n",
              "\n",
              "    .dataframe tbody tr th {\n",
              "        vertical-align: top;\n",
              "    }\n",
              "\n",
              "    .dataframe thead th {\n",
              "        text-align: right;\n",
              "    }\n",
              "</style>\n",
              "<table border=\"1\" class=\"dataframe\">\n",
              "  <thead>\n",
              "    <tr style=\"text-align: right;\">\n",
              "      <th></th>\n",
              "      <th>texto</th>\n",
              "      <th>sentimento</th>\n",
              "      <th>texto_processado</th>\n",
              "    </tr>\n",
              "  </thead>\n",
              "  <tbody>\n",
              "    <tr>\n",
              "      <th>0</th>\n",
              "      <td>i am feeling completely overwhelmed i have two...</td>\n",
              "      <td>fear</td>\n",
              "      <td>feel completely overwhelmed strategy help feel...</td>\n",
              "    </tr>\n",
              "    <tr>\n",
              "      <th>1</th>\n",
              "      <td>i have the feeling she was amused and delighted</td>\n",
              "      <td>joy</td>\n",
              "      <td>feeling amuse delight</td>\n",
              "    </tr>\n",
              "    <tr>\n",
              "      <th>2</th>\n",
              "      <td>i was able to help chai lifeline with your sup...</td>\n",
              "      <td>joy</td>\n",
              "      <td>able help chai lifeline support encouragement ...</td>\n",
              "    </tr>\n",
              "    <tr>\n",
              "      <th>3</th>\n",
              "      <td>i already feel like i fucked up though because...</td>\n",
              "      <td>anger</td>\n",
              "      <td>feel like fuck not usually eat morning</td>\n",
              "    </tr>\n",
              "    <tr>\n",
              "      <th>4</th>\n",
              "      <td>i still love my so and wish the best for him i...</td>\n",
              "      <td>sadness</td>\n",
              "      <td>love wish good long tolerate effect bm life fa...</td>\n",
              "    </tr>\n",
              "  </tbody>\n",
              "</table>\n",
              "</div>\n",
              "    <div class=\"colab-df-buttons\">\n",
              "\n",
              "  <div class=\"colab-df-container\">\n",
              "    <button class=\"colab-df-convert\" onclick=\"convertToInteractive('df-a8c3186c-7361-43ec-a61d-4201f790cf77')\"\n",
              "            title=\"Convert this dataframe to an interactive table.\"\n",
              "            style=\"display:none;\">\n",
              "\n",
              "  <svg xmlns=\"http://www.w3.org/2000/svg\" height=\"24px\" viewBox=\"0 -960 960 960\">\n",
              "    <path d=\"M120-120v-720h720v720H120Zm60-500h600v-160H180v160Zm220 220h160v-160H400v160Zm0 220h160v-160H400v160ZM180-400h160v-160H180v160Zm440 0h160v-160H620v160ZM180-180h160v-160H180v160Zm440 0h160v-160H620v160Z\"/>\n",
              "  </svg>\n",
              "    </button>\n",
              "\n",
              "  <style>\n",
              "    .colab-df-container {\n",
              "      display:flex;\n",
              "      gap: 12px;\n",
              "    }\n",
              "\n",
              "    .colab-df-convert {\n",
              "      background-color: #E8F0FE;\n",
              "      border: none;\n",
              "      border-radius: 50%;\n",
              "      cursor: pointer;\n",
              "      display: none;\n",
              "      fill: #1967D2;\n",
              "      height: 32px;\n",
              "      padding: 0 0 0 0;\n",
              "      width: 32px;\n",
              "    }\n",
              "\n",
              "    .colab-df-convert:hover {\n",
              "      background-color: #E2EBFA;\n",
              "      box-shadow: 0px 1px 2px rgba(60, 64, 67, 0.3), 0px 1px 3px 1px rgba(60, 64, 67, 0.15);\n",
              "      fill: #174EA6;\n",
              "    }\n",
              "\n",
              "    .colab-df-buttons div {\n",
              "      margin-bottom: 4px;\n",
              "    }\n",
              "\n",
              "    [theme=dark] .colab-df-convert {\n",
              "      background-color: #3B4455;\n",
              "      fill: #D2E3FC;\n",
              "    }\n",
              "\n",
              "    [theme=dark] .colab-df-convert:hover {\n",
              "      background-color: #434B5C;\n",
              "      box-shadow: 0px 1px 3px 1px rgba(0, 0, 0, 0.15);\n",
              "      filter: drop-shadow(0px 1px 2px rgba(0, 0, 0, 0.3));\n",
              "      fill: #FFFFFF;\n",
              "    }\n",
              "  </style>\n",
              "\n",
              "    <script>\n",
              "      const buttonEl =\n",
              "        document.querySelector('#df-a8c3186c-7361-43ec-a61d-4201f790cf77 button.colab-df-convert');\n",
              "      buttonEl.style.display =\n",
              "        google.colab.kernel.accessAllowed ? 'block' : 'none';\n",
              "\n",
              "      async function convertToInteractive(key) {\n",
              "        const element = document.querySelector('#df-a8c3186c-7361-43ec-a61d-4201f790cf77');\n",
              "        const dataTable =\n",
              "          await google.colab.kernel.invokeFunction('convertToInteractive',\n",
              "                                                    [key], {});\n",
              "        if (!dataTable) return;\n",
              "\n",
              "        const docLinkHtml = 'Like what you see? Visit the ' +\n",
              "          '<a target=\"_blank\" href=https://colab.research.google.com/notebooks/data_table.ipynb>data table notebook</a>'\n",
              "          + ' to learn more about interactive tables.';\n",
              "        element.innerHTML = '';\n",
              "        dataTable['output_type'] = 'display_data';\n",
              "        await google.colab.output.renderOutput(dataTable, element);\n",
              "        const docLink = document.createElement('div');\n",
              "        docLink.innerHTML = docLinkHtml;\n",
              "        element.appendChild(docLink);\n",
              "      }\n",
              "    </script>\n",
              "  </div>\n",
              "\n",
              "\n",
              "<div id=\"df-5acaa29d-8aed-4d18-a2f4-78c207099fe5\">\n",
              "  <button class=\"colab-df-quickchart\" onclick=\"quickchart('df-5acaa29d-8aed-4d18-a2f4-78c207099fe5')\"\n",
              "            title=\"Suggest charts\"\n",
              "            style=\"display:none;\">\n",
              "\n",
              "<svg xmlns=\"http://www.w3.org/2000/svg\" height=\"24px\"viewBox=\"0 0 24 24\"\n",
              "     width=\"24px\">\n",
              "    <g>\n",
              "        <path d=\"M19 3H5c-1.1 0-2 .9-2 2v14c0 1.1.9 2 2 2h14c1.1 0 2-.9 2-2V5c0-1.1-.9-2-2-2zM9 17H7v-7h2v7zm4 0h-2V7h2v10zm4 0h-2v-4h2v4z\"/>\n",
              "    </g>\n",
              "</svg>\n",
              "  </button>\n",
              "\n",
              "<style>\n",
              "  .colab-df-quickchart {\n",
              "      --bg-color: #E8F0FE;\n",
              "      --fill-color: #1967D2;\n",
              "      --hover-bg-color: #E2EBFA;\n",
              "      --hover-fill-color: #174EA6;\n",
              "      --disabled-fill-color: #AAA;\n",
              "      --disabled-bg-color: #DDD;\n",
              "  }\n",
              "\n",
              "  [theme=dark] .colab-df-quickchart {\n",
              "      --bg-color: #3B4455;\n",
              "      --fill-color: #D2E3FC;\n",
              "      --hover-bg-color: #434B5C;\n",
              "      --hover-fill-color: #FFFFFF;\n",
              "      --disabled-bg-color: #3B4455;\n",
              "      --disabled-fill-color: #666;\n",
              "  }\n",
              "\n",
              "  .colab-df-quickchart {\n",
              "    background-color: var(--bg-color);\n",
              "    border: none;\n",
              "    border-radius: 50%;\n",
              "    cursor: pointer;\n",
              "    display: none;\n",
              "    fill: var(--fill-color);\n",
              "    height: 32px;\n",
              "    padding: 0;\n",
              "    width: 32px;\n",
              "  }\n",
              "\n",
              "  .colab-df-quickchart:hover {\n",
              "    background-color: var(--hover-bg-color);\n",
              "    box-shadow: 0 1px 2px rgba(60, 64, 67, 0.3), 0 1px 3px 1px rgba(60, 64, 67, 0.15);\n",
              "    fill: var(--button-hover-fill-color);\n",
              "  }\n",
              "\n",
              "  .colab-df-quickchart-complete:disabled,\n",
              "  .colab-df-quickchart-complete:disabled:hover {\n",
              "    background-color: var(--disabled-bg-color);\n",
              "    fill: var(--disabled-fill-color);\n",
              "    box-shadow: none;\n",
              "  }\n",
              "\n",
              "  .colab-df-spinner {\n",
              "    border: 2px solid var(--fill-color);\n",
              "    border-color: transparent;\n",
              "    border-bottom-color: var(--fill-color);\n",
              "    animation:\n",
              "      spin 1s steps(1) infinite;\n",
              "  }\n",
              "\n",
              "  @keyframes spin {\n",
              "    0% {\n",
              "      border-color: transparent;\n",
              "      border-bottom-color: var(--fill-color);\n",
              "      border-left-color: var(--fill-color);\n",
              "    }\n",
              "    20% {\n",
              "      border-color: transparent;\n",
              "      border-left-color: var(--fill-color);\n",
              "      border-top-color: var(--fill-color);\n",
              "    }\n",
              "    30% {\n",
              "      border-color: transparent;\n",
              "      border-left-color: var(--fill-color);\n",
              "      border-top-color: var(--fill-color);\n",
              "      border-right-color: var(--fill-color);\n",
              "    }\n",
              "    40% {\n",
              "      border-color: transparent;\n",
              "      border-right-color: var(--fill-color);\n",
              "      border-top-color: var(--fill-color);\n",
              "    }\n",
              "    60% {\n",
              "      border-color: transparent;\n",
              "      border-right-color: var(--fill-color);\n",
              "    }\n",
              "    80% {\n",
              "      border-color: transparent;\n",
              "      border-right-color: var(--fill-color);\n",
              "      border-bottom-color: var(--fill-color);\n",
              "    }\n",
              "    90% {\n",
              "      border-color: transparent;\n",
              "      border-bottom-color: var(--fill-color);\n",
              "    }\n",
              "  }\n",
              "</style>\n",
              "\n",
              "  <script>\n",
              "    async function quickchart(key) {\n",
              "      const quickchartButtonEl =\n",
              "        document.querySelector('#' + key + ' button');\n",
              "      quickchartButtonEl.disabled = true;  // To prevent multiple clicks.\n",
              "      quickchartButtonEl.classList.add('colab-df-spinner');\n",
              "      try {\n",
              "        const charts = await google.colab.kernel.invokeFunction(\n",
              "            'suggestCharts', [key], {});\n",
              "      } catch (error) {\n",
              "        console.error('Error during call to suggestCharts:', error);\n",
              "      }\n",
              "      quickchartButtonEl.classList.remove('colab-df-spinner');\n",
              "      quickchartButtonEl.classList.add('colab-df-quickchart-complete');\n",
              "    }\n",
              "    (() => {\n",
              "      let quickchartButtonEl =\n",
              "        document.querySelector('#df-5acaa29d-8aed-4d18-a2f4-78c207099fe5 button');\n",
              "      quickchartButtonEl.style.display =\n",
              "        google.colab.kernel.accessAllowed ? 'block' : 'none';\n",
              "    })();\n",
              "  </script>\n",
              "</div>\n",
              "\n",
              "    </div>\n",
              "  </div>\n"
            ]
          },
          "metadata": {},
          "execution_count": 108
        }
      ],
      "source": [
        "# Dados processados com SpaCy\n",
        "dados_dsa_treino.head()"
      ]
    },
    {
      "cell_type": "code",
      "execution_count": 109,
      "metadata": {
        "id": "ofSLLm62_B83"
      },
      "outputs": [],
      "source": [
        "# Função para codificar o texto em sequência de inteiros para entrada do modelo BERT\n",
        "def dsa_encode(texts, tokenizer, chunk_size = 256, maxlen = 512):\n",
        "\n",
        "    # Ativar truncamento no tokenizador para um comprimento máximo especificado\n",
        "    tokenizer.enable_truncation(max_length = maxlen)\n",
        "\n",
        "    # Ativar padding no tokenizador para um comprimento específico\n",
        "    tokenizer.enable_padding(length = maxlen)\n",
        "\n",
        "    # Inicializar uma lista para armazenar os IDs codificados\n",
        "    all_ids = []\n",
        "\n",
        "    # Iterar sobre os textos em pedaços de tamanho 'chunk_size'\n",
        "    for i in tqdm(range(0, len(texts), chunk_size)):\n",
        "\n",
        "        # Criar um pedaço (chunk) do texto\n",
        "        text_chunk = texts[i:i+chunk_size].tolist()\n",
        "\n",
        "        # Codificar o pedaço do texto em lote\n",
        "        encs = tokenizer.encode_batch(text_chunk)\n",
        "\n",
        "        # Estender a lista 'all_ids' com os IDs codificados\n",
        "        all_ids.extend([enc.ids for enc in encs])\n",
        "\n",
        "    # Retorna a lista de IDs como um array numpy\n",
        "    return np.array(all_ids)"
      ]
    },
    {
      "cell_type": "markdown",
      "metadata": {
        "id": "b64O8OU7_B83"
      },
      "source": [
        "https://huggingface.co/distilbert-base-multilingual-cased"
      ]
    },
    {
      "cell_type": "code",
      "execution_count": 110,
      "metadata": {
        "colab": {
          "base_uri": "https://localhost:8080/",
          "height": 145,
          "referenced_widgets": [
            "3515f3f88d2547769fb1558fcb4a6ef0",
            "f4efad2b980340089140e983ae0314a6",
            "df971d7b13c24e2ea541ba6c768e8183",
            "4f420db673ad4e8abdedbb67f996083c",
            "52bb392ae5ca42fc9b72d4334725c2ac",
            "c6a809b750504db393f3c1c4b20c4cfc",
            "41b079883a014d0d963d3efc287e681d",
            "8df825904dd54983bf499778fbd33b95",
            "8ba16682104840eb86f21b5ce9455962",
            "388e9514fd354b72a3b1ad00c0690503",
            "7fe41f8dfff7459bbd78b5e8cbcd9f83",
            "1dcb18cfd6684ff89c28c29a10546741",
            "808f8ada46a3432e8a684a244b215442",
            "b88b280b70984401bb18ef839d0a2002",
            "337e8d62b2d64f9ea94e37e59c3f5084",
            "2664287be0444521a89c6bf37693ef33",
            "7ad6821db95543aa87154308639b9ab6",
            "f3025ba4e8d5441da6143036467db49a",
            "1639dc05e6b8427b85f24935819d3370",
            "983e026de5a344c1a0b7f68ba7cbc4ba",
            "4b0e2ac8fd904348bf3751e48196e05f",
            "33dee38dc3c440ffa6d1bfd57824973f",
            "40f7b8d3cd1c474f85507c66c80b152c",
            "f375ae3afb1044ea8310c2ff696f9986",
            "69a5fc7613934a48b58cb70d35b6cd21",
            "151a3069345f4e7d852933279c70fc34",
            "162efcaada324c998c5dec9fc17d1c69",
            "c9b14423281a413481cd0b9cbf641df9",
            "9f19d8a3cb8d4ff087157ddb1666e6c0",
            "7ae95d6177154c29a5387ee9fffb534d",
            "8f9ddf684bc0471e870ff12b2816733f",
            "3229e08aa9074db8b64593dcfa03592e",
            "ed63adc77c5643b28d186e7ab875dad8",
            "451d79b10ee648b3b83a52fbabd96634",
            "dc05a3de4371433991e606f755ca745d",
            "1beba576516a41438243d48c91c91159",
            "6ac1d645cdab472aaa89eccf4ba77a95",
            "ea3d4adb594d4b38b68fca1b2af29e8a",
            "684a92f2802140c5ad901b31a31869ec",
            "9715000bb58346a99ff2f6818af11438",
            "4fb1ed0eef184f329af195b21e645752",
            "db186a89fbdb4538a5ccb6e3be4f8e66",
            "e87bcb5e9ef0423ab42261109d4779fe",
            "3de170ac60104b67b6dd50fffe847efc"
          ]
        },
        "id": "16AIDXlW_B83",
        "outputId": "acd112d4-0828-4e7c-c078-d53b4b6947dd"
      },
      "outputs": [
        {
          "output_type": "display_data",
          "data": {
            "text/plain": [
              "tokenizer_config.json:   0%|          | 0.00/29.0 [00:00<?, ?B/s]"
            ],
            "application/vnd.jupyter.widget-view+json": {
              "version_major": 2,
              "version_minor": 0,
              "model_id": "3515f3f88d2547769fb1558fcb4a6ef0"
            }
          },
          "metadata": {}
        },
        {
          "output_type": "display_data",
          "data": {
            "text/plain": [
              "vocab.txt:   0%|          | 0.00/996k [00:00<?, ?B/s]"
            ],
            "application/vnd.jupyter.widget-view+json": {
              "version_major": 2,
              "version_minor": 0,
              "model_id": "1dcb18cfd6684ff89c28c29a10546741"
            }
          },
          "metadata": {}
        },
        {
          "output_type": "display_data",
          "data": {
            "text/plain": [
              "tokenizer.json:   0%|          | 0.00/1.96M [00:00<?, ?B/s]"
            ],
            "application/vnd.jupyter.widget-view+json": {
              "version_major": 2,
              "version_minor": 0,
              "model_id": "40f7b8d3cd1c474f85507c66c80b152c"
            }
          },
          "metadata": {}
        },
        {
          "output_type": "display_data",
          "data": {
            "text/plain": [
              "config.json:   0%|          | 0.00/466 [00:00<?, ?B/s]"
            ],
            "application/vnd.jupyter.widget-view+json": {
              "version_major": 2,
              "version_minor": 0,
              "model_id": "451d79b10ee648b3b83a52fbabd96634"
            }
          },
          "metadata": {}
        }
      ],
      "source": [
        "# Carrega o tokenizador do modelo pré-treinado\n",
        "tokenizador_bert = transformers.DistilBertTokenizer.from_pretrained('distilbert-base-multilingual-cased')"
      ]
    },
    {
      "cell_type": "code",
      "execution_count": 111,
      "metadata": {
        "colab": {
          "base_uri": "https://localhost:8080/"
        },
        "id": "i5jG9B1O_B83",
        "outputId": "d9a60b67-c78a-46db-cb24-6572687004e1"
      },
      "outputs": [
        {
          "output_type": "execute_result",
          "data": {
            "text/plain": [
              "('./tokenizer_config.json',\n",
              " './special_tokens_map.json',\n",
              " './vocab.txt',\n",
              " './added_tokens.json')"
            ]
          },
          "metadata": {},
          "execution_count": 111
        }
      ],
      "source": [
        "# Salva o tokenizador e o vocabulário localmente\n",
        "tokenizador_bert.save_pretrained('.')"
      ]
    },
    {
      "cell_type": "code",
      "execution_count": 112,
      "metadata": {
        "id": "jn_GDqa1_B83"
      },
      "outputs": [],
      "source": [
        "# Carrega um tokenizador mais veloz usando o vocabulário do tokenizador principal\n",
        "# from tokenizers import BertWordPieceTokenizer\n",
        "fast_tokenizer = BertWordPieceTokenizer('vocab.txt', lowercase = False)"
      ]
    },
    {
      "cell_type": "code",
      "execution_count": 113,
      "metadata": {
        "colab": {
          "base_uri": "https://localhost:8080/"
        },
        "id": "46g5Jekb_B83",
        "outputId": "c625b909-129d-409b-8adc-96ff84b84873"
      },
      "outputs": [
        {
          "output_type": "execute_result",
          "data": {
            "text/plain": [
              "Tokenizer(vocabulary_size=119547, model=BertWordPiece, unk_token=[UNK], sep_token=[SEP], cls_token=[CLS], pad_token=[PAD], mask_token=[MASK], clean_text=True, handle_chinese_chars=True, strip_accents=None, lowercase=False, wordpieces_prefix=##)"
            ]
          },
          "metadata": {},
          "execution_count": 113
        }
      ],
      "source": [
        "# Visualiza o tokenizador\n",
        "fast_tokenizer"
      ]
    },
    {
      "cell_type": "code",
      "execution_count": 114,
      "metadata": {
        "id": "oqN31ULB_B84"
      },
      "outputs": [],
      "source": [
        "# Divide os dados em treino e validação com amostragem estratificada\n",
        "X_treino, X_valid, Y_treino, Y_valid = train_test_split(dados_dsa_treino['texto_processado'].values,\n",
        "                                                        dados_dsa_treino['sentimento'].values,\n",
        "                                                        test_size = 0.2,\n",
        "                                                        random_state = 42,\n",
        "                                                        stratify = dados_dsa_treino['sentimento'])"
      ]
    },
    {
      "cell_type": "markdown",
      "metadata": {
        "id": "VdOCTtV4_B84"
      },
      "source": [
        "A amostragem estratificada é uma técnica usada em estatística para garantir que subgrupos (ou estratos) de uma população sejam adequadamente representados dentro de uma amostra. É particularmente útil em situações onde a população é heterogênea e os subgrupos têm características diferentes que são importantes para a pesquisa."
      ]
    },
    {
      "cell_type": "code",
      "execution_count": 115,
      "metadata": {
        "id": "Stj6fzBm_B84"
      },
      "outputs": [],
      "source": [
        "# Comprimento máximo usado no texto\n",
        "max_length = 100"
      ]
    },
    {
      "cell_type": "code",
      "execution_count": 116,
      "metadata": {
        "colab": {
          "base_uri": "https://localhost:8080/"
        },
        "id": "K_eWVyx7_B84",
        "outputId": "240acb93-09c2-4998-8124-ff1a0eb4d02d"
      },
      "outputs": [
        {
          "output_type": "stream",
          "name": "stderr",
          "text": [
            "100%|██████████| 50/50 [00:00<00:00, 93.00it/s]\n",
            "100%|██████████| 13/13 [00:00<00:00, 96.09it/s]\n",
            "100%|██████████| 8/8 [00:00<00:00, 82.94it/s]\n"
          ]
        }
      ],
      "source": [
        "# Aplica a codificação (tokenização) em nossos dados, usando o tokenizador mais veloz\n",
        "X_treino_final = dsa_encode(X_treino, fast_tokenizer, maxlen = max_length)\n",
        "X_valid_final = dsa_encode(X_valid, fast_tokenizer, maxlen = max_length)\n",
        "X_teste_final = dsa_encode(dados_dsa_teste['texto_processado'].to_numpy(), fast_tokenizer, maxlen = max_length)"
      ]
    },
    {
      "cell_type": "code",
      "execution_count": 117,
      "metadata": {
        "colab": {
          "base_uri": "https://localhost:8080/"
        },
        "id": "g4JGDvoo_B84",
        "outputId": "a914408b-03f5-4551-942f-1fc989090254"
      },
      "outputs": [
        {
          "output_type": "execute_result",
          "data": {
            "text/plain": [
              "(12800, 100)"
            ]
          },
          "metadata": {},
          "execution_count": 117
        }
      ],
      "source": [
        "X_treino_final.shape"
      ]
    },
    {
      "cell_type": "code",
      "execution_count": 118,
      "metadata": {
        "id": "C9Yihpb3_B84"
      },
      "outputs": [],
      "source": [
        "# Define o encoder dos dados de saída\n",
        "dsa_le_v3 = LabelEncoder()"
      ]
    },
    {
      "cell_type": "code",
      "execution_count": 119,
      "metadata": {
        "id": "K_JvTAMg_B84"
      },
      "outputs": [],
      "source": [
        "# Aplica o codificador (fit_transform somente nos dados de treino)\n",
        "y_treino_le = dsa_le_v3.fit_transform(Y_treino)\n",
        "y_valid_le = dsa_le_v3.transform(Y_valid)\n",
        "y_teste_le = dsa_le_v3.transform(dados_dsa_teste['sentimento'])"
      ]
    },
    {
      "cell_type": "code",
      "execution_count": 120,
      "metadata": {
        "id": "pvNi0II8_B84"
      },
      "outputs": [],
      "source": [
        "# Converte a variável de saída em categórica\n",
        "y_treino_encoded = to_categorical(y_treino_le)\n",
        "y_valid_encoded = to_categorical(y_valid_le)\n",
        "y_teste_encoded = to_categorical(y_teste_le)"
      ]
    },
    {
      "cell_type": "code",
      "execution_count": 121,
      "metadata": {
        "id": "Qz5KV0j-_B85"
      },
      "outputs": [],
      "source": [
        "# Tamanho do batch\n",
        "BATCH_SIZE = 16"
      ]
    },
    {
      "cell_type": "code",
      "execution_count": 122,
      "metadata": {
        "id": "Xt1iHzYq_B85"
      },
      "outputs": [],
      "source": [
        "# Prepara o dataset no formato esperado pelo TensorFlow\n",
        "dataset_treino = (tf.data.Dataset\n",
        "    .from_tensor_slices((X_treino_final, y_treino_encoded))\n",
        "    .repeat()\n",
        "    .shuffle(2048)\n",
        "    .batch(BATCH_SIZE)\n",
        ")"
      ]
    },
    {
      "cell_type": "code",
      "execution_count": 123,
      "metadata": {
        "id": "RtGIHVsE_B85"
      },
      "outputs": [],
      "source": [
        "# Prepara o dataset no formato esperado pelo TensorFlow\n",
        "dataset_valid = (tf.data.Dataset\n",
        "    .from_tensor_slices((X_valid_final, y_valid_encoded))\n",
        "    .batch(BATCH_SIZE)\n",
        "    .cache()\n",
        ")"
      ]
    },
    {
      "cell_type": "code",
      "execution_count": 124,
      "metadata": {
        "id": "3MdiPXT8_B85"
      },
      "outputs": [],
      "source": [
        "# Prepara o dataset no formato esperado pelo TensorFlow\n",
        "dataset_teste = (\n",
        "    tf.data.Dataset\n",
        "    .from_tensor_slices((X_teste_final, y_teste_encoded))\n",
        "    .batch(BATCH_SIZE)\n",
        ")"
      ]
    },
    {
      "cell_type": "code",
      "execution_count": 125,
      "metadata": {
        "id": "-XPmVgxp_B85"
      },
      "outputs": [],
      "source": [
        "# Função para o ajuste fino e treino do modelo usando um transformador (como BERT)\n",
        "def dsa_cria_modelo(transformer, max_len = 512):\n",
        "\n",
        "    # Definindo a camada de entrada com tamanho máximo de sequência\n",
        "    input_word_ids = tf.keras.layers.Input(shape = (max_len,),\n",
        "                                           dtype = tf.int32,\n",
        "                                           name = \"input_word_ids\")\n",
        "\n",
        "    # Obtendo a saída da sequência do transformador\n",
        "    sequence_output = transformer(input_word_ids)[0]\n",
        "\n",
        "    # Selecionando o primeiro token de cada sequência (token CLS no BERT) para a classificação\n",
        "    cls_token = sequence_output[:, 0, :]\n",
        "\n",
        "    # Adicionando uma camada densa para a saída com ativação softmax para classificação\n",
        "    out = Dense(6, activation = 'softmax')(cls_token)\n",
        "\n",
        "    # Construindo o modelo Keras com as entradas e saídas definidas\n",
        "    modelo = tf.keras.Model(inputs = input_word_ids, outputs = out)\n",
        "\n",
        "    # Compilando o modelo com otimizador Adam, perda de entropia cruzada categórica e métricas de avaliação\n",
        "    modelo.compile(tf.keras.optimizers.legacy.Adam(learning_rate = 1e-5),\n",
        "                   loss = 'categorical_crossentropy',\n",
        "                   metrics = ['accuracy', Precision(), Recall(), AUC()])\n",
        "\n",
        "    # Retorna o modelo compilado\n",
        "    return modelo"
      ]
    },
    {
      "cell_type": "markdown",
      "metadata": {
        "id": "jHKjc2P1_B85"
      },
      "source": [
        "> Carregando o Modelo Pré-Treinado:"
      ]
    },
    {
      "cell_type": "markdown",
      "source": [
        "https://huggingface.co/distilbert-base-multilingual-cased"
      ],
      "metadata": {
        "id": "jb3vgkeTep5r"
      }
    },
    {
      "cell_type": "code",
      "execution_count": 126,
      "metadata": {
        "colab": {
          "base_uri": "https://localhost:8080/",
          "height": 158,
          "referenced_widgets": [
            "d460839b2157470cb18c3481b33dbbb5",
            "58338dc4162a44ceb1ecc15734f43673",
            "0301f668d60a4f67a63de208c333f1ab",
            "6595ac4a33df4946aeaeac128e9bacf4",
            "7c00f909a1194d46a4e8b6eccfaf6db6",
            "934c12669f524d1ba61004769d39b88f",
            "83899f32f05c4e17bdf9bc015ce80608",
            "6fd9eee0d9f94feabc8301bbd849b2c2",
            "3ea4453717a34878bd2dea21fdb38a07",
            "aaca1d67f6264615adcc78b7982c57e5",
            "3cfa04a5cf4a4ff491d4194f169b6af5"
          ]
        },
        "id": "4xmhiHJ3_B85",
        "outputId": "115abd0d-ed4b-4948-9b79-ba73347fc694"
      },
      "outputs": [
        {
          "output_type": "display_data",
          "data": {
            "text/plain": [
              "model.safetensors:   0%|          | 0.00/542M [00:00<?, ?B/s]"
            ],
            "application/vnd.jupyter.widget-view+json": {
              "version_major": 2,
              "version_minor": 0,
              "model_id": "d460839b2157470cb18c3481b33dbbb5"
            }
          },
          "metadata": {}
        },
        {
          "output_type": "stream",
          "name": "stderr",
          "text": [
            "Some weights of the PyTorch model were not used when initializing the TF 2.0 model TFDistilBertModel: ['vocab_transform.bias', 'vocab_projector.bias', 'vocab_layer_norm.bias', 'vocab_transform.weight', 'vocab_layer_norm.weight']\n",
            "- This IS expected if you are initializing TFDistilBertModel from a PyTorch model trained on another task or with another architecture (e.g. initializing a TFBertForSequenceClassification model from a BertForPreTraining model).\n",
            "- This IS NOT expected if you are initializing TFDistilBertModel from a PyTorch model that you expect to be exactly identical (e.g. initializing a TFBertForSequenceClassification model from a BertForSequenceClassification model).\n",
            "All the weights of TFDistilBertModel were initialized from the PyTorch model.\n",
            "If your task is similar to the task the model of the checkpoint was trained on, you can already use TFDistilBertModel for predictions without further training.\n"
          ]
        }
      ],
      "source": [
        "# Cria uma instância do modelo DistilBERT multilíngue, pré-treinado, adequado para uso com TensorFlow\n",
        "transformer_layer = (transformers.TFDistilBertModel.from_pretrained('distilbert-base-multilingual-cased'))"
      ]
    },
    {
      "cell_type": "markdown",
      "metadata": {
        "id": "AfNWz9xI_B86"
      },
      "source": [
        "**TFDistilBertModel**: É uma classe dentro da biblioteca transformers. Ela representa o modelo DistilBERT adaptado para TensorFlow. O DistilBERT é uma versão simplificada do BERT que oferece um bom balanço entre desempenho e eficiência. Ele foi treinado para destilar o conhecimento do BERT mantendo a maior parte de sua eficácia, mas com uma arquitetura mais leve e mais rápida para treinamento e inferência.\n",
        "\n",
        "**from_pretrained**: Este é um método da classe TFDistilBertModel que permite carregar um modelo pré-treinado. Utilizar um modelo pré-treinado permite aproveitar um modelo que já foi treinado em um grande conjunto de dados e aprendeu um bom entendimento da linguagem. Isso é especialmente útil para tarefas de PLN, onde treinar um modelo do zero requer grandes quantidades de dados e poder computacional.\n",
        "\n",
        "**'distilbert-base-multilingual-cased'**: Este é o identificador do modelo pré-treinado específico que está sendo carregado. Neste caso, é o distilbert-base-multilingual-cased, que é uma versão do DistilBERT que suporta múltiplos idiomas (multilingual) e distingue entre letras maiúsculas e minúsculas (cased). Este modelo foi treinado com textos em vários idiomas, tornando-o útil para aplicações que precisam entender e processar texto em múltiplas línguas."
      ]
    },
    {
      "cell_type": "code",
      "execution_count": 127,
      "metadata": {
        "id": "IWYmfHO2_B86"
      },
      "outputs": [],
      "source": [
        "# Cria o modelo com as camadas do transformador pré-treinado e nossas camadas customizadas para o ajuste fino\n",
        "modelo_dsa_v3 = dsa_cria_modelo(transformer_layer, max_len = max_length)"
      ]
    },
    {
      "cell_type": "code",
      "execution_count": 128,
      "metadata": {
        "colab": {
          "base_uri": "https://localhost:8080/"
        },
        "id": "JgJ2iNaS_B86",
        "outputId": "6de25b07-036e-4fa4-f9f8-96114f8461f0"
      },
      "outputs": [
        {
          "output_type": "stream",
          "name": "stdout",
          "text": [
            "Model: \"model\"\n",
            "_________________________________________________________________\n",
            " Layer (type)                Output Shape              Param #   \n",
            "=================================================================\n",
            " input_word_ids (InputLayer  [(None, 100)]             0         \n",
            " )                                                               \n",
            "                                                                 \n",
            " tf_distil_bert_model (TFDi  TFBaseModelOutput(last_   134734080 \n",
            " stilBertModel)              hidden_state=(None, 100             \n",
            "                             , 768),                             \n",
            "                              hidden_states=None, at             \n",
            "                             tentions=None)                      \n",
            "                                                                 \n",
            " tf.__operators__.getitem (  (None, 768)               0         \n",
            " SlicingOpLambda)                                                \n",
            "                                                                 \n",
            " dense_7 (Dense)             (None, 6)                 4614      \n",
            "                                                                 \n",
            "=================================================================\n",
            "Total params: 134738694 (513.99 MB)\n",
            "Trainable params: 134738694 (513.99 MB)\n",
            "Non-trainable params: 0 (0.00 Byte)\n",
            "_________________________________________________________________\n"
          ]
        }
      ],
      "source": [
        "# Resumo do modelo\n",
        "modelo_dsa_v3.summary()"
      ]
    },
    {
      "cell_type": "code",
      "execution_count": 129,
      "metadata": {
        "id": "Jow5L-RQ_B86"
      },
      "outputs": [],
      "source": [
        "# Definindo as primeiras três camadas do modelo como não treináveis\n",
        "modelo_dsa_v3.layers[0].trainable = False\n",
        "modelo_dsa_v3.layers[1].trainable = False\n",
        "modelo_dsa_v3.layers[2].trainable = False"
      ]
    },
    {
      "cell_type": "markdown",
      "metadata": {
        "id": "4GNSlgl7_B86"
      },
      "source": [
        "Estes índices acima acessam especificamente a primeira, segunda e terceira camadas do modelo, respectivamente. Em Python, a indexação começa em 0, portanto, layers[0] é a primeira camada, layers[1] é a segunda e assim por diante.\n",
        "\n",
        "**trainable = False**: Esta instrução define a propriedade trainable da camada especificada para False. Quando uma camada é definida como não treinável, isso significa que seus pesos não serão atualizados durante o treinamento do modelo. Em outras palavras, o estado dessa camada permanecerá o mesmo, independente do processo de aprendizado que o resto do modelo está passando.\n",
        "\n",
        "Queremos treinar somente a parte final do modelo. Isso é o ajuste fino de modelos pré-treinados."
      ]
    },
    {
      "cell_type": "code",
      "execution_count": 130,
      "metadata": {
        "colab": {
          "base_uri": "https://localhost:8080/"
        },
        "id": "n-qNZdvp_B86",
        "outputId": "f37eb443-f81e-45cf-a4a3-5a8247b68500"
      },
      "outputs": [
        {
          "output_type": "stream",
          "name": "stdout",
          "text": [
            "Model: \"model\"\n",
            "_________________________________________________________________\n",
            " Layer (type)                Output Shape              Param #   \n",
            "=================================================================\n",
            " input_word_ids (InputLayer  [(None, 100)]             0         \n",
            " )                                                               \n",
            "                                                                 \n",
            " tf_distil_bert_model (TFDi  TFBaseModelOutput(last_   134734080 \n",
            " stilBertModel)              hidden_state=(None, 100             \n",
            "                             , 768),                             \n",
            "                              hidden_states=None, at             \n",
            "                             tentions=None)                      \n",
            "                                                                 \n",
            " tf.__operators__.getitem (  (None, 768)               0         \n",
            " SlicingOpLambda)                                                \n",
            "                                                                 \n",
            " dense_7 (Dense)             (None, 6)                 4614      \n",
            "                                                                 \n",
            "=================================================================\n",
            "Total params: 134738694 (513.99 MB)\n",
            "Trainable params: 4614 (18.02 KB)\n",
            "Non-trainable params: 134734080 (513.97 MB)\n",
            "_________________________________________________________________\n"
          ]
        }
      ],
      "source": [
        "# Resumo\n",
        "modelo_dsa_v3.summary()"
      ]
    },
    {
      "cell_type": "code",
      "execution_count": 131,
      "metadata": {
        "id": "UAtPTHoz_B86"
      },
      "outputs": [],
      "source": [
        "# Hiperparâmetros\n",
        "n_steps = X_treino_final.shape[0] // BATCH_SIZE\n",
        "num_epochs = 3"
      ]
    },
    {
      "cell_type": "markdown",
      "metadata": {
        "id": "lwQKcK7W_B86"
      },
      "source": [
        "> Treinamento do Modelo."
      ]
    },
    {
      "cell_type": "code",
      "execution_count": 132,
      "metadata": {
        "colab": {
          "base_uri": "https://localhost:8080/"
        },
        "id": "e8ZqAHgj_B87",
        "outputId": "1907a205-1452-4a33-9eca-f93e14d0a196"
      },
      "outputs": [
        {
          "output_type": "stream",
          "name": "stdout",
          "text": [
            "Epoch 1/3\n",
            "800/800 [==============================] - 189s 224ms/step - loss: 1.1988 - accuracy: 0.5339 - precision_2: 0.7802 - recall_2: 0.3245 - auc_2: 0.8489 - val_loss: 0.5345 - val_accuracy: 0.8125 - val_precision_2: 0.8371 - val_recall_2: 0.7900 - val_auc_2: 0.9713\n",
            "Epoch 2/3\n",
            "800/800 [==============================] - 179s 223ms/step - loss: 0.3768 - accuracy: 0.8677 - precision_2: 0.8919 - recall_2: 0.8445 - auc_2: 0.9843 - val_loss: 0.2989 - val_accuracy: 0.8825 - val_precision_2: 0.8977 - val_recall_2: 0.8725 - val_auc_2: 0.9888\n",
            "Epoch 3/3\n",
            "800/800 [==============================] - 187s 234ms/step - loss: 0.2413 - accuracy: 0.9081 - precision_2: 0.9196 - recall_2: 0.8967 - auc_2: 0.9929 - val_loss: 0.2893 - val_accuracy: 0.8913 - val_precision_2: 0.9038 - val_recall_2: 0.8838 - val_auc_2: 0.9904\n",
            "CPU times: user 6min 42s, sys: 15.3 s, total: 6min 58s\n",
            "Wall time: 9min 14s\n"
          ]
        }
      ],
      "source": [
        "%%time\n",
        "history = modelo_dsa_v3.fit(dataset_treino,\n",
        "                            steps_per_epoch = n_steps,\n",
        "                            validation_data = dataset_valid,\n",
        "                            epochs = num_epochs)"
      ]
    },
    {
      "cell_type": "code",
      "execution_count": 133,
      "metadata": {
        "colab": {
          "base_uri": "https://localhost:8080/",
          "height": 430
        },
        "id": "1Mc2vFw4_B87",
        "outputId": "dbc96656-c0f7-4dea-862e-49c8f023f2d5"
      },
      "outputs": [
        {
          "output_type": "display_data",
          "data": {
            "text/plain": [
              "<Figure size 640x480 with 1 Axes>"
            ],
            "image/png": "[encoded data removed]"
          },
          "metadata": {}
        }
      ],
      "source": [
        "# Curvas de aprendizado\n",
        "loss, val_loss = history.history['loss'], history.history['val_loss']\n",
        "plt.plot(loss, label = 'Erro em Treino')\n",
        "plt.plot(val_loss, label = 'Erro em Validação')\n",
        "plt.legend()\n",
        "plt.show()"
      ]
    },
    {
      "cell_type": "code",
      "execution_count": 134,
      "metadata": {
        "colab": {
          "base_uri": "https://localhost:8080/"
        },
        "id": "pQg_EGH0_B87",
        "outputId": "645a8b7a-119d-4950-af77-1059a5220386"
      },
      "outputs": [
        {
          "output_type": "stream",
          "name": "stdout",
          "text": [
            "63/63 [==============================] - 8s 109ms/step\n"
          ]
        }
      ],
      "source": [
        "# Previsões\n",
        "previsoes = modelo_dsa_v3.predict(X_teste_final)"
      ]
    },
    {
      "cell_type": "code",
      "execution_count": 135,
      "metadata": {
        "id": "esb_InV__B87"
      },
      "outputs": [],
      "source": [
        "# Labels\n",
        "labels_previstos = previsoes.argmax(axis = 1)"
      ]
    },
    {
      "cell_type": "code",
      "execution_count": 136,
      "metadata": {
        "colab": {
          "base_uri": "https://localhost:8080/"
        },
        "id": "hegE4Iix_B87",
        "outputId": "76948d80-cca0-4062-a29c-22a9ca3c80c1"
      },
      "outputs": [
        {
          "output_type": "stream",
          "name": "stdout",
          "text": [
            "              precision    recall  f1-score   support\n",
            "\n",
            "           0       0.85      0.93      0.89       275\n",
            "           1       0.83      0.92      0.88       224\n",
            "           2       0.95      0.88      0.92       695\n",
            "           3       0.74      0.81      0.77       159\n",
            "           4       0.94      0.92      0.93       581\n",
            "           5       0.79      0.70      0.74        66\n",
            "\n",
            "    accuracy                           0.89      2000\n",
            "   macro avg       0.85      0.86      0.85      2000\n",
            "weighted avg       0.90      0.89      0.89      2000\n",
            "\n"
          ]
        }
      ],
      "source": [
        "print(classification_report(y_teste_le, labels_previstos))"
      ]
    },
    {
      "cell_type": "code",
      "execution_count": 137,
      "metadata": {
        "colab": {
          "base_uri": "https://localhost:8080/"
        },
        "id": "JKE_yR2o_B87",
        "outputId": "b0e91e6c-e154-4489-8230-f48c775eb050"
      },
      "outputs": [
        {
          "output_type": "stream",
          "name": "stdout",
          "text": [
            "[[256   8   5   0   6   0]\n",
            " [  8 207   0   1   7   1]\n",
            " [ 12   5 615  41  12  10]\n",
            " [  5   0  15 128  10   1]\n",
            " [ 21  11  13   3 533   0]\n",
            " [  0  18   0   0   2  46]]\n"
          ]
        }
      ],
      "source": [
        "print(confusion_matrix(y_teste_le, labels_previstos))"
      ]
    },
    {
      "cell_type": "code",
      "execution_count": 138,
      "metadata": {
        "colab": {
          "base_uri": "https://localhost:8080/"
        },
        "id": "b6YGnMZr_B87",
        "outputId": "2ed541da-c1d7-4620-9cf5-e8541d55bfa2"
      },
      "outputs": [
        {
          "output_type": "stream",
          "name": "stdout",
          "text": [
            "0.8925\n"
          ]
        }
      ],
      "source": [
        "print(accuracy_score(y_teste_le, labels_previstos))"
      ]
    },
    {
      "cell_type": "code",
      "execution_count": 139,
      "metadata": {
        "id": "yGkLuWHe_B88"
      },
      "outputs": [],
      "source": [
        "# Salva o modelo no formato do TensorFlow\n",
        "modelo_dsa_v3.save(\"modelo_dsa_v3.keras\", save_format = 'tf')"
      ]
    },
    {
      "cell_type": "markdown",
      "metadata": {
        "id": "8Ho9mmiv_B88"
      },
      "source": [
        "> Deploy do Modelo."
      ]
    },
    {
      "cell_type": "markdown",
      "metadata": {
        "id": "X8Taem_4_B88"
      },
      "source": [
        "Nota: O TensorFlow não reconhece automaticamente camadas personalizadas ou objetos que não fazem parte do núcleo do Keras/TensorFlow, como é o caso do TFDistilBertModel do pacote transformers.\n",
        "\n",
        "Para resolver isso, você precisa registrar a camada personalizada (neste caso, TFDistilBertModel) antes de carregar o modelo, conforme abaixo:"
      ]
    },
    {
      "cell_type": "code",
      "execution_count": 140,
      "metadata": {
        "id": "4pebICRJ_B88"
      },
      "outputs": [],
      "source": [
        "# Carregando o modelo\n",
        "\n",
        "# Imports\n",
        "from transformers import TFDistilBertModel\n",
        "from tensorflow.keras.utils import custom_object_scope\n",
        "\n",
        "# Registra camada personalizada e carrega o modelo\n",
        "with custom_object_scope({'TFDistilBertModel': TFDistilBertModel}):\n",
        "    modelo_recarregado = tf.keras.models.load_model(\"modelo_dsa_v3.keras\")"
      ]
    },
    {
      "cell_type": "code",
      "execution_count": 141,
      "metadata": {
        "id": "CHoyEN7G_B88"
      },
      "outputs": [],
      "source": [
        "# Nova frase (sentimento = medo (fear))\n",
        "frase = \"i even feel a little shaky\""
      ]
    },
    {
      "cell_type": "code",
      "execution_count": 142,
      "metadata": {
        "id": "DUwK7Vuu_B88"
      },
      "outputs": [],
      "source": [
        "# Cria um dataframe com a frase\n",
        "df_novo = pd.DataFrame({'Frase': [frase]})"
      ]
    },
    {
      "cell_type": "code",
      "execution_count": 143,
      "metadata": {
        "id": "YcSYK5dG_B88"
      },
      "outputs": [],
      "source": [
        "# Aplica a função de processamento\n",
        "df_novo['Frase_Processada'] = df_novo['Frase'].apply(dsa_preprocessa_texto)"
      ]
    },
    {
      "cell_type": "code",
      "execution_count": 144,
      "metadata": {
        "colab": {
          "base_uri": "https://localhost:8080/"
        },
        "id": "f1EunuXc_B89",
        "outputId": "128e26bc-9b53-4cee-e238-045fae0891c6"
      },
      "outputs": [
        {
          "output_type": "stream",
          "name": "stderr",
          "text": [
            "100%|██████████| 1/1 [00:00<00:00, 963.32it/s]\n"
          ]
        }
      ],
      "source": [
        "novos_dados = dsa_encode(df_novo['Frase_Processada'], fast_tokenizer, maxlen = max_length)"
      ]
    },
    {
      "cell_type": "code",
      "execution_count": 145,
      "metadata": {
        "colab": {
          "base_uri": "https://localhost:8080/"
        },
        "id": "zohdc9B5_B89",
        "outputId": "54c1a3d2-e0fa-465b-eb08-25daf07f8fef"
      },
      "outputs": [
        {
          "output_type": "stream",
          "name": "stdout",
          "text": [
            "1/1 [==============================] - 1s 1s/step\n"
          ]
        }
      ],
      "source": [
        "# Fazer previsões com o modelo carregado\n",
        "previsoes = modelo_recarregado.predict(novos_dados)"
      ]
    },
    {
      "cell_type": "code",
      "execution_count": 146,
      "metadata": {
        "id": "kSh0B2lP_B89"
      },
      "outputs": [],
      "source": [
        "# Seleciona a classe com maior probabilidade\n",
        "classe_maior_prob = np.argmax(previsoes, axis = 1)"
      ]
    },
    {
      "cell_type": "code",
      "execution_count": 147,
      "metadata": {
        "colab": {
          "base_uri": "https://localhost:8080/"
        },
        "id": "WmFJeEo1_B89",
        "outputId": "0bdf1dcd-5fdc-4338-c50d-73d416703396"
      },
      "outputs": [
        {
          "output_type": "execute_result",
          "data": {
            "text/plain": [
              "array([1])"
            ]
          },
          "metadata": {},
          "execution_count": 147
        }
      ],
      "source": [
        "classe_maior_prob"
      ]
    },
    {
      "cell_type": "code",
      "execution_count": 148,
      "metadata": {
        "id": "lWS_Hd7q_B89"
      },
      "outputs": [],
      "source": [
        "# Obtém o nome da classe\n",
        "nome_classe = dsa_le_v3.inverse_transform(classe_maior_prob)"
      ]
    },
    {
      "cell_type": "code",
      "execution_count": 149,
      "metadata": {
        "colab": {
          "base_uri": "https://localhost:8080/"
        },
        "id": "MCQWwi-q_B89",
        "outputId": "2e1ec418-fa1d-4e40-9207-d0232ad826c1"
      },
      "outputs": [
        {
          "output_type": "execute_result",
          "data": {
            "text/plain": [
              "array(['fear'], dtype=object)"
            ]
          },
          "metadata": {},
          "execution_count": 149
        }
      ],
      "source": [
        "# Classe prevista\n",
        "nome_classe"
      ]
    },
    {
      "cell_type": "markdown",
      "metadata": {
        "id": "PksCv5If_B89"
      },
      "source": [
        "Foram 3 modelos treinados, 3 modelos avaliados, 3 modelos implementados (deploy). Todo o processo mostrado passo a passo, 3 vezes, com 3 arquiteturas de Deep Learning diferentes e 3 diferentes estratégias de processamento dos dados.\n",
        "\n",
        "E este foi apenas o Projeto 2 do curso. ;-)"
      ]
    },
    {
      "cell_type": "code",
      "execution_count": 150,
      "metadata": {
        "colab": {
          "base_uri": "https://localhost:8080/"
        },
        "id": "A0zpY690_B8-",
        "outputId": "9fe7b7bb-4d1d-4bc8-a53d-5c3ce16460b8"
      },
      "outputs": [
        {
          "output_type": "stream",
          "name": "stdout",
          "text": [
            "env: TOKENIZERS_PARALLELISM=false\n"
          ]
        }
      ],
      "source": [
        "# Desliga o paralelismo do pacote Transformer\n",
        "%env TOKENIZERS_PARALLELISM=false"
      ]
    },
    {
      "cell_type": "code",
      "execution_count": 151,
      "metadata": {
        "colab": {
          "base_uri": "https://localhost:8080/"
        },
        "id": "SRKoLqcm_B8-",
        "outputId": "a3bdabe2-c443-456e-e69d-e18ad616dbfc"
      },
      "outputs": [
        {
          "output_type": "stream",
          "name": "stdout",
          "text": [
            "Author: Data Science Academy\n",
            "\n"
          ]
        }
      ],
      "source": [
        "%watermark -a \"Data Science Academy\""
      ]
    },
    {
      "cell_type": "code",
      "execution_count": 152,
      "metadata": {
        "id": "5l1_O_vI_B8-"
      },
      "outputs": [],
      "source": [
        "#%watermark -v -m"
      ]
    },
    {
      "cell_type": "code",
      "execution_count": 153,
      "metadata": {
        "id": "2BzOfS6r_B8-"
      },
      "outputs": [],
      "source": [
        "#%watermark --iversions"
      ]
    },
    {
      "cell_type": "markdown",
      "metadata": {
        "id": "jr83rcgFfUXc"
      },
      "source": [
        "# Fim"
      ]
    }
  ],
  "metadata": {
    "accelerator": "GPU",
    "colab": {
      "provenance": [],
      "gpuType": "T4"
    },
    "kernelspec": {
      "display_name": "Python 3",
      "name": "python3"
    },
    "language_info": {
      "codemirror_mode": {
        "name": "ipython",
        "version": 3
      },
      "file_extension": ".py",
      "mimetype": "text/x-python",
      "name": "python",
      "nbconvert_exporter": "python",
      "pygments_lexer": "ipython3",
      "version": "3.11.5"
    },
    "widgets": {
      "application/vnd.jupyter.widget-state+json": {
        "3515f3f88d2547769fb1558fcb4a6ef0": {
          "model_module": "@jupyter-widgets/controls",
          "model_name": "HBoxModel",
          "model_module_version": "1.5.0",
          "state": {
            "_dom_classes": [],
            "_model_module": "@jupyter-widgets/controls",
            "_model_module_version": "1.5.0",
            "_model_name": "HBoxModel",
            "_view_count": null,
            "_view_module": "@jupyter-widgets/controls",
            "_view_module_version": "1.5.0",
            "_view_name": "HBoxView",
            "box_style": "",
            "children": [
              "IPY_MODEL_f4efad2b980340089140e983ae0314a6",
              "IPY_MODEL_df971d7b13c24e2ea541ba6c768e8183",
              "IPY_MODEL_4f420db673ad4e8abdedbb67f996083c"
            ],
            "layout": "IPY_MODEL_52bb392ae5ca42fc9b72d4334725c2ac"
          }
        },
        "f4efad2b980340089140e983ae0314a6": {
          "model_module": "@jupyter-widgets/controls",
          "model_name": "HTMLModel",
          "model_module_version": "1.5.0",
          "state": {
            "_dom_classes": [],
            "_model_module": "@jupyter-widgets/controls",
            "_model_module_version": "1.5.0",
            "_model_name": "HTMLModel",
            "_view_count": null,
            "_view_module": "@jupyter-widgets/controls",
            "_view_module_version": "1.5.0",
            "_view_name": "HTMLView",
            "description": "",
            "description_tooltip": null,
            "layout": "IPY_MODEL_c6a809b750504db393f3c1c4b20c4cfc",
            "placeholder": "​",
            "style": "IPY_MODEL_41b079883a014d0d963d3efc287e681d",
            "value": "tokenizer_config.json: 100%"
          }
        },
        "df971d7b13c24e2ea541ba6c768e8183": {
          "model_module": "@jupyter-widgets/controls",
          "model_name": "FloatProgressModel",
          "model_module_version": "1.5.0",
          "state": {
            "_dom_classes": [],
            "_model_module": "@jupyter-widgets/controls",
            "_model_module_version": "1.5.0",
            "_model_name": "FloatProgressModel",
            "_view_count": null,
            "_view_module": "@jupyter-widgets/controls",
            "_view_module_version": "1.5.0",
            "_view_name": "ProgressView",
            "bar_style": "success",
            "description": "",
            "description_tooltip": null,
            "layout": "IPY_MODEL_8df825904dd54983bf499778fbd33b95",
            "max": 29,
            "min": 0,
            "orientation": "horizontal",
            "style": "IPY_MODEL_8ba16682104840eb86f21b5ce9455962",
            "value": 29
          }
        },
        "4f420db673ad4e8abdedbb67f996083c": {
          "model_module": "@jupyter-widgets/controls",
          "model_name": "HTMLModel",
          "model_module_version": "1.5.0",
          "state": {
            "_dom_classes": [],
            "_model_module": "@jupyter-widgets/controls",
            "_model_module_version": "1.5.0",
            "_model_name": "HTMLModel",
            "_view_count": null,
            "_view_module": "@jupyter-widgets/controls",
            "_view_module_version": "1.5.0",
            "_view_name": "HTMLView",
            "description": "",
            "description_tooltip": null,
            "layout": "IPY_MODEL_388e9514fd354b72a3b1ad00c0690503",
            "placeholder": "​",
            "style": "IPY_MODEL_7fe41f8dfff7459bbd78b5e8cbcd9f83",
            "value": " 29.0/29.0 [00:00&lt;00:00, 1.97kB/s]"
          }
        },
        "52bb392ae5ca42fc9b72d4334725c2ac": {
          "model_module": "@jupyter-widgets/base",
          "model_name": "LayoutModel",
          "model_module_version": "1.2.0",
          "state": {
            "_model_module": "@jupyter-widgets/base",
            "_model_module_version": "1.2.0",
            "_model_name": "LayoutModel",
            "_view_count": null,
            "_view_module": "@jupyter-widgets/base",
            "_view_module_version": "1.2.0",
            "_view_name": "LayoutView",
            "align_content": null,
            "align_items": null,
            "align_self": null,
            "border": null,
            "bottom": null,
            "display": null,
            "flex": null,
            "flex_flow": null,
            "grid_area": null,
            "grid_auto_columns": null,
            "grid_auto_flow": null,
            "grid_auto_rows": null,
            "grid_column": null,
            "grid_gap": null,
            "grid_row": null,
            "grid_template_areas": null,
            "grid_template_columns": null,
            "grid_template_rows": null,
            "height": null,
            "justify_content": null,
            "justify_items": null,
            "left": null,
            "margin": null,
            "max_height": null,
            "max_width": null,
            "min_height": null,
            "min_width": null,
            "object_fit": null,
            "object_position": null,
            "order": null,
            "overflow": null,
            "overflow_x": null,
            "overflow_y": null,
            "padding": null,
            "right": null,
            "top": null,
            "visibility": null,
            "width": null
          }
        },
        "c6a809b750504db393f3c1c4b20c4cfc": {
          "model_module": "@jupyter-widgets/base",
          "model_name": "LayoutModel",
          "model_module_version": "1.2.0",
          "state": {
            "_model_module": "@jupyter-widgets/base",
            "_model_module_version": "1.2.0",
            "_model_name": "LayoutModel",
            "_view_count": null,
            "_view_module": "@jupyter-widgets/base",
            "_view_module_version": "1.2.0",
            "_view_name": "LayoutView",
            "align_content": null,
            "align_items": null,
            "align_self": null,
            "border": null,
            "bottom": null,
            "display": null,
            "flex": null,
            "flex_flow": null,
            "grid_area": null,
            "grid_auto_columns": null,
            "grid_auto_flow": null,
            "grid_auto_rows": null,
            "grid_column": null,
            "grid_gap": null,
            "grid_row": null,
            "grid_template_areas": null,
            "grid_template_columns": null,
            "grid_template_rows": null,
            "height": null,
            "justify_content": null,
            "justify_items": null,
            "left": null,
            "margin": null,
            "max_height": null,
            "max_width": null,
            "min_height": null,
            "min_width": null,
            "object_fit": null,
            "object_position": null,
            "order": null,
            "overflow": null,
            "overflow_x": null,
            "overflow_y": null,
            "padding": null,
            "right": null,
            "top": null,
            "visibility": null,
            "width": null
          }
        },
        "41b079883a014d0d963d3efc287e681d": {
          "model_module": "@jupyter-widgets/controls",
          "model_name": "DescriptionStyleModel",
          "model_module_version": "1.5.0",
          "state": {
            "_model_module": "@jupyter-widgets/controls",
            "_model_module_version": "1.5.0",
            "_model_name": "DescriptionStyleModel",
            "_view_count": null,
            "_view_module": "@jupyter-widgets/base",
            "_view_module_version": "1.2.0",
            "_view_name": "StyleView",
            "description_width": ""
          }
        },
        "8df825904dd54983bf499778fbd33b95": {
          "model_module": "@jupyter-widgets/base",
          "model_name": "LayoutModel",
          "model_module_version": "1.2.0",
          "state": {
            "_model_module": "@jupyter-widgets/base",
            "_model_module_version": "1.2.0",
            "_model_name": "LayoutModel",
            "_view_count": null,
            "_view_module": "@jupyter-widgets/base",
            "_view_module_version": "1.2.0",
            "_view_name": "LayoutView",
            "align_content": null,
            "align_items": null,
            "align_self": null,
            "border": null,
            "bottom": null,
            "display": null,
            "flex": null,
            "flex_flow": null,
            "grid_area": null,
            "grid_auto_columns": null,
            "grid_auto_flow": null,
            "grid_auto_rows": null,
            "grid_column": null,
            "grid_gap": null,
            "grid_row": null,
            "grid_template_areas": null,
            "grid_template_columns": null,
            "grid_template_rows": null,
            "height": null,
            "justify_content": null,
            "justify_items": null,
            "left": null,
            "margin": null,
            "max_height": null,
            "max_width": null,
            "min_height": null,
            "min_width": null,
            "object_fit": null,
            "object_position": null,
            "order": null,
            "overflow": null,
            "overflow_x": null,
            "overflow_y": null,
            "padding": null,
            "right": null,
            "top": null,
            "visibility": null,
            "width": null
          }
        },
        "8ba16682104840eb86f21b5ce9455962": {
          "model_module": "@jupyter-widgets/controls",
          "model_name": "ProgressStyleModel",
          "model_module_version": "1.5.0",
          "state": {
            "_model_module": "@jupyter-widgets/controls",
            "_model_module_version": "1.5.0",
            "_model_name": "ProgressStyleModel",
            "_view_count": null,
            "_view_module": "@jupyter-widgets/base",
            "_view_module_version": "1.2.0",
            "_view_name": "StyleView",
            "bar_color": null,
            "description_width": ""
          }
        },
        "388e9514fd354b72a3b1ad00c0690503": {
          "model_module": "@jupyter-widgets/base",
          "model_name": "LayoutModel",
          "model_module_version": "1.2.0",
          "state": {
            "_model_module": "@jupyter-widgets/base",
            "_model_module_version": "1.2.0",
            "_model_name": "LayoutModel",
            "_view_count": null,
            "_view_module": "@jupyter-widgets/base",
            "_view_module_version": "1.2.0",
            "_view_name": "LayoutView",
            "align_content": null,
            "align_items": null,
            "align_self": null,
            "border": null,
            "bottom": null,
            "display": null,
            "flex": null,
            "flex_flow": null,
            "grid_area": null,
            "grid_auto_columns": null,
            "grid_auto_flow": null,
            "grid_auto_rows": null,
            "grid_column": null,
            "grid_gap": null,
            "grid_row": null,
            "grid_template_areas": null,
            "grid_template_columns": null,
            "grid_template_rows": null,
            "height": null,
            "justify_content": null,
            "justify_items": null,
            "left": null,
            "margin": null,
            "max_height": null,
            "max_width": null,
            "min_height": null,
            "min_width": null,
            "object_fit": null,
            "object_position": null,
            "order": null,
            "overflow": null,
            "overflow_x": null,
            "overflow_y": null,
            "padding": null,
            "right": null,
            "top": null,
            "visibility": null,
            "width": null
          }
        },
        "7fe41f8dfff7459bbd78b5e8cbcd9f83": {
          "model_module": "@jupyter-widgets/controls",
          "model_name": "DescriptionStyleModel",
          "model_module_version": "1.5.0",
          "state": {
            "_model_module": "@jupyter-widgets/controls",
            "_model_module_version": "1.5.0",
            "_model_name": "DescriptionStyleModel",
            "_view_count": null,
            "_view_module": "@jupyter-widgets/base",
            "_view_module_version": "1.2.0",
            "_view_name": "StyleView",
            "description_width": ""
          }
        },
        "1dcb18cfd6684ff89c28c29a10546741": {
          "model_module": "@jupyter-widgets/controls",
          "model_name": "HBoxModel",
          "model_module_version": "1.5.0",
          "state": {
            "_dom_classes": [],
            "_model_module": "@jupyter-widgets/controls",
            "_model_module_version": "1.5.0",
            "_model_name": "HBoxModel",
            "_view_count": null,
            "_view_module": "@jupyter-widgets/controls",
            "_view_module_version": "1.5.0",
            "_view_name": "HBoxView",
            "box_style": "",
            "children": [
              "IPY_MODEL_808f8ada46a3432e8a684a244b215442",
              "IPY_MODEL_b88b280b70984401bb18ef839d0a2002",
              "IPY_MODEL_337e8d62b2d64f9ea94e37e59c3f5084"
            ],
            "layout": "IPY_MODEL_2664287be0444521a89c6bf37693ef33"
          }
        },
        "808f8ada46a3432e8a684a244b215442": {
          "model_module": "@jupyter-widgets/controls",
          "model_name": "HTMLModel",
          "model_module_version": "1.5.0",
          "state": {
            "_dom_classes": [],
            "_model_module": "@jupyter-widgets/controls",
            "_model_module_version": "1.5.0",
            "_model_name": "HTMLModel",
            "_view_count": null,
            "_view_module": "@jupyter-widgets/controls",
            "_view_module_version": "1.5.0",
            "_view_name": "HTMLView",
            "description": "",
            "description_tooltip": null,
            "layout": "IPY_MODEL_7ad6821db95543aa87154308639b9ab6",
            "placeholder": "​",
            "style": "IPY_MODEL_f3025ba4e8d5441da6143036467db49a",
            "value": "vocab.txt: 100%"
          }
        },
        "b88b280b70984401bb18ef839d0a2002": {
          "model_module": "@jupyter-widgets/controls",
          "model_name": "FloatProgressModel",
          "model_module_version": "1.5.0",
          "state": {
            "_dom_classes": [],
            "_model_module": "@jupyter-widgets/controls",
            "_model_module_version": "1.5.0",
            "_model_name": "FloatProgressModel",
            "_view_count": null,
            "_view_module": "@jupyter-widgets/controls",
            "_view_module_version": "1.5.0",
            "_view_name": "ProgressView",
            "bar_style": "success",
            "description": "",
            "description_tooltip": null,
            "layout": "IPY_MODEL_1639dc05e6b8427b85f24935819d3370",
            "max": 995526,
            "min": 0,
            "orientation": "horizontal",
            "style": "IPY_MODEL_983e026de5a344c1a0b7f68ba7cbc4ba",
            "value": 995526
          }
        },
        "337e8d62b2d64f9ea94e37e59c3f5084": {
          "model_module": "@jupyter-widgets/controls",
          "model_name": "HTMLModel",
          "model_module_version": "1.5.0",
          "state": {
            "_dom_classes": [],
            "_model_module": "@jupyter-widgets/controls",
            "_model_module_version": "1.5.0",
            "_model_name": "HTMLModel",
            "_view_count": null,
            "_view_module": "@jupyter-widgets/controls",
            "_view_module_version": "1.5.0",
            "_view_name": "HTMLView",
            "description": "",
            "description_tooltip": null,
            "layout": "IPY_MODEL_4b0e2ac8fd904348bf3751e48196e05f",
            "placeholder": "​",
            "style": "IPY_MODEL_33dee38dc3c440ffa6d1bfd57824973f",
            "value": " 996k/996k [00:00&lt;00:00, 13.2MB/s]"
          }
        },
        "2664287be0444521a89c6bf37693ef33": {
          "model_module": "@jupyter-widgets/base",
          "model_name": "LayoutModel",
          "model_module_version": "1.2.0",
          "state": {
            "_model_module": "@jupyter-widgets/base",
            "_model_module_version": "1.2.0",
            "_model_name": "LayoutModel",
            "_view_count": null,
            "_view_module": "@jupyter-widgets/base",
            "_view_module_version": "1.2.0",
            "_view_name": "LayoutView",
            "align_content": null,
            "align_items": null,
            "align_self": null,
            "border": null,
            "bottom": null,
            "display": null,
            "flex": null,
            "flex_flow": null,
            "grid_area": null,
            "grid_auto_columns": null,
            "grid_auto_flow": null,
            "grid_auto_rows": null,
            "grid_column": null,
            "grid_gap": null,
            "grid_row": null,
            "grid_template_areas": null,
            "grid_template_columns": null,
            "grid_template_rows": null,
            "height": null,
            "justify_content": null,
            "justify_items": null,
            "left": null,
            "margin": null,
            "max_height": null,
            "max_width": null,
            "min_height": null,
            "min_width": null,
            "object_fit": null,
            "object_position": null,
            "order": null,
            "overflow": null,
            "overflow_x": null,
            "overflow_y": null,
            "padding": null,
            "right": null,
            "top": null,
            "visibility": null,
            "width": null
          }
        },
        "7ad6821db95543aa87154308639b9ab6": {
          "model_module": "@jupyter-widgets/base",
          "model_name": "LayoutModel",
          "model_module_version": "1.2.0",
          "state": {
            "_model_module": "@jupyter-widgets/base",
            "_model_module_version": "1.2.0",
            "_model_name": "LayoutModel",
            "_view_count": null,
            "_view_module": "@jupyter-widgets/base",
            "_view_module_version": "1.2.0",
            "_view_name": "LayoutView",
            "align_content": null,
            "align_items": null,
            "align_self": null,
            "border": null,
            "bottom": null,
            "display": null,
            "flex": null,
            "flex_flow": null,
            "grid_area": null,
            "grid_auto_columns": null,
            "grid_auto_flow": null,
            "grid_auto_rows": null,
            "grid_column": null,
            "grid_gap": null,
            "grid_row": null,
            "grid_template_areas": null,
            "grid_template_columns": null,
            "grid_template_rows": null,
            "height": null,
            "justify_content": null,
            "justify_items": null,
            "left": null,
            "margin": null,
            "max_height": null,
            "max_width": null,
            "min_height": null,
            "min_width": null,
            "object_fit": null,
            "object_position": null,
            "order": null,
            "overflow": null,
            "overflow_x": null,
            "overflow_y": null,
            "padding": null,
            "right": null,
            "top": null,
            "visibility": null,
            "width": null
          }
        },
        "f3025ba4e8d5441da6143036467db49a": {
          "model_module": "@jupyter-widgets/controls",
          "model_name": "DescriptionStyleModel",
          "model_module_version": "1.5.0",
          "state": {
            "_model_module": "@jupyter-widgets/controls",
            "_model_module_version": "1.5.0",
            "_model_name": "DescriptionStyleModel",
            "_view_count": null,
            "_view_module": "@jupyter-widgets/base",
            "_view_module_version": "1.2.0",
            "_view_name": "StyleView",
            "description_width": ""
          }
        },
        "1639dc05e6b8427b85f24935819d3370": {
          "model_module": "@jupyter-widgets/base",
          "model_name": "LayoutModel",
          "model_module_version": "1.2.0",
          "state": {
            "_model_module": "@jupyter-widgets/base",
            "_model_module_version": "1.2.0",
            "_model_name": "LayoutModel",
            "_view_count": null,
            "_view_module": "@jupyter-widgets/base",
            "_view_module_version": "1.2.0",
            "_view_name": "LayoutView",
            "align_content": null,
            "align_items": null,
            "align_self": null,
            "border": null,
            "bottom": null,
            "display": null,
            "flex": null,
            "flex_flow": null,
            "grid_area": null,
            "grid_auto_columns": null,
            "grid_auto_flow": null,
            "grid_auto_rows": null,
            "grid_column": null,
            "grid_gap": null,
            "grid_row": null,
            "grid_template_areas": null,
            "grid_template_columns": null,
            "grid_template_rows": null,
            "height": null,
            "justify_content": null,
            "justify_items": null,
            "left": null,
            "margin": null,
            "max_height": null,
            "max_width": null,
            "min_height": null,
            "min_width": null,
            "object_fit": null,
            "object_position": null,
            "order": null,
            "overflow": null,
            "overflow_x": null,
            "overflow_y": null,
            "padding": null,
            "right": null,
            "top": null,
            "visibility": null,
            "width": null
          }
        },
        "983e026de5a344c1a0b7f68ba7cbc4ba": {
          "model_module": "@jupyter-widgets/controls",
          "model_name": "ProgressStyleModel",
          "model_module_version": "1.5.0",
          "state": {
            "_model_module": "@jupyter-widgets/controls",
            "_model_module_version": "1.5.0",
            "_model_name": "ProgressStyleModel",
            "_view_count": null,
            "_view_module": "@jupyter-widgets/base",
            "_view_module_version": "1.2.0",
            "_view_name": "StyleView",
            "bar_color": null,
            "description_width": ""
          }
        },
        "4b0e2ac8fd904348bf3751e48196e05f": {
          "model_module": "@jupyter-widgets/base",
          "model_name": "LayoutModel",
          "model_module_version": "1.2.0",
          "state": {
            "_model_module": "@jupyter-widgets/base",
            "_model_module_version": "1.2.0",
            "_model_name": "LayoutModel",
            "_view_count": null,
            "_view_module": "@jupyter-widgets/base",
            "_view_module_version": "1.2.0",
            "_view_name": "LayoutView",
            "align_content": null,
            "align_items": null,
            "align_self": null,
            "border": null,
            "bottom": null,
            "display": null,
            "flex": null,
            "flex_flow": null,
            "grid_area": null,
            "grid_auto_columns": null,
            "grid_auto_flow": null,
            "grid_auto_rows": null,
            "grid_column": null,
            "grid_gap": null,
            "grid_row": null,
            "grid_template_areas": null,
            "grid_template_columns": null,
            "grid_template_rows": null,
            "height": null,
            "justify_content": null,
            "justify_items": null,
            "left": null,
            "margin": null,
            "max_height": null,
            "max_width": null,
            "min_height": null,
            "min_width": null,
            "object_fit": null,
            "object_position": null,
            "order": null,
            "overflow": null,
            "overflow_x": null,
            "overflow_y": null,
            "padding": null,
            "right": null,
            "top": null,
            "visibility": null,
            "width": null
          }
        },
        "33dee38dc3c440ffa6d1bfd57824973f": {
          "model_module": "@jupyter-widgets/controls",
          "model_name": "DescriptionStyleModel",
          "model_module_version": "1.5.0",
          "state": {
            "_model_module": "@jupyter-widgets/controls",
            "_model_module_version": "1.5.0",
            "_model_name": "DescriptionStyleModel",
            "_view_count": null,
            "_view_module": "@jupyter-widgets/base",
            "_view_module_version": "1.2.0",
            "_view_name": "StyleView",
            "description_width": ""
          }
        },
        "40f7b8d3cd1c474f85507c66c80b152c": {
          "model_module": "@jupyter-widgets/controls",
          "model_name": "HBoxModel",
          "model_module_version": "1.5.0",
          "state": {
            "_dom_classes": [],
            "_model_module": "@jupyter-widgets/controls",
            "_model_module_version": "1.5.0",
            "_model_name": "HBoxModel",
            "_view_count": null,
            "_view_module": "@jupyter-widgets/controls",
            "_view_module_version": "1.5.0",
            "_view_name": "HBoxView",
            "box_style": "",
            "children": [
              "IPY_MODEL_f375ae3afb1044ea8310c2ff696f9986",
              "IPY_MODEL_69a5fc7613934a48b58cb70d35b6cd21",
              "IPY_MODEL_151a3069345f4e7d852933279c70fc34"
            ],
            "layout": "IPY_MODEL_162efcaada324c998c5dec9fc17d1c69"
          }
        },
        "f375ae3afb1044ea8310c2ff696f9986": {
          "model_module": "@jupyter-widgets/controls",
          "model_name": "HTMLModel",
          "model_module_version": "1.5.0",
          "state": {
            "_dom_classes": [],
            "_model_module": "@jupyter-widgets/controls",
            "_model_module_version": "1.5.0",
            "_model_name": "HTMLModel",
            "_view_count": null,
            "_view_module": "@jupyter-widgets/controls",
            "_view_module_version": "1.5.0",
            "_view_name": "HTMLView",
            "description": "",
            "description_tooltip": null,
            "layout": "IPY_MODEL_c9b14423281a413481cd0b9cbf641df9",
            "placeholder": "​",
            "style": "IPY_MODEL_9f19d8a3cb8d4ff087157ddb1666e6c0",
            "value": "tokenizer.json: 100%"
          }
        },
        "69a5fc7613934a48b58cb70d35b6cd21": {
          "model_module": "@jupyter-widgets/controls",
          "model_name": "FloatProgressModel",
          "model_module_version": "1.5.0",
          "state": {
            "_dom_classes": [],
            "_model_module": "@jupyter-widgets/controls",
            "_model_module_version": "1.5.0",
            "_model_name": "FloatProgressModel",
            "_view_count": null,
            "_view_module": "@jupyter-widgets/controls",
            "_view_module_version": "1.5.0",
            "_view_name": "ProgressView",
            "bar_style": "success",
            "description": "",
            "description_tooltip": null,
            "layout": "IPY_MODEL_7ae95d6177154c29a5387ee9fffb534d",
            "max": 1961828,
            "min": 0,
            "orientation": "horizontal",
            "style": "IPY_MODEL_8f9ddf684bc0471e870ff12b2816733f",
            "value": 1961828
          }
        },
        "151a3069345f4e7d852933279c70fc34": {
          "model_module": "@jupyter-widgets/controls",
          "model_name": "HTMLModel",
          "model_module_version": "1.5.0",
          "state": {
            "_dom_classes": [],
            "_model_module": "@jupyter-widgets/controls",
            "_model_module_version": "1.5.0",
            "_model_name": "HTMLModel",
            "_view_count": null,
            "_view_module": "@jupyter-widgets/controls",
            "_view_module_version": "1.5.0",
            "_view_name": "HTMLView",
            "description": "",
            "description_tooltip": null,
            "layout": "IPY_MODEL_3229e08aa9074db8b64593dcfa03592e",
            "placeholder": "​",
            "style": "IPY_MODEL_ed63adc77c5643b28d186e7ab875dad8",
            "value": " 1.96M/1.96M [00:00&lt;00:00, 60.2MB/s]"
          }
        },
        "162efcaada324c998c5dec9fc17d1c69": {
          "model_module": "@jupyter-widgets/base",
          "model_name": "LayoutModel",
          "model_module_version": "1.2.0",
          "state": {
            "_model_module": "@jupyter-widgets/base",
            "_model_module_version": "1.2.0",
            "_model_name": "LayoutModel",
            "_view_count": null,
            "_view_module": "@jupyter-widgets/base",
            "_view_module_version": "1.2.0",
            "_view_name": "LayoutView",
            "align_content": null,
            "align_items": null,
            "align_self": null,
            "border": null,
            "bottom": null,
            "display": null,
            "flex": null,
            "flex_flow": null,
            "grid_area": null,
            "grid_auto_columns": null,
            "grid_auto_flow": null,
            "grid_auto_rows": null,
            "grid_column": null,
            "grid_gap": null,
            "grid_row": null,
            "grid_template_areas": null,
            "grid_template_columns": null,
            "grid_template_rows": null,
            "height": null,
            "justify_content": null,
            "justify_items": null,
            "left": null,
            "margin": null,
            "max_height": null,
            "max_width": null,
            "min_height": null,
            "min_width": null,
            "object_fit": null,
            "object_position": null,
            "order": null,
            "overflow": null,
            "overflow_x": null,
            "overflow_y": null,
            "padding": null,
            "right": null,
            "top": null,
            "visibility": null,
            "width": null
          }
        },
        "c9b14423281a413481cd0b9cbf641df9": {
          "model_module": "@jupyter-widgets/base",
          "model_name": "LayoutModel",
          "model_module_version": "1.2.0",
          "state": {
            "_model_module": "@jupyter-widgets/base",
            "_model_module_version": "1.2.0",
            "_model_name": "LayoutModel",
            "_view_count": null,
            "_view_module": "@jupyter-widgets/base",
            "_view_module_version": "1.2.0",
            "_view_name": "LayoutView",
            "align_content": null,
            "align_items": null,
            "align_self": null,
            "border": null,
            "bottom": null,
            "display": null,
            "flex": null,
            "flex_flow": null,
            "grid_area": null,
            "grid_auto_columns": null,
            "grid_auto_flow": null,
            "grid_auto_rows": null,
            "grid_column": null,
            "grid_gap": null,
            "grid_row": null,
            "grid_template_areas": null,
            "grid_template_columns": null,
            "grid_template_rows": null,
            "height": null,
            "justify_content": null,
            "justify_items": null,
            "left": null,
            "margin": null,
            "max_height": null,
            "max_width": null,
            "min_height": null,
            "min_width": null,
            "object_fit": null,
            "object_position": null,
            "order": null,
            "overflow": null,
            "overflow_x": null,
            "overflow_y": null,
            "padding": null,
            "right": null,
            "top": null,
            "visibility": null,
            "width": null
          }
        },
        "9f19d8a3cb8d4ff087157ddb1666e6c0": {
          "model_module": "@jupyter-widgets/controls",
          "model_name": "DescriptionStyleModel",
          "model_module_version": "1.5.0",
          "state": {
            "_model_module": "@jupyter-widgets/controls",
            "_model_module_version": "1.5.0",
            "_model_name": "DescriptionStyleModel",
            "_view_count": null,
            "_view_module": "@jupyter-widgets/base",
            "_view_module_version": "1.2.0",
            "_view_name": "StyleView",
            "description_width": ""
          }
        },
        "7ae95d6177154c29a5387ee9fffb534d": {
          "model_module": "@jupyter-widgets/base",
          "model_name": "LayoutModel",
          "model_module_version": "1.2.0",
          "state": {
            "_model_module": "@jupyter-widgets/base",
            "_model_module_version": "1.2.0",
            "_model_name": "LayoutModel",
            "_view_count": null,
            "_view_module": "@jupyter-widgets/base",
            "_view_module_version": "1.2.0",
            "_view_name": "LayoutView",
            "align_content": null,
            "align_items": null,
            "align_self": null,
            "border": null,
            "bottom": null,
            "display": null,
            "flex": null,
            "flex_flow": null,
            "grid_area": null,
            "grid_auto_columns": null,
            "grid_auto_flow": null,
            "grid_auto_rows": null,
            "grid_column": null,
            "grid_gap": null,
            "grid_row": null,
            "grid_template_areas": null,
            "grid_template_columns": null,
            "grid_template_rows": null,
            "height": null,
            "justify_content": null,
            "justify_items": null,
            "left": null,
            "margin": null,
            "max_height": null,
            "max_width": null,
            "min_height": null,
            "min_width": null,
            "object_fit": null,
            "object_position": null,
            "order": null,
            "overflow": null,
            "overflow_x": null,
            "overflow_y": null,
            "padding": null,
            "right": null,
            "top": null,
            "visibility": null,
            "width": null
          }
        },
        "8f9ddf684bc0471e870ff12b2816733f": {
          "model_module": "@jupyter-widgets/controls",
          "model_name": "ProgressStyleModel",
          "model_module_version": "1.5.0",
          "state": {
            "_model_module": "@jupyter-widgets/controls",
            "_model_module_version": "1.5.0",
            "_model_name": "ProgressStyleModel",
            "_view_count": null,
            "_view_module": "@jupyter-widgets/base",
            "_view_module_version": "1.2.0",
            "_view_name": "StyleView",
            "bar_color": null,
            "description_width": ""
          }
        },
        "3229e08aa9074db8b64593dcfa03592e": {
          "model_module": "@jupyter-widgets/base",
          "model_name": "LayoutModel",
          "model_module_version": "1.2.0",
          "state": {
            "_model_module": "@jupyter-widgets/base",
            "_model_module_version": "1.2.0",
            "_model_name": "LayoutModel",
            "_view_count": null,
            "_view_module": "@jupyter-widgets/base",
            "_view_module_version": "1.2.0",
            "_view_name": "LayoutView",
            "align_content": null,
            "align_items": null,
            "align_self": null,
            "border": null,
            "bottom": null,
            "display": null,
            "flex": null,
            "flex_flow": null,
            "grid_area": null,
            "grid_auto_columns": null,
            "grid_auto_flow": null,
            "grid_auto_rows": null,
            "grid_column": null,
            "grid_gap": null,
            "grid_row": null,
            "grid_template_areas": null,
            "grid_template_columns": null,
            "grid_template_rows": null,
            "height": null,
            "justify_content": null,
            "justify_items": null,
            "left": null,
            "margin": null,
            "max_height": null,
            "max_width": null,
            "min_height": null,
            "min_width": null,
            "object_fit": null,
            "object_position": null,
            "order": null,
            "overflow": null,
            "overflow_x": null,
            "overflow_y": null,
            "padding": null,
            "right": null,
            "top": null,
            "visibility": null,
            "width": null
          }
        },
        "ed63adc77c5643b28d186e7ab875dad8": {
          "model_module": "@jupyter-widgets/controls",
          "model_name": "DescriptionStyleModel",
          "model_module_version": "1.5.0",
          "state": {
            "_model_module": "@jupyter-widgets/controls",
            "_model_module_version": "1.5.0",
            "_model_name": "DescriptionStyleModel",
            "_view_count": null,
            "_view_module": "@jupyter-widgets/base",
            "_view_module_version": "1.2.0",
            "_view_name": "StyleView",
            "description_width": ""
          }
        },
        "451d79b10ee648b3b83a52fbabd96634": {
          "model_module": "@jupyter-widgets/controls",
          "model_name": "HBoxModel",
          "model_module_version": "1.5.0",
          "state": {
            "_dom_classes": [],
            "_model_module": "@jupyter-widgets/controls",
            "_model_module_version": "1.5.0",
            "_model_name": "HBoxModel",
            "_view_count": null,
            "_view_module": "@jupyter-widgets/controls",
            "_view_module_version": "1.5.0",
            "_view_name": "HBoxView",
            "box_style": "",
            "children": [
              "IPY_MODEL_dc05a3de4371433991e606f755ca745d",
              "IPY_MODEL_1beba576516a41438243d48c91c91159",
              "IPY_MODEL_6ac1d645cdab472aaa89eccf4ba77a95"
            ],
            "layout": "IPY_MODEL_ea3d4adb594d4b38b68fca1b2af29e8a"
          }
        },
        "dc05a3de4371433991e606f755ca745d": {
          "model_module": "@jupyter-widgets/controls",
          "model_name": "HTMLModel",
          "model_module_version": "1.5.0",
          "state": {
            "_dom_classes": [],
            "_model_module": "@jupyter-widgets/controls",
            "_model_module_version": "1.5.0",
            "_model_name": "HTMLModel",
            "_view_count": null,
            "_view_module": "@jupyter-widgets/controls",
            "_view_module_version": "1.5.0",
            "_view_name": "HTMLView",
            "description": "",
            "description_tooltip": null,
            "layout": "IPY_MODEL_684a92f2802140c5ad901b31a31869ec",
            "placeholder": "​",
            "style": "IPY_MODEL_9715000bb58346a99ff2f6818af11438",
            "value": "config.json: 100%"
          }
        },
        "1beba576516a41438243d48c91c91159": {
          "model_module": "@jupyter-widgets/controls",
          "model_name": "FloatProgressModel",
          "model_module_version": "1.5.0",
          "state": {
            "_dom_classes": [],
            "_model_module": "@jupyter-widgets/controls",
            "_model_module_version": "1.5.0",
            "_model_name": "FloatProgressModel",
            "_view_count": null,
            "_view_module": "@jupyter-widgets/controls",
            "_view_module_version": "1.5.0",
            "_view_name": "ProgressView",
            "bar_style": "success",
            "description": "",
            "description_tooltip": null,
            "layout": "IPY_MODEL_4fb1ed0eef184f329af195b21e645752",
            "max": 466,
            "min": 0,
            "orientation": "horizontal",
            "style": "IPY_MODEL_db186a89fbdb4538a5ccb6e3be4f8e66",
            "value": 466
          }
        },
        "6ac1d645cdab472aaa89eccf4ba77a95": {
          "model_module": "@jupyter-widgets/controls",
          "model_name": "HTMLModel",
          "model_module_version": "1.5.0",
          "state": {
            "_dom_classes": [],
            "_model_module": "@jupyter-widgets/controls",
            "_model_module_version": "1.5.0",
            "_model_name": "HTMLModel",
            "_view_count": null,
            "_view_module": "@jupyter-widgets/controls",
            "_view_module_version": "1.5.0",
            "_view_name": "HTMLView",
            "description": "",
            "description_tooltip": null,
            "layout": "IPY_MODEL_e87bcb5e9ef0423ab42261109d4779fe",
            "placeholder": "​",
            "style": "IPY_MODEL_3de170ac60104b67b6dd50fffe847efc",
            "value": " 466/466 [00:00&lt;00:00, 16.7kB/s]"
          }
        },
        "ea3d4adb594d4b38b68fca1b2af29e8a": {
          "model_module": "@jupyter-widgets/base",
          "model_name": "LayoutModel",
          "model_module_version": "1.2.0",
          "state": {
            "_model_module": "@jupyter-widgets/base",
            "_model_module_version": "1.2.0",
            "_model_name": "LayoutModel",
            "_view_count": null,
            "_view_module": "@jupyter-widgets/base",
            "_view_module_version": "1.2.0",
            "_view_name": "LayoutView",
            "align_content": null,
            "align_items": null,
            "align_self": null,
            "border": null,
            "bottom": null,
            "display": null,
            "flex": null,
            "flex_flow": null,
            "grid_area": null,
            "grid_auto_columns": null,
            "grid_auto_flow": null,
            "grid_auto_rows": null,
            "grid_column": null,
            "grid_gap": null,
            "grid_row": null,
            "grid_template_areas": null,
            "grid_template_columns": null,
            "grid_template_rows": null,
            "height": null,
            "justify_content": null,
            "justify_items": null,
            "left": null,
            "margin": null,
            "max_height": null,
            "max_width": null,
            "min_height": null,
            "min_width": null,
            "object_fit": null,
            "object_position": null,
            "order": null,
            "overflow": null,
            "overflow_x": null,
            "overflow_y": null,
            "padding": null,
            "right": null,
            "top": null,
            "visibility": null,
            "width": null
          }
        },
        "684a92f2802140c5ad901b31a31869ec": {
          "model_module": "@jupyter-widgets/base",
          "model_name": "LayoutModel",
          "model_module_version": "1.2.0",
          "state": {
            "_model_module": "@jupyter-widgets/base",
            "_model_module_version": "1.2.0",
            "_model_name": "LayoutModel",
            "_view_count": null,
            "_view_module": "@jupyter-widgets/base",
            "_view_module_version": "1.2.0",
            "_view_name": "LayoutView",
            "align_content": null,
            "align_items": null,
            "align_self": null,
            "border": null,
            "bottom": null,
            "display": null,
            "flex": null,
            "flex_flow": null,
            "grid_area": null,
            "grid_auto_columns": null,
            "grid_auto_flow": null,
            "grid_auto_rows": null,
            "grid_column": null,
            "grid_gap": null,
            "grid_row": null,
            "grid_template_areas": null,
            "grid_template_columns": null,
            "grid_template_rows": null,
            "height": null,
            "justify_content": null,
            "justify_items": null,
            "left": null,
            "margin": null,
            "max_height": null,
            "max_width": null,
            "min_height": null,
            "min_width": null,
            "object_fit": null,
            "object_position": null,
            "order": null,
            "overflow": null,
            "overflow_x": null,
            "overflow_y": null,
            "padding": null,
            "right": null,
            "top": null,
            "visibility": null,
            "width": null
          }
        },
        "9715000bb58346a99ff2f6818af11438": {
          "model_module": "@jupyter-widgets/controls",
          "model_name": "DescriptionStyleModel",
          "model_module_version": "1.5.0",
          "state": {
            "_model_module": "@jupyter-widgets/controls",
            "_model_module_version": "1.5.0",
            "_model_name": "DescriptionStyleModel",
            "_view_count": null,
            "_view_module": "@jupyter-widgets/base",
            "_view_module_version": "1.2.0",
            "_view_name": "StyleView",
            "description_width": ""
          }
        },
        "4fb1ed0eef184f329af195b21e645752": {
          "model_module": "@jupyter-widgets/base",
          "model_name": "LayoutModel",
          "model_module_version": "1.2.0",
          "state": {
            "_model_module": "@jupyter-widgets/base",
            "_model_module_version": "1.2.0",
            "_model_name": "LayoutModel",
            "_view_count": null,
            "_view_module": "@jupyter-widgets/base",
            "_view_module_version": "1.2.0",
            "_view_name": "LayoutView",
            "align_content": null,
            "align_items": null,
            "align_self": null,
            "border": null,
            "bottom": null,
            "display": null,
            "flex": null,
            "flex_flow": null,
            "grid_area": null,
            "grid_auto_columns": null,
            "grid_auto_flow": null,
            "grid_auto_rows": null,
            "grid_column": null,
            "grid_gap": null,
            "grid_row": null,
            "grid_template_areas": null,
            "grid_template_columns": null,
            "grid_template_rows": null,
            "height": null,
            "justify_content": null,
            "justify_items": null,
            "left": null,
            "margin": null,
            "max_height": null,
            "max_width": null,
            "min_height": null,
            "min_width": null,
            "object_fit": null,
            "object_position": null,
            "order": null,
            "overflow": null,
            "overflow_x": null,
            "overflow_y": null,
            "padding": null,
            "right": null,
            "top": null,
            "visibility": null,
            "width": null
          }
        },
        "db186a89fbdb4538a5ccb6e3be4f8e66": {
          "model_module": "@jupyter-widgets/controls",
          "model_name": "ProgressStyleModel",
          "model_module_version": "1.5.0",
          "state": {
            "_model_module": "@jupyter-widgets/controls",
            "_model_module_version": "1.5.0",
            "_model_name": "ProgressStyleModel",
            "_view_count": null,
            "_view_module": "@jupyter-widgets/base",
            "_view_module_version": "1.2.0",
            "_view_name": "StyleView",
            "bar_color": null,
            "description_width": ""
          }
        },
        "e87bcb5e9ef0423ab42261109d4779fe": {
          "model_module": "@jupyter-widgets/base",
          "model_name": "LayoutModel",
          "model_module_version": "1.2.0",
          "state": {
            "_model_module": "@jupyter-widgets/base",
            "_model_module_version": "1.2.0",
            "_model_name": "LayoutModel",
            "_view_count": null,
            "_view_module": "@jupyter-widgets/base",
            "_view_module_version": "1.2.0",
            "_view_name": "LayoutView",
            "align_content": null,
            "align_items": null,
            "align_self": null,
            "border": null,
            "bottom": null,
            "display": null,
            "flex": null,
            "flex_flow": null,
            "grid_area": null,
            "grid_auto_columns": null,
            "grid_auto_flow": null,
            "grid_auto_rows": null,
            "grid_column": null,
            "grid_gap": null,
            "grid_row": null,
            "grid_template_areas": null,
            "grid_template_columns": null,
            "grid_template_rows": null,
            "height": null,
            "justify_content": null,
            "justify_items": null,
            "left": null,
            "margin": null,
            "max_height": null,
            "max_width": null,
            "min_height": null,
            "min_width": null,
            "object_fit": null,
            "object_position": null,
            "order": null,
            "overflow": null,
            "overflow_x": null,
            "overflow_y": null,
            "padding": null,
            "right": null,
            "top": null,
            "visibility": null,
            "width": null
          }
        },
        "3de170ac60104b67b6dd50fffe847efc": {
          "model_module": "@jupyter-widgets/controls",
          "model_name": "DescriptionStyleModel",
          "model_module_version": "1.5.0",
          "state": {
            "_model_module": "@jupyter-widgets/controls",
            "_model_module_version": "1.5.0",
            "_model_name": "DescriptionStyleModel",
            "_view_count": null,
            "_view_module": "@jupyter-widgets/base",
            "_view_module_version": "1.2.0",
            "_view_name": "StyleView",
            "description_width": ""
          }
        },
        "d460839b2157470cb18c3481b33dbbb5": {
          "model_module": "@jupyter-widgets/controls",
          "model_name": "HBoxModel",
          "model_module_version": "1.5.0",
          "state": {
            "_dom_classes": [],
            "_model_module": "@jupyter-widgets/controls",
            "_model_module_version": "1.5.0",
            "_model_name": "HBoxModel",
            "_view_count": null,
            "_view_module": "@jupyter-widgets/controls",
            "_view_module_version": "1.5.0",
            "_view_name": "HBoxView",
            "box_style": "",
            "children": [
              "IPY_MODEL_58338dc4162a44ceb1ecc15734f43673",
              "IPY_MODEL_0301f668d60a4f67a63de208c333f1ab",
              "IPY_MODEL_6595ac4a33df4946aeaeac128e9bacf4"
            ],
            "layout": "IPY_MODEL_7c00f909a1194d46a4e8b6eccfaf6db6"
          }
        },
        "58338dc4162a44ceb1ecc15734f43673": {
          "model_module": "@jupyter-widgets/controls",
          "model_name": "HTMLModel",
          "model_module_version": "1.5.0",
          "state": {
            "_dom_classes": [],
            "_model_module": "@jupyter-widgets/controls",
            "_model_module_version": "1.5.0",
            "_model_name": "HTMLModel",
            "_view_count": null,
            "_view_module": "@jupyter-widgets/controls",
            "_view_module_version": "1.5.0",
            "_view_name": "HTMLView",
            "description": "",
            "description_tooltip": null,
            "layout": "IPY_MODEL_934c12669f524d1ba61004769d39b88f",
            "placeholder": "​",
            "style": "IPY_MODEL_83899f32f05c4e17bdf9bc015ce80608",
            "value": "model.safetensors: 100%"
          }
        },
        "0301f668d60a4f67a63de208c333f1ab": {
          "model_module": "@jupyter-widgets/controls",
          "model_name": "FloatProgressModel",
          "model_module_version": "1.5.0",
          "state": {
            "_dom_classes": [],
            "_model_module": "@jupyter-widgets/controls",
            "_model_module_version": "1.5.0",
            "_model_name": "FloatProgressModel",
            "_view_count": null,
            "_view_module": "@jupyter-widgets/controls",
            "_view_module_version": "1.5.0",
            "_view_name": "ProgressView",
            "bar_style": "success",
            "description": "",
            "description_tooltip": null,
            "layout": "IPY_MODEL_6fd9eee0d9f94feabc8301bbd849b2c2",
            "max": 541795680,
            "min": 0,
            "orientation": "horizontal",
            "style": "IPY_MODEL_3ea4453717a34878bd2dea21fdb38a07",
            "value": 541795680
          }
        },
        "6595ac4a33df4946aeaeac128e9bacf4": {
          "model_module": "@jupyter-widgets/controls",
          "model_name": "HTMLModel",
          "model_module_version": "1.5.0",
          "state": {
            "_dom_classes": [],
            "_model_module": "@jupyter-widgets/controls",
            "_model_module_version": "1.5.0",
            "_model_name": "HTMLModel",
            "_view_count": null,
            "_view_module": "@jupyter-widgets/controls",
            "_view_module_version": "1.5.0",
            "_view_name": "HTMLView",
            "description": "",
            "description_tooltip": null,
            "layout": "IPY_MODEL_aaca1d67f6264615adcc78b7982c57e5",
            "placeholder": "​",
            "style": "IPY_MODEL_3cfa04a5cf4a4ff491d4194f169b6af5",
            "value": " 542M/542M [00:09&lt;00:00, 173MB/s]"
          }
        },
        "7c00f909a1194d46a4e8b6eccfaf6db6": {
          "model_module": "@jupyter-widgets/base",
          "model_name": "LayoutModel",
          "model_module_version": "1.2.0",
          "state": {
            "_model_module": "@jupyter-widgets/base",
            "_model_module_version": "1.2.0",
            "_model_name": "LayoutModel",
            "_view_count": null,
            "_view_module": "@jupyter-widgets/base",
            "_view_module_version": "1.2.0",
            "_view_name": "LayoutView",
            "align_content": null,
            "align_items": null,
            "align_self": null,
            "border": null,
            "bottom": null,
            "display": null,
            "flex": null,
            "flex_flow": null,
            "grid_area": null,
            "grid_auto_columns": null,
            "grid_auto_flow": null,
            "grid_auto_rows": null,
            "grid_column": null,
            "grid_gap": null,
            "grid_row": null,
            "grid_template_areas": null,
            "grid_template_columns": null,
            "grid_template_rows": null,
            "height": null,
            "justify_content": null,
            "justify_items": null,
            "left": null,
            "margin": null,
            "max_height": null,
            "max_width": null,
            "min_height": null,
            "min_width": null,
            "object_fit": null,
            "object_position": null,
            "order": null,
            "overflow": null,
            "overflow_x": null,
            "overflow_y": null,
            "padding": null,
            "right": null,
            "top": null,
            "visibility": null,
            "width": null
          }
        },
        "934c12669f524d1ba61004769d39b88f": {
          "model_module": "@jupyter-widgets/base",
          "model_name": "LayoutModel",
          "model_module_version": "1.2.0",
          "state": {
            "_model_module": "@jupyter-widgets/base",
            "_model_module_version": "1.2.0",
            "_model_name": "LayoutModel",
            "_view_count": null,
            "_view_module": "@jupyter-widgets/base",
            "_view_module_version": "1.2.0",
            "_view_name": "LayoutView",
            "align_content": null,
            "align_items": null,
            "align_self": null,
            "border": null,
            "bottom": null,
            "display": null,
            "flex": null,
            "flex_flow": null,
            "grid_area": null,
            "grid_auto_columns": null,
            "grid_auto_flow": null,
            "grid_auto_rows": null,
            "grid_column": null,
            "grid_gap": null,
            "grid_row": null,
            "grid_template_areas": null,
            "grid_template_columns": null,
            "grid_template_rows": null,
            "height": null,
            "justify_content": null,
            "justify_items": null,
            "left": null,
            "margin": null,
            "max_height": null,
            "max_width": null,
            "min_height": null,
            "min_width": null,
            "object_fit": null,
            "object_position": null,
            "order": null,
            "overflow": null,
            "overflow_x": null,
            "overflow_y": null,
            "padding": null,
            "right": null,
            "top": null,
            "visibility": null,
            "width": null
          }
        },
        "83899f32f05c4e17bdf9bc015ce80608": {
          "model_module": "@jupyter-widgets/controls",
          "model_name": "DescriptionStyleModel",
          "model_module_version": "1.5.0",
          "state": {
            "_model_module": "@jupyter-widgets/controls",
            "_model_module_version": "1.5.0",
            "_model_name": "DescriptionStyleModel",
            "_view_count": null,
            "_view_module": "@jupyter-widgets/base",
            "_view_module_version": "1.2.0",
            "_view_name": "StyleView",
            "description_width": ""
          }
        },
        "6fd9eee0d9f94feabc8301bbd849b2c2": {
          "model_module": "@jupyter-widgets/base",
          "model_name": "LayoutModel",
          "model_module_version": "1.2.0",
          "state": {
            "_model_module": "@jupyter-widgets/base",
            "_model_module_version": "1.2.0",
            "_model_name": "LayoutModel",
            "_view_count": null,
            "_view_module": "@jupyter-widgets/base",
            "_view_module_version": "1.2.0",
            "_view_name": "LayoutView",
            "align_content": null,
            "align_items": null,
            "align_self": null,
            "border": null,
            "bottom": null,
            "display": null,
            "flex": null,
            "flex_flow": null,
            "grid_area": null,
            "grid_auto_columns": null,
            "grid_auto_flow": null,
            "grid_auto_rows": null,
            "grid_column": null,
            "grid_gap": null,
            "grid_row": null,
            "grid_template_areas": null,
            "grid_template_columns": null,
            "grid_template_rows": null,
            "height": null,
            "justify_content": null,
            "justify_items": null,
            "left": null,
            "margin": null,
            "max_height": null,
            "max_width": null,
            "min_height": null,
            "min_width": null,
            "object_fit": null,
            "object_position": null,
            "order": null,
            "overflow": null,
            "overflow_x": null,
            "overflow_y": null,
            "padding": null,
            "right": null,
            "top": null,
            "visibility": null,
            "width": null
          }
        },
        "3ea4453717a34878bd2dea21fdb38a07": {
          "model_module": "@jupyter-widgets/controls",
          "model_name": "ProgressStyleModel",
          "model_module_version": "1.5.0",
          "state": {
            "_model_module": "@jupyter-widgets/controls",
            "_model_module_version": "1.5.0",
            "_model_name": "ProgressStyleModel",
            "_view_count": null,
            "_view_module": "@jupyter-widgets/base",
            "_view_module_version": "1.2.0",
            "_view_name": "StyleView",
            "bar_color": null,
            "description_width": ""
          }
        },
        "aaca1d67f6264615adcc78b7982c57e5": {
          "model_module": "@jupyter-widgets/base",
          "model_name": "LayoutModel",
          "model_module_version": "1.2.0",
          "state": {
            "_model_module": "@jupyter-widgets/base",
            "_model_module_version": "1.2.0",
            "_model_name": "LayoutModel",
            "_view_count": null,
            "_view_module": "@jupyter-widgets/base",
            "_view_module_version": "1.2.0",
            "_view_name": "LayoutView",
            "align_content": null,
            "align_items": null,
            "align_self": null,
            "border": null,
            "bottom": null,
            "display": null,
            "flex": null,
            "flex_flow": null,
            "grid_area": null,
            "grid_auto_columns": null,
            "grid_auto_flow": null,
            "grid_auto_rows": null,
            "grid_column": null,
            "grid_gap": null,
            "grid_row": null,
            "grid_template_areas": null,
            "grid_template_columns": null,
            "grid_template_rows": null,
            "height": null,
            "justify_content": null,
            "justify_items": null,
            "left": null,
            "margin": null,
            "max_height": null,
            "max_width": null,
            "min_height": null,
            "min_width": null,
            "object_fit": null,
            "object_position": null,
            "order": null,
            "overflow": null,
            "overflow_x": null,
            "overflow_y": null,
            "padding": null,
            "right": null,
            "top": null,
            "visibility": null,
            "width": null
          }
        },
        "3cfa04a5cf4a4ff491d4194f169b6af5": {
          "model_module": "@jupyter-widgets/controls",
          "model_name": "DescriptionStyleModel",
          "model_module_version": "1.5.0",
          "state": {
            "_model_module": "@jupyter-widgets/controls",
            "_model_module_version": "1.5.0",
            "_model_name": "DescriptionStyleModel",
            "_view_count": null,
            "_view_module": "@jupyter-widgets/base",
            "_view_module_version": "1.2.0",
            "_view_name": "StyleView",
            "description_width": ""
          }
        }
      }
    }
  },
  "nbformat": 4,
  "nbformat_minor": 0
}